{
  "nbformat": 4,
  "nbformat_minor": 0,
  "metadata": {
    "colab": {
      "provenance": [],
      "gpuType": "T4",
      "authorship_tag": "ABX9TyN1dWhHjUwtXYxspwlitQhV",
      "include_colab_link": true
    },
    "kernelspec": {
      "name": "python3",
      "display_name": "Python 3"
    },
    "language_info": {
      "name": "python"
    },
    "accelerator": "GPU"
  },
  "cells": [
    {
      "cell_type": "markdown",
      "metadata": {
        "id": "view-in-github",
        "colab_type": "text"
      },
      "source": [
        "<a href=\"https://colab.research.google.com/github/arumishra/Bachelor-Thesis-Project/blob/main/btpworkfullgrid.ipynb\" target=\"_parent\"><img src=\"https://colab.research.google.com/assets/colab-badge.svg\" alt=\"Open In Colab\"/></a>"
      ]
    },
    {
      "cell_type": "code",
      "execution_count": 1,
      "metadata": {
        "id": "rat7q2PSl_DP"
      },
      "outputs": [],
      "source": [
        "import tensorflow as tf\n",
        "import numpy as np"
      ]
    },
    {
      "cell_type": "code",
      "source": [
        "import pandas as pd"
      ],
      "metadata": {
        "id": "-ifeVPFhmG4U"
      },
      "execution_count": 2,
      "outputs": []
    },
    {
      "cell_type": "code",
      "source": [
        "df=pd.read_csv('/content/b5.csv')"
      ],
      "metadata": {
        "id": "9oRWFHRbmG6j"
      },
      "execution_count": 3,
      "outputs": []
    },
    {
      "cell_type": "code",
      "source": [
        "df"
      ],
      "metadata": {
        "colab": {
          "base_uri": "https://localhost:8080/",
          "height": 423
        },
        "id": "WOsKSo53mG82",
        "outputId": "0817a560-aece-4aee-900a-32e6efb20e71"
      },
      "execution_count": 4,
      "outputs": [
        {
          "output_type": "execute_result",
          "data": {
            "text/plain": [
              "            x     y       u       v       p   totime\n",
              "0         0.4  10.0  1.0001 -0.0006  0.0135  252.999\n",
              "1         1.0  10.0  1.0002 -0.0014  0.0134  252.999\n",
              "2         1.6  10.0  1.0005 -0.0023  0.0132  252.999\n",
              "3         2.2  10.0  1.0008 -0.0031  0.0129  252.999\n",
              "4         2.8  10.0  1.0011 -0.0039  0.0125  252.999\n",
              "...       ...   ...     ...     ...     ...      ...\n",
              "1029345  39.2  30.0  1.0138  0.0005  0.0064  256.999\n",
              "1029346  39.4  30.0  1.0138  0.0005  0.0064  256.999\n",
              "1029347  39.6  30.0  1.0138  0.0005  0.0064  256.999\n",
              "1029348  39.8  30.0  1.0139  0.0004  0.0065  256.999\n",
              "1029349  40.0  30.0  0.5070  0.0004  0.0032  256.999\n",
              "\n",
              "[1029350 rows x 6 columns]"
            ],
            "text/html": [
              "\n",
              "  <div id=\"df-3cf1e901-4ec0-453c-893c-1414e3404faa\" class=\"colab-df-container\">\n",
              "    <div>\n",
              "<style scoped>\n",
              "    .dataframe tbody tr th:only-of-type {\n",
              "        vertical-align: middle;\n",
              "    }\n",
              "\n",
              "    .dataframe tbody tr th {\n",
              "        vertical-align: top;\n",
              "    }\n",
              "\n",
              "    .dataframe thead th {\n",
              "        text-align: right;\n",
              "    }\n",
              "</style>\n",
              "<table border=\"1\" class=\"dataframe\">\n",
              "  <thead>\n",
              "    <tr style=\"text-align: right;\">\n",
              "      <th></th>\n",
              "      <th>x</th>\n",
              "      <th>y</th>\n",
              "      <th>u</th>\n",
              "      <th>v</th>\n",
              "      <th>p</th>\n",
              "      <th>totime</th>\n",
              "    </tr>\n",
              "  </thead>\n",
              "  <tbody>\n",
              "    <tr>\n",
              "      <th>0</th>\n",
              "      <td>0.4</td>\n",
              "      <td>10.0</td>\n",
              "      <td>1.0001</td>\n",
              "      <td>-0.0006</td>\n",
              "      <td>0.0135</td>\n",
              "      <td>252.999</td>\n",
              "    </tr>\n",
              "    <tr>\n",
              "      <th>1</th>\n",
              "      <td>1.0</td>\n",
              "      <td>10.0</td>\n",
              "      <td>1.0002</td>\n",
              "      <td>-0.0014</td>\n",
              "      <td>0.0134</td>\n",
              "      <td>252.999</td>\n",
              "    </tr>\n",
              "    <tr>\n",
              "      <th>2</th>\n",
              "      <td>1.6</td>\n",
              "      <td>10.0</td>\n",
              "      <td>1.0005</td>\n",
              "      <td>-0.0023</td>\n",
              "      <td>0.0132</td>\n",
              "      <td>252.999</td>\n",
              "    </tr>\n",
              "    <tr>\n",
              "      <th>3</th>\n",
              "      <td>2.2</td>\n",
              "      <td>10.0</td>\n",
              "      <td>1.0008</td>\n",
              "      <td>-0.0031</td>\n",
              "      <td>0.0129</td>\n",
              "      <td>252.999</td>\n",
              "    </tr>\n",
              "    <tr>\n",
              "      <th>4</th>\n",
              "      <td>2.8</td>\n",
              "      <td>10.0</td>\n",
              "      <td>1.0011</td>\n",
              "      <td>-0.0039</td>\n",
              "      <td>0.0125</td>\n",
              "      <td>252.999</td>\n",
              "    </tr>\n",
              "    <tr>\n",
              "      <th>...</th>\n",
              "      <td>...</td>\n",
              "      <td>...</td>\n",
              "      <td>...</td>\n",
              "      <td>...</td>\n",
              "      <td>...</td>\n",
              "      <td>...</td>\n",
              "    </tr>\n",
              "    <tr>\n",
              "      <th>1029345</th>\n",
              "      <td>39.2</td>\n",
              "      <td>30.0</td>\n",
              "      <td>1.0138</td>\n",
              "      <td>0.0005</td>\n",
              "      <td>0.0064</td>\n",
              "      <td>256.999</td>\n",
              "    </tr>\n",
              "    <tr>\n",
              "      <th>1029346</th>\n",
              "      <td>39.4</td>\n",
              "      <td>30.0</td>\n",
              "      <td>1.0138</td>\n",
              "      <td>0.0005</td>\n",
              "      <td>0.0064</td>\n",
              "      <td>256.999</td>\n",
              "    </tr>\n",
              "    <tr>\n",
              "      <th>1029347</th>\n",
              "      <td>39.6</td>\n",
              "      <td>30.0</td>\n",
              "      <td>1.0138</td>\n",
              "      <td>0.0005</td>\n",
              "      <td>0.0064</td>\n",
              "      <td>256.999</td>\n",
              "    </tr>\n",
              "    <tr>\n",
              "      <th>1029348</th>\n",
              "      <td>39.8</td>\n",
              "      <td>30.0</td>\n",
              "      <td>1.0139</td>\n",
              "      <td>0.0004</td>\n",
              "      <td>0.0065</td>\n",
              "      <td>256.999</td>\n",
              "    </tr>\n",
              "    <tr>\n",
              "      <th>1029349</th>\n",
              "      <td>40.0</td>\n",
              "      <td>30.0</td>\n",
              "      <td>0.5070</td>\n",
              "      <td>0.0004</td>\n",
              "      <td>0.0032</td>\n",
              "      <td>256.999</td>\n",
              "    </tr>\n",
              "  </tbody>\n",
              "</table>\n",
              "<p>1029350 rows × 6 columns</p>\n",
              "</div>\n",
              "    <div class=\"colab-df-buttons\">\n",
              "\n",
              "  <div class=\"colab-df-container\">\n",
              "    <button class=\"colab-df-convert\" onclick=\"convertToInteractive('df-3cf1e901-4ec0-453c-893c-1414e3404faa')\"\n",
              "            title=\"Convert this dataframe to an interactive table.\"\n",
              "            style=\"display:none;\">\n",
              "\n",
              "  <svg xmlns=\"http://www.w3.org/2000/svg\" height=\"24px\" viewBox=\"0 -960 960 960\">\n",
              "    <path d=\"M120-120v-720h720v720H120Zm60-500h600v-160H180v160Zm220 220h160v-160H400v160Zm0 220h160v-160H400v160ZM180-400h160v-160H180v160Zm440 0h160v-160H620v160ZM180-180h160v-160H180v160Zm440 0h160v-160H620v160Z\"/>\n",
              "  </svg>\n",
              "    </button>\n",
              "\n",
              "  <style>\n",
              "    .colab-df-container {\n",
              "      display:flex;\n",
              "      gap: 12px;\n",
              "    }\n",
              "\n",
              "    .colab-df-convert {\n",
              "      background-color: #E8F0FE;\n",
              "      border: none;\n",
              "      border-radius: 50%;\n",
              "      cursor: pointer;\n",
              "      display: none;\n",
              "      fill: #1967D2;\n",
              "      height: 32px;\n",
              "      padding: 0 0 0 0;\n",
              "      width: 32px;\n",
              "    }\n",
              "\n",
              "    .colab-df-convert:hover {\n",
              "      background-color: #E2EBFA;\n",
              "      box-shadow: 0px 1px 2px rgba(60, 64, 67, 0.3), 0px 1px 3px 1px rgba(60, 64, 67, 0.15);\n",
              "      fill: #174EA6;\n",
              "    }\n",
              "\n",
              "    .colab-df-buttons div {\n",
              "      margin-bottom: 4px;\n",
              "    }\n",
              "\n",
              "    [theme=dark] .colab-df-convert {\n",
              "      background-color: #3B4455;\n",
              "      fill: #D2E3FC;\n",
              "    }\n",
              "\n",
              "    [theme=dark] .colab-df-convert:hover {\n",
              "      background-color: #434B5C;\n",
              "      box-shadow: 0px 1px 3px 1px rgba(0, 0, 0, 0.15);\n",
              "      filter: drop-shadow(0px 1px 2px rgba(0, 0, 0, 0.3));\n",
              "      fill: #FFFFFF;\n",
              "    }\n",
              "  </style>\n",
              "\n",
              "    <script>\n",
              "      const buttonEl =\n",
              "        document.querySelector('#df-3cf1e901-4ec0-453c-893c-1414e3404faa button.colab-df-convert');\n",
              "      buttonEl.style.display =\n",
              "        google.colab.kernel.accessAllowed ? 'block' : 'none';\n",
              "\n",
              "      async function convertToInteractive(key) {\n",
              "        const element = document.querySelector('#df-3cf1e901-4ec0-453c-893c-1414e3404faa');\n",
              "        const dataTable =\n",
              "          await google.colab.kernel.invokeFunction('convertToInteractive',\n",
              "                                                    [key], {});\n",
              "        if (!dataTable) return;\n",
              "\n",
              "        const docLinkHtml = 'Like what you see? Visit the ' +\n",
              "          '<a target=\"_blank\" href=https://colab.research.google.com/notebooks/data_table.ipynb>data table notebook</a>'\n",
              "          + ' to learn more about interactive tables.';\n",
              "        element.innerHTML = '';\n",
              "        dataTable['output_type'] = 'display_data';\n",
              "        await google.colab.output.renderOutput(dataTable, element);\n",
              "        const docLink = document.createElement('div');\n",
              "        docLink.innerHTML = docLinkHtml;\n",
              "        element.appendChild(docLink);\n",
              "      }\n",
              "    </script>\n",
              "  </div>\n",
              "\n",
              "\n",
              "<div id=\"df-67bf92d6-af2b-46a3-a136-7a8d9c0b488b\">\n",
              "  <button class=\"colab-df-quickchart\" onclick=\"quickchart('df-67bf92d6-af2b-46a3-a136-7a8d9c0b488b')\"\n",
              "            title=\"Suggest charts\"\n",
              "            style=\"display:none;\">\n",
              "\n",
              "<svg xmlns=\"http://www.w3.org/2000/svg\" height=\"24px\"viewBox=\"0 0 24 24\"\n",
              "     width=\"24px\">\n",
              "    <g>\n",
              "        <path d=\"M19 3H5c-1.1 0-2 .9-2 2v14c0 1.1.9 2 2 2h14c1.1 0 2-.9 2-2V5c0-1.1-.9-2-2-2zM9 17H7v-7h2v7zm4 0h-2V7h2v10zm4 0h-2v-4h2v4z\"/>\n",
              "    </g>\n",
              "</svg>\n",
              "  </button>\n",
              "\n",
              "<style>\n",
              "  .colab-df-quickchart {\n",
              "      --bg-color: #E8F0FE;\n",
              "      --fill-color: #1967D2;\n",
              "      --hover-bg-color: #E2EBFA;\n",
              "      --hover-fill-color: #174EA6;\n",
              "      --disabled-fill-color: #AAA;\n",
              "      --disabled-bg-color: #DDD;\n",
              "  }\n",
              "\n",
              "  [theme=dark] .colab-df-quickchart {\n",
              "      --bg-color: #3B4455;\n",
              "      --fill-color: #D2E3FC;\n",
              "      --hover-bg-color: #434B5C;\n",
              "      --hover-fill-color: #FFFFFF;\n",
              "      --disabled-bg-color: #3B4455;\n",
              "      --disabled-fill-color: #666;\n",
              "  }\n",
              "\n",
              "  .colab-df-quickchart {\n",
              "    background-color: var(--bg-color);\n",
              "    border: none;\n",
              "    border-radius: 50%;\n",
              "    cursor: pointer;\n",
              "    display: none;\n",
              "    fill: var(--fill-color);\n",
              "    height: 32px;\n",
              "    padding: 0;\n",
              "    width: 32px;\n",
              "  }\n",
              "\n",
              "  .colab-df-quickchart:hover {\n",
              "    background-color: var(--hover-bg-color);\n",
              "    box-shadow: 0 1px 2px rgba(60, 64, 67, 0.3), 0 1px 3px 1px rgba(60, 64, 67, 0.15);\n",
              "    fill: var(--button-hover-fill-color);\n",
              "  }\n",
              "\n",
              "  .colab-df-quickchart-complete:disabled,\n",
              "  .colab-df-quickchart-complete:disabled:hover {\n",
              "    background-color: var(--disabled-bg-color);\n",
              "    fill: var(--disabled-fill-color);\n",
              "    box-shadow: none;\n",
              "  }\n",
              "\n",
              "  .colab-df-spinner {\n",
              "    border: 2px solid var(--fill-color);\n",
              "    border-color: transparent;\n",
              "    border-bottom-color: var(--fill-color);\n",
              "    animation:\n",
              "      spin 1s steps(1) infinite;\n",
              "  }\n",
              "\n",
              "  @keyframes spin {\n",
              "    0% {\n",
              "      border-color: transparent;\n",
              "      border-bottom-color: var(--fill-color);\n",
              "      border-left-color: var(--fill-color);\n",
              "    }\n",
              "    20% {\n",
              "      border-color: transparent;\n",
              "      border-left-color: var(--fill-color);\n",
              "      border-top-color: var(--fill-color);\n",
              "    }\n",
              "    30% {\n",
              "      border-color: transparent;\n",
              "      border-left-color: var(--fill-color);\n",
              "      border-top-color: var(--fill-color);\n",
              "      border-right-color: var(--fill-color);\n",
              "    }\n",
              "    40% {\n",
              "      border-color: transparent;\n",
              "      border-right-color: var(--fill-color);\n",
              "      border-top-color: var(--fill-color);\n",
              "    }\n",
              "    60% {\n",
              "      border-color: transparent;\n",
              "      border-right-color: var(--fill-color);\n",
              "    }\n",
              "    80% {\n",
              "      border-color: transparent;\n",
              "      border-right-color: var(--fill-color);\n",
              "      border-bottom-color: var(--fill-color);\n",
              "    }\n",
              "    90% {\n",
              "      border-color: transparent;\n",
              "      border-bottom-color: var(--fill-color);\n",
              "    }\n",
              "  }\n",
              "</style>\n",
              "\n",
              "  <script>\n",
              "    async function quickchart(key) {\n",
              "      const quickchartButtonEl =\n",
              "        document.querySelector('#' + key + ' button');\n",
              "      quickchartButtonEl.disabled = true;  // To prevent multiple clicks.\n",
              "      quickchartButtonEl.classList.add('colab-df-spinner');\n",
              "      try {\n",
              "        const charts = await google.colab.kernel.invokeFunction(\n",
              "            'suggestCharts', [key], {});\n",
              "      } catch (error) {\n",
              "        console.error('Error during call to suggestCharts:', error);\n",
              "      }\n",
              "      quickchartButtonEl.classList.remove('colab-df-spinner');\n",
              "      quickchartButtonEl.classList.add('colab-df-quickchart-complete');\n",
              "    }\n",
              "    (() => {\n",
              "      let quickchartButtonEl =\n",
              "        document.querySelector('#df-67bf92d6-af2b-46a3-a136-7a8d9c0b488b button');\n",
              "      quickchartButtonEl.style.display =\n",
              "        google.colab.kernel.accessAllowed ? 'block' : 'none';\n",
              "    })();\n",
              "  </script>\n",
              "</div>\n",
              "\n",
              "  <div id=\"id_bc8bd9d1-19c2-4412-81ee-a99732b4be6d\">\n",
              "    <style>\n",
              "      .colab-df-generate {\n",
              "        background-color: #E8F0FE;\n",
              "        border: none;\n",
              "        border-radius: 50%;\n",
              "        cursor: pointer;\n",
              "        display: none;\n",
              "        fill: #1967D2;\n",
              "        height: 32px;\n",
              "        padding: 0 0 0 0;\n",
              "        width: 32px;\n",
              "      }\n",
              "\n",
              "      .colab-df-generate:hover {\n",
              "        background-color: #E2EBFA;\n",
              "        box-shadow: 0px 1px 2px rgba(60, 64, 67, 0.3), 0px 1px 3px 1px rgba(60, 64, 67, 0.15);\n",
              "        fill: #174EA6;\n",
              "      }\n",
              "\n",
              "      [theme=dark] .colab-df-generate {\n",
              "        background-color: #3B4455;\n",
              "        fill: #D2E3FC;\n",
              "      }\n",
              "\n",
              "      [theme=dark] .colab-df-generate:hover {\n",
              "        background-color: #434B5C;\n",
              "        box-shadow: 0px 1px 3px 1px rgba(0, 0, 0, 0.15);\n",
              "        filter: drop-shadow(0px 1px 2px rgba(0, 0, 0, 0.3));\n",
              "        fill: #FFFFFF;\n",
              "      }\n",
              "    </style>\n",
              "    <button class=\"colab-df-generate\" onclick=\"generateWithVariable('df')\"\n",
              "            title=\"Generate code using this dataframe.\"\n",
              "            style=\"display:none;\">\n",
              "\n",
              "  <svg xmlns=\"http://www.w3.org/2000/svg\" height=\"24px\"viewBox=\"0 0 24 24\"\n",
              "       width=\"24px\">\n",
              "    <path d=\"M7,19H8.4L18.45,9,17,7.55,7,17.6ZM5,21V16.75L18.45,3.32a2,2,0,0,1,2.83,0l1.4,1.43a1.91,1.91,0,0,1,.58,1.4,1.91,1.91,0,0,1-.58,1.4L9.25,21ZM18.45,9,17,7.55Zm-12,3A5.31,5.31,0,0,0,4.9,8.1,5.31,5.31,0,0,0,1,6.5,5.31,5.31,0,0,0,4.9,4.9,5.31,5.31,0,0,0,6.5,1,5.31,5.31,0,0,0,8.1,4.9,5.31,5.31,0,0,0,12,6.5,5.46,5.46,0,0,0,6.5,12Z\"/>\n",
              "  </svg>\n",
              "    </button>\n",
              "    <script>\n",
              "      (() => {\n",
              "      const buttonEl =\n",
              "        document.querySelector('#id_bc8bd9d1-19c2-4412-81ee-a99732b4be6d button.colab-df-generate');\n",
              "      buttonEl.style.display =\n",
              "        google.colab.kernel.accessAllowed ? 'block' : 'none';\n",
              "\n",
              "      buttonEl.onclick = () => {\n",
              "        google.colab.notebook.generateWithVariable('df');\n",
              "      }\n",
              "      })();\n",
              "    </script>\n",
              "  </div>\n",
              "\n",
              "    </div>\n",
              "  </div>\n"
            ],
            "application/vnd.google.colaboratory.intrinsic+json": {
              "type": "dataframe",
              "variable_name": "df"
            }
          },
          "metadata": {},
          "execution_count": 4
        }
      ]
    },
    {
      "cell_type": "code",
      "source": [
        "count=(df['totime']==252.999).sum()\n",
        "count"
      ],
      "metadata": {
        "colab": {
          "base_uri": "https://localhost:8080/"
        },
        "id": "HHD5nl55mG_U",
        "outputId": "3a45cb22-b9bb-42dc-881b-95f915016756"
      },
      "execution_count": 5,
      "outputs": [
        {
          "output_type": "execute_result",
          "data": {
            "text/plain": [
              "np.int64(205870)"
            ]
          },
          "metadata": {},
          "execution_count": 5
        }
      ]
    },
    {
      "cell_type": "code",
      "source": [
        "count=(df['totime']==253.999).sum()\n",
        "count"
      ],
      "metadata": {
        "colab": {
          "base_uri": "https://localhost:8080/"
        },
        "id": "ESS0FGlomHBu",
        "outputId": "cf826507-3f60-4a5f-831e-7040cf491657"
      },
      "execution_count": 6,
      "outputs": [
        {
          "output_type": "execute_result",
          "data": {
            "text/plain": [
              "np.int64(205870)"
            ]
          },
          "metadata": {},
          "execution_count": 6
        }
      ]
    },
    {
      "cell_type": "code",
      "source": [
        "count=(df['totime']==254.999).sum()\n",
        "count"
      ],
      "metadata": {
        "colab": {
          "base_uri": "https://localhost:8080/"
        },
        "id": "rB8XgtXWmHER",
        "outputId": "c26005f5-e05d-4b2d-80cf-75a0496b180b"
      },
      "execution_count": 7,
      "outputs": [
        {
          "output_type": "execute_result",
          "data": {
            "text/plain": [
              "np.int64(205870)"
            ]
          },
          "metadata": {},
          "execution_count": 7
        }
      ]
    },
    {
      "cell_type": "code",
      "source": [
        "count=(df['totime']==255.999).sum()\n",
        "count"
      ],
      "metadata": {
        "colab": {
          "base_uri": "https://localhost:8080/"
        },
        "id": "S_TZWChCmHGs",
        "outputId": "740ecdf4-3909-42e4-a124-a17a752c4053"
      },
      "execution_count": 8,
      "outputs": [
        {
          "output_type": "execute_result",
          "data": {
            "text/plain": [
              "np.int64(205870)"
            ]
          },
          "metadata": {},
          "execution_count": 8
        }
      ]
    },
    {
      "cell_type": "code",
      "source": [
        "count=(df['totime']==256.999).sum()\n",
        "count"
      ],
      "metadata": {
        "colab": {
          "base_uri": "https://localhost:8080/"
        },
        "id": "iXLlIRhBmHJP",
        "outputId": "67db4ecb-3a57-4d87-f38f-e84da8919c8a"
      },
      "execution_count": 9,
      "outputs": [
        {
          "output_type": "execute_result",
          "data": {
            "text/plain": [
              "np.int64(205870)"
            ]
          },
          "metadata": {},
          "execution_count": 9
        }
      ]
    },
    {
      "cell_type": "code",
      "source": [
        "master_tensor=np.zeros((5,205870,5),dtype=np.float32)\n",
        "master_tensor"
      ],
      "metadata": {
        "colab": {
          "base_uri": "https://localhost:8080/"
        },
        "id": "i7Nt_LDDmHL3",
        "outputId": "5040ba67-1bf3-4fe8-c46c-18ba21684f66"
      },
      "execution_count": 10,
      "outputs": [
        {
          "output_type": "execute_result",
          "data": {
            "text/plain": [
              "array([[[0., 0., 0., 0., 0.],\n",
              "        [0., 0., 0., 0., 0.],\n",
              "        [0., 0., 0., 0., 0.],\n",
              "        ...,\n",
              "        [0., 0., 0., 0., 0.],\n",
              "        [0., 0., 0., 0., 0.],\n",
              "        [0., 0., 0., 0., 0.]],\n",
              "\n",
              "       [[0., 0., 0., 0., 0.],\n",
              "        [0., 0., 0., 0., 0.],\n",
              "        [0., 0., 0., 0., 0.],\n",
              "        ...,\n",
              "        [0., 0., 0., 0., 0.],\n",
              "        [0., 0., 0., 0., 0.],\n",
              "        [0., 0., 0., 0., 0.]],\n",
              "\n",
              "       [[0., 0., 0., 0., 0.],\n",
              "        [0., 0., 0., 0., 0.],\n",
              "        [0., 0., 0., 0., 0.],\n",
              "        ...,\n",
              "        [0., 0., 0., 0., 0.],\n",
              "        [0., 0., 0., 0., 0.],\n",
              "        [0., 0., 0., 0., 0.]],\n",
              "\n",
              "       [[0., 0., 0., 0., 0.],\n",
              "        [0., 0., 0., 0., 0.],\n",
              "        [0., 0., 0., 0., 0.],\n",
              "        ...,\n",
              "        [0., 0., 0., 0., 0.],\n",
              "        [0., 0., 0., 0., 0.],\n",
              "        [0., 0., 0., 0., 0.]],\n",
              "\n",
              "       [[0., 0., 0., 0., 0.],\n",
              "        [0., 0., 0., 0., 0.],\n",
              "        [0., 0., 0., 0., 0.],\n",
              "        ...,\n",
              "        [0., 0., 0., 0., 0.],\n",
              "        [0., 0., 0., 0., 0.],\n",
              "        [0., 0., 0., 0., 0.]]], dtype=float32)"
            ]
          },
          "metadata": {},
          "execution_count": 10
        }
      ]
    },
    {
      "cell_type": "code",
      "source": [
        "data=df"
      ],
      "metadata": {
        "id": "KaEUd3V9mHOp"
      },
      "execution_count": 11,
      "outputs": []
    },
    {
      "cell_type": "code",
      "source": [
        "import tensorflow as tf\n",
        "from tensorflow.keras import layers\n",
        "\n",
        "class SpatioTemporalTransformer(tf.keras.Model):\n",
        "    def __init__(self, input_dim=3, output_dim=3, d_model=128, num_heads=8, num_layers=6, ff_dim=512, dropout_rate=0.1):\n",
        "        super(SpatioTemporalTransformer, self).__init__()\n",
        "\n",
        "        # Input projection: project input (t, x, y) to d_model dimension\n",
        "        self.input_projection = layers.Dense(d_model)\n",
        "\n",
        "        # Positional encoding\n",
        "        self.positional_encoding = PositionalEncoding(d_model)\n",
        "\n",
        "        # Transformer layers\n",
        "        self.encoder_layers = [TransformerEncoderLayer(d_model, num_heads, ff_dim, dropout_rate) for _ in range(num_layers)]\n",
        "\n",
        "        # Output projection: project transformer output to (u, v, p)\n",
        "        self.output_projection = layers.Dense(output_dim)\n",
        "\n",
        "    def call(self, inputs):\n",
        "        \"\"\"\n",
        "        Forward pass for the transformer model.\n",
        "        Args:\n",
        "        - inputs: Tensor of shape (batch_size, seq_len, input_dim) -> (t, x, y)\n",
        "\n",
        "        Returns:\n",
        "        - output: Tensor of shape (batch_size, seq_len, output_dim) -> (u, v, p)\n",
        "        \"\"\"\n",
        "        # Apply input projection\n",
        "        x = self.input_projection(inputs)\n",
        "\n",
        "        # Apply positional encoding\n",
        "        x = self.positional_encoding(x)\n",
        "\n",
        "        # Forward through transformer encoder layers\n",
        "        for layer in self.encoder_layers:\n",
        "            x = layer(x)\n",
        "\n",
        "        # Output projection to (u, v, p)\n",
        "        output = self.output_projection(x)\n",
        "\n",
        "        return output\n",
        "\n",
        "class PositionalEncoding(layers.Layer):\n",
        "    def __init__(self, d_model, max_len=7000):\n",
        "        super(PositionalEncoding, self).__init__()\n",
        "        self.d_model = d_model\n",
        "\n",
        "        # Create the positional encoding matrix using sine and cosine\n",
        "        position = tf.range(max_len, dtype=tf.float32)[:, tf.newaxis]\n",
        "        div_term = tf.exp(tf.range(0, d_model, 2, dtype=tf.float32) * (-tf.math.log(10000.0) / d_model))\n",
        "\n",
        "        pe_sin = tf.sin(position * div_term)\n",
        "        pe_cos = tf.cos(position * div_term)\n",
        "\n",
        "        # Concatenate sine and cosine terms along the last dimension\n",
        "        pe = tf.concat([pe_sin, pe_cos], axis=-1)\n",
        "\n",
        "        # Add an extra batch dimension at the start, so shape becomes (1, max_len, d_model)\n",
        "        pe = tf.expand_dims(pe, 0)\n",
        "        self.positional_encoding = tf.Variable(pe, trainable=False)\n",
        "\n",
        "    def call(self, x):\n",
        "        \"\"\"\n",
        "        Forward pass for positional encoding.\n",
        "        Args:\n",
        "        - x: Tensor of shape (batch_size, seq_len, d_model)\n",
        "\n",
        "        Returns:\n",
        "        - x: Tensor with positional encoding added\n",
        "        \"\"\"\n",
        "        seq_len = tf.shape(x)[1]\n",
        "        x += self.positional_encoding[:, :seq_len, :]\n",
        "        return x\n",
        "\n",
        "class TransformerEncoderLayer(layers.Layer):\n",
        "    def __init__(self, d_model, num_heads, ff_dim, dropout_rate=0.1):\n",
        "        super(TransformerEncoderLayer, self).__init__()\n",
        "\n",
        "        # Multi-head self-attention\n",
        "        self.attention = layers.MultiHeadAttention(num_heads=num_heads, key_dim=d_model)\n",
        "\n",
        "        # Feedforward layers\n",
        "        self.ffn = tf.keras.Sequential([\n",
        "            layers.Dense(ff_dim, activation='relu'),\n",
        "            layers.Dense(d_model)\n",
        "        ])\n",
        "\n",
        "        # Layer normalization and dropout\n",
        "        self.layernorm1 = layers.LayerNormalization(epsilon=1e-6)\n",
        "        self.layernorm2 = layers.LayerNormalization(epsilon=1e-6)\n",
        "        self.dropout1 = layers.Dropout(dropout_rate)\n",
        "        self.dropout2 = layers.Dropout(dropout_rate)\n",
        "\n",
        "    def call(self, x):\n",
        "        \"\"\"\n",
        "        Forward pass for the transformer encoder layer.\n",
        "        Args:\n",
        "        - x: Tensor of shape (batch_size, seq_len, d_model)\n",
        "\n",
        "        Returns:\n",
        "        - x: Tensor after self-attention and feedforward layers\n",
        "        \"\"\"\n",
        "        # Multi-head attention\n",
        "        attn_output = self.attention(x, x)\n",
        "        attn_output = self.dropout1(attn_output)\n",
        "        out1 = self.layernorm1(x + attn_output)\n",
        "\n",
        "        # Feedforward network\n",
        "        ffn_output = self.ffn(out1)\n",
        "        ffn_output = self.dropout2(ffn_output)\n",
        "        out2 = self.layernorm2(out1 + ffn_output)\n",
        "\n",
        "        return out2\n",
        "\n",
        "# Example usage\n",
        "if __name__ == \"__main__\":\n",
        "    # Dummy input of shape (batch_size, seq_len, input_dim) -> (batch_size, seq_len, (t, x, y))\n",
        "    batch_size = 32\n",
        "    seq_len = 10\n",
        "    input_dim = 3  # (t, x, y)\n",
        "    output_dim = 3  # (u, v, p)\n",
        "\n",
        "    model = SpatioTemporalTransformer(input_dim=input_dim, output_dim=output_dim)\n",
        "    src = tf.random.normal((batch_size, seq_len, input_dim))\n",
        "\n",
        "    # Output should be of shape (batch_size, seq_len, output_dim) -> (u, v, p)\n",
        "    output = model(src)\n",
        "    print(output.shape)  # Expected: (batch_size, seq_len, output_dim)\n"
      ],
      "metadata": {
        "colab": {
          "base_uri": "https://localhost:8080/"
        },
        "id": "yojTXkttmHRM",
        "outputId": "882911b7-4fe9-49ed-aedf-1c53f2160f5b"
      },
      "execution_count": 12,
      "outputs": [
        {
          "output_type": "stream",
          "name": "stdout",
          "text": [
            "(32, 10, 3)\n"
          ]
        }
      ]
    },
    {
      "cell_type": "code",
      "source": [
        "import pandas as pd\n",
        "import numpy as np\n",
        "import tensorflow as tf\n",
        "\n",
        "# Step 1: Load the CSV file into a DataFrame\n",
        "# Assume 'data.csv' contains columns ['t', 'x', 'y', 'u', 'v', 'p']\n",
        "data = df\n",
        "\n",
        "# Step 2: Prepare X_train and Y_train\n",
        "# X_train will have (t, x, y), and Y_train will have (u, v, p)\n",
        "X_train = data[['totime', 'x', 'y']].values\n",
        "Y_train = data[['u', 'v', 'p']].values\n",
        "\n",
        "# Step 3: Normalize or scale the data (if necessary)\n",
        "# Optionally, you might normalize the features to be in a certain range\n",
        "from sklearn.preprocessing import MinMaxScaler\n",
        "\n",
        "scaler_X = MinMaxScaler()  # Scale (t, x, y) between 0 and 1\n",
        "scaler_Y = MinMaxScaler()  # Scale (u, v, p) between 0 and 1\n",
        "\n",
        "X_train_scaled = scaler_X.fit_transform(X_train)\n",
        "Y_train_scaled = scaler_Y.fit_transform(Y_train)\n",
        "\n",
        "# Step 4: Reshape the data to match the expected input of the model\n",
        "# Assuming that each sequence is independent, we reshape as (batch_size, seq_len, input_dim)\n",
        "# If you want to work with time sequences, you can reshape accordingly\n",
        "batch_size = 32  # Number of samples per batch\n",
        "seq_len = 1      # Sequence length, in this case 1 because we're not forming time sequences\n",
        "input_dim = 3    # (t, x, y)\n",
        "output_dim = 3   # (u, v, p)\n",
        "\n",
        "X_train_reshaped = np.reshape(X_train_scaled, (X_train_scaled.shape[0] // seq_len, seq_len, input_dim))\n",
        "Y_train_reshaped = np.reshape(Y_train_scaled, (Y_train_scaled.shape[0] // seq_len, seq_len, output_dim))\n",
        "\n",
        "# Step 5: Convert to TensorFlow tensors\n",
        "X_train_tensor = tf.convert_to_tensor(X_train_reshaped, dtype=tf.float32)\n",
        "Y_train_tensor = tf.convert_to_tensor(Y_train_reshaped, dtype=tf.float32)\n",
        "\n",
        "print(X_train_tensor.shape)  # Expected shape: (batch_size, seq_len, input_dim)\n",
        "print(Y_train_tensor.shape)  # Expected shape: (batch_size, seq_len, output_dim)\n"
      ],
      "metadata": {
        "colab": {
          "base_uri": "https://localhost:8080/"
        },
        "id": "PALdlzjJmHTu",
        "outputId": "22efcc47-bb60-48bc-cc36-b6802f3532c2"
      },
      "execution_count": 13,
      "outputs": [
        {
          "output_type": "stream",
          "name": "stdout",
          "text": [
            "(1029350, 1, 3)\n",
            "(1029350, 1, 3)\n"
          ]
        }
      ]
    },
    {
      "cell_type": "code",
      "source": [
        "data=df"
      ],
      "metadata": {
        "id": "RtePUeOHmHWn"
      },
      "execution_count": 14,
      "outputs": []
    },
    {
      "cell_type": "code",
      "source": [
        "# Initialize scalers for input (x, y) and target (u, v, p)\n",
        "scaler_X = MinMaxScaler()  # For normalizing (x, y)\n",
        "scaler_Y = MinMaxScaler()  # For normalizing (u, v, p)\n",
        "\n",
        "# Normalize the spatial coordinates (x, y)\n",
        "data[['x', 'y']] = scaler_X.fit_transform(data[['x', 'y']])\n",
        "\n",
        "# Normalize the target values (u, v, p)\n",
        "data[['u', 'v', 'p']] = scaler_Y.fit_transform(data[['u', 'v', 'p']])\n",
        "\n",
        "# Ensure data is sorted by time\n",
        "data = data.sort_values(by=['totime', 'x', 'y']).reset_index(drop=True)\n"
      ],
      "metadata": {
        "id": "kyz-aaAwmHY6"
      },
      "execution_count": 15,
      "outputs": []
    },
    {
      "cell_type": "code",
      "source": [
        "import pandas as pd\n",
        "import numpy as np\n",
        "\n",
        "# Load the dataset\n",
        "# Assume your dataset has columns: ['t', 'x', 'y', 'u', 'v', 'p']\n",
        "data = df\n",
        "\n",
        "# Step 1: Sort the data by time\n",
        "data = data.sort_values(by=['totime', 'x', 'y']).reset_index(drop=True)\n",
        "\n",
        "# Step 2: Group by time step\n",
        "# Extract unique time steps\n",
        "time_steps = data['totime'].unique()\n",
        "\n",
        "# Prepare lists to hold sequences of (x, y) and (u, v, p)\n",
        "X_spatial_seq = []\n",
        "Y_spatial_seq = []\n",
        "\n",
        "# Step 3: For each time step, gather the spatial points (x, y) and corresponding target (u, v, p)\n",
        "for t in time_steps:\n",
        "    # Filter data for the current time step\n",
        "    time_data = data[data['totime'] == t]\n",
        "\n",
        "    # Extract spatial points (x, y)\n",
        "    X_spatial = time_data[['x', 'y']].values\n",
        "\n",
        "    # Extract target values (u, v, p)\n",
        "    Y_spatial = time_data[['u', 'v', 'p']].values\n",
        "\n",
        "    # Append to the sequences\n",
        "    X_spatial_seq.append(X_spatial)\n",
        "    Y_spatial_seq.append(Y_spatial)\n",
        "\n",
        "# Step 4: Convert the lists to numpy arrays\n",
        "X_spatial_seq = np.array(X_spatial_seq)\n",
        "Y_spatial_seq = np.array(Y_spatial_seq)\n",
        "\n",
        "# Check shapes\n",
        "print(X_spatial_seq.shape)  # Expected: (n_time_steps, n_spatial_points, 2) -> (t, (x, y))\n",
        "print(Y_spatial_seq.shape)  # Expected: (n_time_steps, n_spatial_points, 3) -> (t, (u, v, p))\n"
      ],
      "metadata": {
        "colab": {
          "base_uri": "https://localhost:8080/"
        },
        "id": "AAU3-HtMmHbl",
        "outputId": "b2f149ad-96d5-4b44-986d-87efcc120a4b"
      },
      "execution_count": 37,
      "outputs": [
        {
          "output_type": "stream",
          "name": "stdout",
          "text": [
            "(5, 205870, 2)\n",
            "(5, 205870, 3)\n"
          ]
        }
      ]
    },
    {
      "cell_type": "code",
      "source": [
        "# Create the input by adding the time step to each spatial point\n",
        "X_spatial_seq_with_time = []\n",
        "\n",
        "for i, t in enumerate(time_steps):\n",
        "    # Repeat the time step `t` for each spatial point in this time step\n",
        "    t_column = np.full((X_spatial_seq[i].shape[0], 1), t)\n",
        "\n",
        "    # Concatenate time step `t` with the spatial points (x, y)\n",
        "    X_with_time = np.concatenate([t_column, X_spatial_seq[i]], axis=1)\n",
        "\n",
        "    # Append to the new input sequence\n",
        "    X_spatial_seq_with_time.append(X_with_time)\n",
        "\n",
        "# Convert the list to a numpy array\n",
        "X_spatial_seq_with_time = np.array(X_spatial_seq_with_time)\n",
        "\n",
        "# Check the shape of the new input\n",
        "print(X_spatial_seq_with_time.shape)  # Expected shape: (n_time_steps, n_spatial_points, 3)\n"
      ],
      "metadata": {
        "colab": {
          "base_uri": "https://localhost:8080/"
        },
        "id": "vYPI1QxPmHd-",
        "outputId": "36b1d630-e4ec-4784-ab83-2319908b7ee7"
      },
      "execution_count": 51,
      "outputs": [
        {
          "output_type": "stream",
          "name": "stdout",
          "text": [
            "(5, 205870, 3)\n"
          ]
        }
      ]
    },
    {
      "cell_type": "code",
      "source": [
        "t"
      ],
      "metadata": {
        "colab": {
          "base_uri": "https://localhost:8080/"
        },
        "id": "S5BWEId_muO7",
        "outputId": "53d13de4-74c6-4ea6-f3ce-250ecf6fa3ba"
      },
      "execution_count": 52,
      "outputs": [
        {
          "output_type": "execute_result",
          "data": {
            "text/plain": [
              "np.float64(256.999)"
            ]
          },
          "metadata": {},
          "execution_count": 52
        }
      ]
    },
    {
      "cell_type": "code",
      "source": [
        "X_spatial_seq_with_time"
      ],
      "metadata": {
        "colab": {
          "base_uri": "https://localhost:8080/"
        },
        "id": "jN2sdppTmuRl",
        "outputId": "882d1f8b-aba1-4f7a-d4a6-5bb3734804c3"
      },
      "execution_count": 53,
      "outputs": [
        {
          "output_type": "execute_result",
          "data": {
            "text/plain": [
              "array([[[2.52999e+02, 0.00000e+00, 2.00000e-02],\n",
              "        [2.52999e+02, 0.00000e+00, 5.00000e-02],\n",
              "        [2.52999e+02, 0.00000e+00, 8.00000e-02],\n",
              "        ...,\n",
              "        [2.52999e+02, 1.00000e+00, 9.80000e-01],\n",
              "        [2.52999e+02, 1.00000e+00, 9.90000e-01],\n",
              "        [2.52999e+02, 1.00000e+00, 1.00000e+00]],\n",
              "\n",
              "       [[2.53999e+02, 0.00000e+00, 2.00000e-02],\n",
              "        [2.53999e+02, 0.00000e+00, 5.00000e-02],\n",
              "        [2.53999e+02, 0.00000e+00, 8.00000e-02],\n",
              "        ...,\n",
              "        [2.53999e+02, 1.00000e+00, 9.80000e-01],\n",
              "        [2.53999e+02, 1.00000e+00, 9.90000e-01],\n",
              "        [2.53999e+02, 1.00000e+00, 1.00000e+00]],\n",
              "\n",
              "       [[2.54999e+02, 0.00000e+00, 2.00000e-02],\n",
              "        [2.54999e+02, 0.00000e+00, 5.00000e-02],\n",
              "        [2.54999e+02, 0.00000e+00, 8.00000e-02],\n",
              "        ...,\n",
              "        [2.54999e+02, 1.00000e+00, 9.80000e-01],\n",
              "        [2.54999e+02, 1.00000e+00, 9.90000e-01],\n",
              "        [2.54999e+02, 1.00000e+00, 1.00000e+00]],\n",
              "\n",
              "       [[2.55999e+02, 0.00000e+00, 2.00000e-02],\n",
              "        [2.55999e+02, 0.00000e+00, 5.00000e-02],\n",
              "        [2.55999e+02, 0.00000e+00, 8.00000e-02],\n",
              "        ...,\n",
              "        [2.55999e+02, 1.00000e+00, 9.80000e-01],\n",
              "        [2.55999e+02, 1.00000e+00, 9.90000e-01],\n",
              "        [2.55999e+02, 1.00000e+00, 1.00000e+00]],\n",
              "\n",
              "       [[2.56999e+02, 0.00000e+00, 2.00000e-02],\n",
              "        [2.56999e+02, 0.00000e+00, 5.00000e-02],\n",
              "        [2.56999e+02, 0.00000e+00, 8.00000e-02],\n",
              "        ...,\n",
              "        [2.56999e+02, 1.00000e+00, 9.80000e-01],\n",
              "        [2.56999e+02, 1.00000e+00, 9.90000e-01],\n",
              "        [2.56999e+02, 1.00000e+00, 1.00000e+00]]])"
            ]
          },
          "metadata": {},
          "execution_count": 53
        }
      ]
    },
    {
      "cell_type": "code",
      "source": [
        "X_train = X_spatial_seq_with_time[:4]\n",
        "Y_train = Y_spatial_seq[:4]\n",
        "X_test = X_spatial_seq_with_time[4:5]\n",
        "Y_test = Y_spatial_seq[4:5]"
      ],
      "metadata": {
        "id": "4ygn-zMEr6pJ"
      },
      "execution_count": 54,
      "outputs": []
    },
    {
      "cell_type": "code",
      "source": [
        "import tensorflow as tf\n",
        "\n",
        "# Convert the numpy arrays to TensorFlow tensors\n",
        "X_train_tensor = tf.convert_to_tensor(X_train, dtype=tf.float32)\n",
        "Y_train_tensor = tf.convert_to_tensor(Y_train, dtype=tf.float32)\n",
        "X_test_tensor = tf.convert_to_tensor(X_test, dtype=tf.float32)\n",
        "Y_test_tensor = tf.convert_to_tensor(Y_test, dtype=tf.float32)\n",
        "\n",
        "\n",
        "print(X_train_tensor.shape)  # Expected: (n_time_steps, n_spatial_points, 2)\n",
        "print(Y_train_tensor.shape)  # Expected: (n_time_steps, n_spatial_points, 3)\n"
      ],
      "metadata": {
        "colab": {
          "base_uri": "https://localhost:8080/"
        },
        "id": "0od4MFJomuT7",
        "outputId": "f0eb48b5-0979-4368-b74b-2ba53602c55a"
      },
      "execution_count": 55,
      "outputs": [
        {
          "output_type": "stream",
          "name": "stdout",
          "text": [
            "(4, 205870, 3)\n",
            "(4, 205870, 3)\n"
          ]
        }
      ]
    },
    {
      "cell_type": "code",
      "source": [],
      "metadata": {
        "id": "VwK1szEqr4cM"
      },
      "execution_count": null,
      "outputs": []
    },
    {
      "cell_type": "code",
      "source": [
        "# Truncate the input tensor if it's larger than 1000\n",
        "max_seq_length = 3000\n",
        "\n",
        "if X_train_tensor.shape[1] > max_seq_length:\n",
        "    X_train_tensor = X_train_tensor[:, :max_seq_length, :]\n",
        "    Y_train_tensor = Y_train_tensor[:, :max_seq_length, :]\n"
      ],
      "metadata": {
        "id": "_nrHz1PGmuWU"
      },
      "execution_count": 56,
      "outputs": []
    },
    {
      "cell_type": "code",
      "source": [
        "#include a custom loss also and increase number of points\n",
        "X_train_tensor.shape,Y_train_tensor.shape\n"
      ],
      "metadata": {
        "colab": {
          "base_uri": "https://localhost:8080/"
        },
        "id": "VGiMOQvVmuZb",
        "outputId": "1c9f6a85-08a4-47e4-d460-c1c86baf9abc"
      },
      "execution_count": 57,
      "outputs": [
        {
          "output_type": "execute_result",
          "data": {
            "text/plain": [
              "(TensorShape([4, 3000, 3]), TensorShape([4, 3000, 3]))"
            ]
          },
          "metadata": {},
          "execution_count": 57
        }
      ]
    },
    {
      "cell_type": "code",
      "source": [
        "# Compile the model\n",
        "model.compile(optimizer='adam', loss='mse')\n",
        "\n",
        "# Train the model\n",
        "history = model.fit(X_train_tensor, Y_train_tensor, epochs=100, batch_size=32)\n"
      ],
      "metadata": {
        "colab": {
          "base_uri": "https://localhost:8080/"
        },
        "id": "3n38dm5wmuc7",
        "outputId": "b1796d03-5e65-40af-dd21-cf6aa9710a82"
      },
      "execution_count": 58,
      "outputs": [
        {
          "output_type": "stream",
          "name": "stdout",
          "text": [
            "Epoch 1/100\n",
            "\u001b[1m1/1\u001b[0m \u001b[32m━━━━━━━━━━━━━━━━━━━━\u001b[0m\u001b[37m\u001b[0m \u001b[1m24s\u001b[0m 24s/step - loss: 1.4839e-05\n",
            "Epoch 2/100\n",
            "\u001b[1m1/1\u001b[0m \u001b[32m━━━━━━━━━━━━━━━━━━━━\u001b[0m\u001b[37m\u001b[0m \u001b[1m3s\u001b[0m 3s/step - loss: 0.4977\n",
            "Epoch 3/100\n",
            "\u001b[1m1/1\u001b[0m \u001b[32m━━━━━━━━━━━━━━━━━━━━\u001b[0m\u001b[37m\u001b[0m \u001b[1m1s\u001b[0m 1s/step - loss: 0.0482\n",
            "Epoch 4/100\n",
            "\u001b[1m1/1\u001b[0m \u001b[32m━━━━━━━━━━━━━━━━━━━━\u001b[0m\u001b[37m\u001b[0m \u001b[1m1s\u001b[0m 994ms/step - loss: 0.1301\n",
            "Epoch 5/100\n",
            "\u001b[1m1/1\u001b[0m \u001b[32m━━━━━━━━━━━━━━━━━━━━\u001b[0m\u001b[37m\u001b[0m \u001b[1m1s\u001b[0m 988ms/step - loss: 0.2719\n",
            "Epoch 6/100\n",
            "\u001b[1m1/1\u001b[0m \u001b[32m━━━━━━━━━━━━━━━━━━━━\u001b[0m\u001b[37m\u001b[0m \u001b[1m1s\u001b[0m 1s/step - loss: 0.1769\n",
            "Epoch 7/100\n",
            "\u001b[1m1/1\u001b[0m \u001b[32m━━━━━━━━━━━━━━━━━━━━\u001b[0m\u001b[37m\u001b[0m \u001b[1m1s\u001b[0m 1s/step - loss: 0.0444\n",
            "Epoch 8/100\n",
            "\u001b[1m1/1\u001b[0m \u001b[32m━━━━━━━━━━━━━━━━━━━━\u001b[0m\u001b[37m\u001b[0m \u001b[1m1s\u001b[0m 1s/step - loss: 0.0054\n",
            "Epoch 9/100\n",
            "\u001b[1m1/1\u001b[0m \u001b[32m━━━━━━━━━━━━━━━━━━━━\u001b[0m\u001b[37m\u001b[0m \u001b[1m1s\u001b[0m 1s/step - loss: 0.0561\n",
            "Epoch 10/100\n",
            "\u001b[1m1/1\u001b[0m \u001b[32m━━━━━━━━━━━━━━━━━━━━\u001b[0m\u001b[37m\u001b[0m \u001b[1m1s\u001b[0m 1s/step - loss: 0.1120   \n",
            "Epoch 11/100\n",
            "\u001b[1m1/1\u001b[0m \u001b[32m━━━━━━━━━━━━━━━━━━━━\u001b[0m\u001b[37m\u001b[0m \u001b[1m1s\u001b[0m 1s/step - loss: 0.1059\n",
            "Epoch 12/100\n",
            "\u001b[1m1/1\u001b[0m \u001b[32m━━━━━━━━━━━━━━━━━━━━\u001b[0m\u001b[37m\u001b[0m \u001b[1m1s\u001b[0m 1s/step - loss: 0.0530\n",
            "Epoch 13/100\n",
            "\u001b[1m1/1\u001b[0m \u001b[32m━━━━━━━━━━━━━━━━━━━━\u001b[0m\u001b[37m\u001b[0m \u001b[1m1s\u001b[0m 1s/step - loss: 0.0095\n",
            "Epoch 14/100\n",
            "\u001b[1m1/1\u001b[0m \u001b[32m━━━━━━━━━━━━━━━━━━━━\u001b[0m\u001b[37m\u001b[0m \u001b[1m1s\u001b[0m 1s/step - loss: 0.0042\n",
            "Epoch 15/100\n",
            "\u001b[1m1/1\u001b[0m \u001b[32m━━━━━━━━━━━━━━━━━━━━\u001b[0m\u001b[37m\u001b[0m \u001b[1m1s\u001b[0m 997ms/step - loss: 0.0273\n",
            "Epoch 16/100\n",
            "\u001b[1m1/1\u001b[0m \u001b[32m━━━━━━━━━━━━━━━━━━━━\u001b[0m\u001b[37m\u001b[0m \u001b[1m1s\u001b[0m 1s/step - loss: 0.0512\n",
            "Epoch 17/100\n",
            "\u001b[1m1/1\u001b[0m \u001b[32m━━━━━━━━━━━━━━━━━━━━\u001b[0m\u001b[37m\u001b[0m \u001b[1m1s\u001b[0m 1s/step - loss: 0.0523   \n",
            "Epoch 18/100\n",
            "\u001b[1m1/1\u001b[0m \u001b[32m━━━━━━━━━━━━━━━━━━━━\u001b[0m\u001b[37m\u001b[0m \u001b[1m1s\u001b[0m 1s/step - loss: 0.0307   \n",
            "Epoch 19/100\n",
            "\u001b[1m1/1\u001b[0m \u001b[32m━━━━━━━━━━━━━━━━━━━━\u001b[0m\u001b[37m\u001b[0m \u001b[1m1s\u001b[0m 1s/step - loss: 0.0080\n",
            "Epoch 20/100\n",
            "\u001b[1m1/1\u001b[0m \u001b[32m━━━━━━━━━━━━━━━━━━━━\u001b[0m\u001b[37m\u001b[0m \u001b[1m1s\u001b[0m 1s/step - loss: 8.0217e-04\n",
            "Epoch 21/100\n",
            "\u001b[1m1/1\u001b[0m \u001b[32m━━━━━━━━━━━━━━━━━━━━\u001b[0m\u001b[37m\u001b[0m \u001b[1m1s\u001b[0m 1s/step - loss: 0.0090\n",
            "Epoch 22/100\n",
            "\u001b[1m1/1\u001b[0m \u001b[32m━━━━━━━━━━━━━━━━━━━━\u001b[0m\u001b[37m\u001b[0m \u001b[1m1s\u001b[0m 1s/step - loss: 0.0218\n",
            "Epoch 23/100\n",
            "\u001b[1m1/1\u001b[0m \u001b[32m━━━━━━━━━━━━━━━━━━━━\u001b[0m\u001b[37m\u001b[0m \u001b[1m1s\u001b[0m 1s/step - loss: 0.0274   \n",
            "Epoch 24/100\n",
            "\u001b[1m1/1\u001b[0m \u001b[32m━━━━━━━━━━━━━━━━━━━━\u001b[0m\u001b[37m\u001b[0m \u001b[1m1s\u001b[0m 1s/step - loss: 0.0210\n",
            "Epoch 25/100\n",
            "\u001b[1m1/1\u001b[0m \u001b[32m━━━━━━━━━━━━━━━━━━━━\u001b[0m\u001b[37m\u001b[0m \u001b[1m1s\u001b[0m 1s/step - loss: 0.0087\n",
            "Epoch 26/100\n",
            "\u001b[1m1/1\u001b[0m \u001b[32m━━━━━━━━━━━━━━━━━━━━\u001b[0m\u001b[37m\u001b[0m \u001b[1m1s\u001b[0m 1s/step - loss: 8.6030e-04\n",
            "Epoch 27/100\n",
            "\u001b[1m1/1\u001b[0m \u001b[32m━━━━━━━━━━━━━━━━━━━━\u001b[0m\u001b[37m\u001b[0m \u001b[1m1s\u001b[0m 1s/step - loss: 0.0019\n",
            "Epoch 28/100\n",
            "\u001b[1m1/1\u001b[0m \u001b[32m━━━━━━━━━━━━━━━━━━━━\u001b[0m\u001b[37m\u001b[0m \u001b[1m1s\u001b[0m 1s/step - loss: 0.0082   \n",
            "Epoch 29/100\n",
            "\u001b[1m1/1\u001b[0m \u001b[32m━━━━━━━━━━━━━━━━━━━━\u001b[0m\u001b[37m\u001b[0m \u001b[1m1s\u001b[0m 1s/step - loss: 0.0134\n",
            "Epoch 30/100\n",
            "\u001b[1m1/1\u001b[0m \u001b[32m━━━━━━━━━━━━━━━━━━━━\u001b[0m\u001b[37m\u001b[0m \u001b[1m1s\u001b[0m 1s/step - loss: 0.0131\n",
            "Epoch 31/100\n",
            "\u001b[1m1/1\u001b[0m \u001b[32m━━━━━━━━━━━━━━━━━━━━\u001b[0m\u001b[37m\u001b[0m \u001b[1m1s\u001b[0m 1s/step - loss: 0.0076\n",
            "Epoch 32/100\n",
            "\u001b[1m1/1\u001b[0m \u001b[32m━━━━━━━━━━━━━━━━━━━━\u001b[0m\u001b[37m\u001b[0m \u001b[1m1s\u001b[0m 1s/step - loss: 0.0018\n",
            "Epoch 33/100\n",
            "\u001b[1m1/1\u001b[0m \u001b[32m━━━━━━━━━━━━━━━━━━━━\u001b[0m\u001b[37m\u001b[0m \u001b[1m1s\u001b[0m 1s/step - loss: 1.8334e-04\n",
            "Epoch 34/100\n",
            "\u001b[1m1/1\u001b[0m \u001b[32m━━━━━━━━━━━━━━━━━━━━\u001b[0m\u001b[37m\u001b[0m \u001b[1m1s\u001b[0m 1s/step - loss: 0.0027\n",
            "Epoch 35/100\n",
            "\u001b[1m1/1\u001b[0m \u001b[32m━━━━━━━━━━━━━━━━━━━━\u001b[0m\u001b[37m\u001b[0m \u001b[1m1s\u001b[0m 1s/step - loss: 0.0061\n",
            "Epoch 36/100\n",
            "\u001b[1m1/1\u001b[0m \u001b[32m━━━━━━━━━━━━━━━━━━━━\u001b[0m\u001b[37m\u001b[0m \u001b[1m1s\u001b[0m 1s/step - loss: 0.0072\n",
            "Epoch 37/100\n",
            "\u001b[1m1/1\u001b[0m \u001b[32m━━━━━━━━━━━━━━━━━━━━\u001b[0m\u001b[37m\u001b[0m \u001b[1m1s\u001b[0m 1s/step - loss: 0.0052\n",
            "Epoch 38/100\n",
            "\u001b[1m1/1\u001b[0m \u001b[32m━━━━━━━━━━━━━━━━━━━━\u001b[0m\u001b[37m\u001b[0m \u001b[1m1s\u001b[0m 1s/step - loss: 0.0018   \n",
            "Epoch 39/100\n",
            "\u001b[1m1/1\u001b[0m \u001b[32m━━━━━━━━━━━━━━━━━━━━\u001b[0m\u001b[37m\u001b[0m \u001b[1m1s\u001b[0m 1s/step - loss: 7.7601e-05\n",
            "Epoch 40/100\n",
            "\u001b[1m1/1\u001b[0m \u001b[32m━━━━━━━━━━━━━━━━━━━━\u001b[0m\u001b[37m\u001b[0m \u001b[1m1s\u001b[0m 1s/step - loss: 8.9611e-04\n",
            "Epoch 41/100\n",
            "\u001b[1m1/1\u001b[0m \u001b[32m━━━━━━━━━━━━━━━━━━━━\u001b[0m\u001b[37m\u001b[0m \u001b[1m1s\u001b[0m 1s/step - loss: 0.0028\n",
            "Epoch 42/100\n",
            "\u001b[1m1/1\u001b[0m \u001b[32m━━━━━━━━━━━━━━━━━━━━\u001b[0m\u001b[37m\u001b[0m \u001b[1m1s\u001b[0m 1s/step - loss: 0.0039\n",
            "Epoch 43/100\n",
            "\u001b[1m1/1\u001b[0m \u001b[32m━━━━━━━━━━━━━━━━━━━━\u001b[0m\u001b[37m\u001b[0m \u001b[1m1s\u001b[0m 1s/step - loss: 0.0032\n",
            "Epoch 44/100\n",
            "\u001b[1m1/1\u001b[0m \u001b[32m━━━━━━━━━━━━━━━━━━━━\u001b[0m\u001b[37m\u001b[0m \u001b[1m1s\u001b[0m 1s/step - loss: 0.0014\n",
            "Epoch 45/100\n",
            "\u001b[1m1/1\u001b[0m \u001b[32m━━━━━━━━━━━━━━━━━━━━\u001b[0m\u001b[37m\u001b[0m \u001b[1m1s\u001b[0m 1s/step - loss: 1.0963e-04\n",
            "Epoch 46/100\n",
            "\u001b[1m1/1\u001b[0m \u001b[32m━━━━━━━━━━━━━━━━━━━━\u001b[0m\u001b[37m\u001b[0m \u001b[1m1s\u001b[0m 1s/step - loss: 3.3921e-04\n",
            "Epoch 47/100\n",
            "\u001b[1m1/1\u001b[0m \u001b[32m━━━━━━━━━━━━━━━━━━━━\u001b[0m\u001b[37m\u001b[0m \u001b[1m1s\u001b[0m 1s/step - loss: 0.0014\n",
            "Epoch 48/100\n",
            "\u001b[1m1/1\u001b[0m \u001b[32m━━━━━━━━━━━━━━━━━━━━\u001b[0m\u001b[37m\u001b[0m \u001b[1m1s\u001b[0m 1s/step - loss: 0.0021\n",
            "Epoch 49/100\n",
            "\u001b[1m1/1\u001b[0m \u001b[32m━━━━━━━━━━━━━━━━━━━━\u001b[0m\u001b[37m\u001b[0m \u001b[1m1s\u001b[0m 1s/step - loss: 0.0018\n",
            "Epoch 50/100\n",
            "\u001b[1m1/1\u001b[0m \u001b[32m━━━━━━━━━━━━━━━━━━━━\u001b[0m\u001b[37m\u001b[0m \u001b[1m1s\u001b[0m 1s/step - loss: 7.9532e-04\n",
            "Epoch 51/100\n",
            "\u001b[1m1/1\u001b[0m \u001b[32m━━━━━━━━━━━━━━━━━━━━\u001b[0m\u001b[37m\u001b[0m \u001b[1m1s\u001b[0m 1s/step - loss: 6.7950e-05\n",
            "Epoch 52/100\n",
            "\u001b[1m1/1\u001b[0m \u001b[32m━━━━━━━━━━━━━━━━━━━━\u001b[0m\u001b[37m\u001b[0m \u001b[1m1s\u001b[0m 1s/step - loss: 1.8915e-04\n",
            "Epoch 53/100\n",
            "\u001b[1m1/1\u001b[0m \u001b[32m━━━━━━━━━━━━━━━━━━━━\u001b[0m\u001b[37m\u001b[0m \u001b[1m1s\u001b[0m 1s/step - loss: 7.8341e-04\n",
            "Epoch 54/100\n",
            "\u001b[1m1/1\u001b[0m \u001b[32m━━━━━━━━━━━━━━━━━━━━\u001b[0m\u001b[37m\u001b[0m \u001b[1m1s\u001b[0m 1s/step - loss: 0.0011\n",
            "Epoch 55/100\n",
            "\u001b[1m1/1\u001b[0m \u001b[32m━━━━━━━━━━━━━━━━━━━━\u001b[0m\u001b[37m\u001b[0m \u001b[1m1s\u001b[0m 1s/step - loss: 9.4564e-04\n",
            "Epoch 56/100\n",
            "\u001b[1m1/1\u001b[0m \u001b[32m━━━━━━━━━━━━━━━━━━━━\u001b[0m\u001b[37m\u001b[0m \u001b[1m1s\u001b[0m 1s/step - loss: 3.8791e-04\n",
            "Epoch 57/100\n",
            "\u001b[1m1/1\u001b[0m \u001b[32m━━━━━━━━━━━━━━━━━━━━\u001b[0m\u001b[37m\u001b[0m \u001b[1m1s\u001b[0m 1s/step - loss: 2.3494e-05\n",
            "Epoch 58/100\n",
            "\u001b[1m1/1\u001b[0m \u001b[32m━━━━━━━━━━━━━━━━━━━━\u001b[0m\u001b[37m\u001b[0m \u001b[1m1s\u001b[0m 1s/step - loss: 1.5190e-04\n",
            "Epoch 59/100\n",
            "\u001b[1m1/1\u001b[0m \u001b[32m━━━━━━━━━━━━━━━━━━━━\u001b[0m\u001b[37m\u001b[0m \u001b[1m1s\u001b[0m 1s/step - loss: 4.9194e-04\n",
            "Epoch 60/100\n",
            "\u001b[1m1/1\u001b[0m \u001b[32m━━━━━━━━━━━━━━━━━━━━\u001b[0m\u001b[37m\u001b[0m \u001b[1m1s\u001b[0m 1s/step - loss: 6.4375e-04\n",
            "Epoch 61/100\n",
            "\u001b[1m1/1\u001b[0m \u001b[32m━━━━━━━━━━━━━━━━━━━━\u001b[0m\u001b[37m\u001b[0m \u001b[1m1s\u001b[0m 1s/step - loss: 4.6895e-04\n",
            "Epoch 62/100\n",
            "\u001b[1m1/1\u001b[0m \u001b[32m━━━━━━━━━━━━━━━━━━━━\u001b[0m\u001b[37m\u001b[0m \u001b[1m1s\u001b[0m 1s/step - loss: 1.4915e-04\n",
            "Epoch 63/100\n",
            "\u001b[1m1/1\u001b[0m \u001b[32m━━━━━━━━━━━━━━━━━━━━\u001b[0m\u001b[37m\u001b[0m \u001b[1m1s\u001b[0m 1s/step - loss: 1.1470e-05\n",
            "Epoch 64/100\n",
            "\u001b[1m1/1\u001b[0m \u001b[32m━━━━━━━━━━━━━━━━━━━━\u001b[0m\u001b[37m\u001b[0m \u001b[1m1s\u001b[0m 1s/step - loss: 1.4408e-04\n",
            "Epoch 65/100\n",
            "\u001b[1m1/1\u001b[0m \u001b[32m━━━━━━━━━━━━━━━━━━━━\u001b[0m\u001b[37m\u001b[0m \u001b[1m1s\u001b[0m 1s/step - loss: 3.2798e-04\n",
            "Epoch 66/100\n",
            "\u001b[1m1/1\u001b[0m \u001b[32m━━━━━━━━━━━━━━━━━━━━\u001b[0m\u001b[37m\u001b[0m \u001b[1m1s\u001b[0m 1s/step - loss: 3.5172e-04\n",
            "Epoch 67/100\n",
            "\u001b[1m1/1\u001b[0m \u001b[32m━━━━━━━━━━━━━━━━━━━━\u001b[0m\u001b[37m\u001b[0m \u001b[1m1s\u001b[0m 1s/step - loss: 2.0355e-04\n",
            "Epoch 68/100\n",
            "\u001b[1m1/1\u001b[0m \u001b[32m━━━━━━━━━━━━━━━━━━━━\u001b[0m\u001b[37m\u001b[0m \u001b[1m1s\u001b[0m 1s/step - loss: 3.9454e-05\n",
            "Epoch 69/100\n",
            "\u001b[1m1/1\u001b[0m \u001b[32m━━━━━━━━━━━━━━━━━━━━\u001b[0m\u001b[37m\u001b[0m \u001b[1m1s\u001b[0m 1s/step - loss: 2.6487e-05\n",
            "Epoch 70/100\n",
            "\u001b[1m1/1\u001b[0m \u001b[32m━━━━━━━━━━━━━━━━━━━━\u001b[0m\u001b[37m\u001b[0m \u001b[1m1s\u001b[0m 1s/step - loss: 1.3652e-04\n",
            "Epoch 71/100\n",
            "\u001b[1m1/1\u001b[0m \u001b[32m━━━━━━━━━━━━━━━━━━━━\u001b[0m\u001b[37m\u001b[0m \u001b[1m1s\u001b[0m 1s/step - loss: 2.1095e-04\n",
            "Epoch 72/100\n",
            "\u001b[1m1/1\u001b[0m \u001b[32m━━━━━━━━━━━━━━━━━━━━\u001b[0m\u001b[37m\u001b[0m \u001b[1m1s\u001b[0m 1s/step - loss: 1.7366e-04\n",
            "Epoch 73/100\n",
            "\u001b[1m1/1\u001b[0m \u001b[32m━━━━━━━━━━━━━━━━━━━━\u001b[0m\u001b[37m\u001b[0m \u001b[1m1s\u001b[0m 1s/step - loss: 6.8386e-05\n",
            "Epoch 74/100\n",
            "\u001b[1m1/1\u001b[0m \u001b[32m━━━━━━━━━━━━━━━━━━━━\u001b[0m\u001b[37m\u001b[0m \u001b[1m1s\u001b[0m 1s/step - loss: 9.7667e-06\n",
            "Epoch 75/100\n",
            "\u001b[1m1/1\u001b[0m \u001b[32m━━━━━━━━━━━━━━━━━━━━\u001b[0m\u001b[37m\u001b[0m \u001b[1m1s\u001b[0m 1s/step - loss: 4.9650e-05\n",
            "Epoch 76/100\n",
            "\u001b[1m1/1\u001b[0m \u001b[32m━━━━━━━━━━━━━━━━━━━━\u001b[0m\u001b[37m\u001b[0m \u001b[1m1s\u001b[0m 1s/step - loss: 1.1298e-04\n",
            "Epoch 77/100\n",
            "\u001b[1m1/1\u001b[0m \u001b[32m━━━━━━━━━━━━━━━━━━━━\u001b[0m\u001b[37m\u001b[0m \u001b[1m1s\u001b[0m 1s/step - loss: 1.2107e-04\n",
            "Epoch 78/100\n",
            "\u001b[1m1/1\u001b[0m \u001b[32m━━━━━━━━━━━━━━━━━━━━\u001b[0m\u001b[37m\u001b[0m \u001b[1m1s\u001b[0m 1s/step - loss: 6.9221e-05\n",
            "Epoch 79/100\n",
            "\u001b[1m1/1\u001b[0m \u001b[32m━━━━━━━━━━━━━━━━━━━━\u001b[0m\u001b[37m\u001b[0m \u001b[1m1s\u001b[0m 1s/step - loss: 1.6246e-05\n",
            "Epoch 80/100\n",
            "\u001b[1m1/1\u001b[0m \u001b[32m━━━━━━━━━━━━━━━━━━━━\u001b[0m\u001b[37m\u001b[0m \u001b[1m1s\u001b[0m 1s/step - loss: 1.8946e-05\n",
            "Epoch 81/100\n",
            "\u001b[1m1/1\u001b[0m \u001b[32m━━━━━━━━━━━━━━━━━━━━\u001b[0m\u001b[37m\u001b[0m \u001b[1m1s\u001b[0m 1s/step - loss: 5.8503e-05\n",
            "Epoch 82/100\n",
            "\u001b[1m1/1\u001b[0m \u001b[32m━━━━━━━━━━━━━━━━━━━━\u001b[0m\u001b[37m\u001b[0m \u001b[1m1s\u001b[0m 1s/step - loss: 7.7403e-05\n",
            "Epoch 83/100\n",
            "\u001b[1m1/1\u001b[0m \u001b[32m━━━━━━━━━━━━━━━━━━━━\u001b[0m\u001b[37m\u001b[0m \u001b[1m1s\u001b[0m 1s/step - loss: 5.6060e-05\n",
            "Epoch 84/100\n",
            "\u001b[1m1/1\u001b[0m \u001b[32m━━━━━━━━━━━━━━━━━━━━\u001b[0m\u001b[37m\u001b[0m \u001b[1m1s\u001b[0m 1s/step - loss: 2.0414e-05\n",
            "Epoch 85/100\n",
            "\u001b[1m1/1\u001b[0m \u001b[32m━━━━━━━━━━━━━━━━━━━━\u001b[0m\u001b[37m\u001b[0m \u001b[1m1s\u001b[0m 1s/step - loss: 1.0859e-05\n",
            "Epoch 86/100\n",
            "\u001b[1m1/1\u001b[0m \u001b[32m━━━━━━━━━━━━━━━━━━━━\u001b[0m\u001b[37m\u001b[0m \u001b[1m1s\u001b[0m 1s/step - loss: 3.1930e-05\n",
            "Epoch 87/100\n",
            "\u001b[1m1/1\u001b[0m \u001b[32m━━━━━━━━━━━━━━━━━━━━\u001b[0m\u001b[37m\u001b[0m \u001b[1m1s\u001b[0m 1s/step - loss: 4.8700e-05\n",
            "Epoch 88/100\n",
            "\u001b[1m1/1\u001b[0m \u001b[32m━━━━━━━━━━━━━━━━━━━━\u001b[0m\u001b[37m\u001b[0m \u001b[1m1s\u001b[0m 1s/step - loss: 4.1428e-05\n",
            "Epoch 89/100\n",
            "\u001b[1m1/1\u001b[0m \u001b[32m━━━━━━━━━━━━━━━━━━━━\u001b[0m\u001b[37m\u001b[0m \u001b[1m1s\u001b[0m 1s/step - loss: 1.9911e-05\n",
            "Epoch 90/100\n",
            "\u001b[1m1/1\u001b[0m \u001b[32m━━━━━━━━━━━━━━━━━━━━\u001b[0m\u001b[37m\u001b[0m \u001b[1m1s\u001b[0m 1s/step - loss: 9.5786e-06\n",
            "Epoch 91/100\n",
            "\u001b[1m1/1\u001b[0m \u001b[32m━━━━━━━━━━━━━━━━━━━━\u001b[0m\u001b[37m\u001b[0m \u001b[1m1s\u001b[0m 1s/step - loss: 1.9889e-05\n",
            "Epoch 92/100\n",
            "\u001b[1m1/1\u001b[0m \u001b[32m━━━━━━━━━━━━━━━━━━━━\u001b[0m\u001b[37m\u001b[0m \u001b[1m1s\u001b[0m 1s/step - loss: 3.1846e-05\n",
            "Epoch 93/100\n",
            "\u001b[1m1/1\u001b[0m \u001b[32m━━━━━━━━━━━━━━━━━━━━\u001b[0m\u001b[37m\u001b[0m \u001b[1m1s\u001b[0m 1s/step - loss: 2.9910e-05\n",
            "Epoch 94/100\n",
            "\u001b[1m1/1\u001b[0m \u001b[32m━━━━━━━━━━━━━━━━━━━━\u001b[0m\u001b[37m\u001b[0m \u001b[1m1s\u001b[0m 1s/step - loss: 1.7384e-05\n",
            "Epoch 95/100\n",
            "\u001b[1m1/1\u001b[0m \u001b[32m━━━━━━━━━━━━━━━━━━━━\u001b[0m\u001b[37m\u001b[0m \u001b[1m1s\u001b[0m 1s/step - loss: 9.5917e-06\n",
            "Epoch 96/100\n",
            "\u001b[1m1/1\u001b[0m \u001b[32m━━━━━━━━━━━━━━━━━━━━\u001b[0m\u001b[37m\u001b[0m \u001b[1m1s\u001b[0m 1s/step - loss: 1.4635e-05\n",
            "Epoch 97/100\n",
            "\u001b[1m1/1\u001b[0m \u001b[32m━━━━━━━━━━━━━━━━━━━━\u001b[0m\u001b[37m\u001b[0m \u001b[1m1s\u001b[0m 1s/step - loss: 2.2420e-05\n",
            "Epoch 98/100\n",
            "\u001b[1m1/1\u001b[0m \u001b[32m━━━━━━━━━━━━━━━━━━━━\u001b[0m\u001b[37m\u001b[0m \u001b[1m1s\u001b[0m 1s/step - loss: 2.2029e-05\n",
            "Epoch 99/100\n",
            "\u001b[1m1/1\u001b[0m \u001b[32m━━━━━━━━━━━━━━━━━━━━\u001b[0m\u001b[37m\u001b[0m \u001b[1m1s\u001b[0m 1s/step - loss: 1.4748e-05\n",
            "Epoch 100/100\n",
            "\u001b[1m1/1\u001b[0m \u001b[32m━━━━━━━━━━━━━━━━━━━━\u001b[0m\u001b[37m\u001b[0m \u001b[1m1s\u001b[0m 1s/step - loss: 9.5841e-06\n"
          ]
        }
      ]
    },
    {
      "cell_type": "code",
      "source": [
        "# Make predictions\n",
        "predictions = model(X_test_tensor, training=False)\n",
        "\n",
        "# Compute Mean Squared Error\n",
        "mse = tf.reduce_mean(tf.square(predictions - Y_test_tensor))\n",
        "\n",
        "# Print the result\n",
        "print(\"MSE on last time step:\", mse.numpy())\n"
      ],
      "metadata": {
        "colab": {
          "base_uri": "https://localhost:8080/",
          "height": 443
        },
        "id": "c3KAAPNOo4q2",
        "outputId": "a6f267b0-c39c-4c13-b400-789b52b27a9b"
      },
      "execution_count": 59,
      "outputs": [
        {
          "output_type": "error",
          "ename": "InvalidArgumentError",
          "evalue": "Exception encountered when calling PositionalEncoding.call().\n\n\u001b[1m{{function_node __wrapped__AddV2_device_/job:localhost/replica:0/task:0/device:GPU:0}} required broadcastable shapes [Op:AddV2] name: \u001b[0m\n\nArguments received by PositionalEncoding.call():\n  • x=tf.Tensor(shape=(1, 205870, 128), dtype=float32)",
          "traceback": [
            "\u001b[0;31m---------------------------------------------------------------------------\u001b[0m",
            "\u001b[0;31mInvalidArgumentError\u001b[0m                      Traceback (most recent call last)",
            "\u001b[0;32m<ipython-input-59-d50e3e2037e3>\u001b[0m in \u001b[0;36m<cell line: 0>\u001b[0;34m()\u001b[0m\n\u001b[1;32m      1\u001b[0m \u001b[0;31m# Make predictions\u001b[0m\u001b[0;34m\u001b[0m\u001b[0;34m\u001b[0m\u001b[0m\n\u001b[0;32m----> 2\u001b[0;31m \u001b[0mpredictions\u001b[0m \u001b[0;34m=\u001b[0m \u001b[0mmodel\u001b[0m\u001b[0;34m(\u001b[0m\u001b[0mX_test_tensor\u001b[0m\u001b[0;34m,\u001b[0m \u001b[0mtraining\u001b[0m\u001b[0;34m=\u001b[0m\u001b[0;32mFalse\u001b[0m\u001b[0;34m)\u001b[0m\u001b[0;34m\u001b[0m\u001b[0;34m\u001b[0m\u001b[0m\n\u001b[0m\u001b[1;32m      3\u001b[0m \u001b[0;34m\u001b[0m\u001b[0m\n\u001b[1;32m      4\u001b[0m \u001b[0;31m# Compute Mean Squared Error\u001b[0m\u001b[0;34m\u001b[0m\u001b[0;34m\u001b[0m\u001b[0m\n\u001b[1;32m      5\u001b[0m \u001b[0mmse\u001b[0m \u001b[0;34m=\u001b[0m \u001b[0mtf\u001b[0m\u001b[0;34m.\u001b[0m\u001b[0mreduce_mean\u001b[0m\u001b[0;34m(\u001b[0m\u001b[0mtf\u001b[0m\u001b[0;34m.\u001b[0m\u001b[0msquare\u001b[0m\u001b[0;34m(\u001b[0m\u001b[0mpredictions\u001b[0m \u001b[0;34m-\u001b[0m \u001b[0mY_test_tensor\u001b[0m\u001b[0;34m)\u001b[0m\u001b[0;34m)\u001b[0m\u001b[0;34m\u001b[0m\u001b[0;34m\u001b[0m\u001b[0m\n",
            "\u001b[0;32m/usr/local/lib/python3.11/dist-packages/keras/src/utils/traceback_utils.py\u001b[0m in \u001b[0;36merror_handler\u001b[0;34m(*args, **kwargs)\u001b[0m\n\u001b[1;32m    120\u001b[0m             \u001b[0;31m# To get the full stack trace, call:\u001b[0m\u001b[0;34m\u001b[0m\u001b[0;34m\u001b[0m\u001b[0m\n\u001b[1;32m    121\u001b[0m             \u001b[0;31m# `keras.config.disable_traceback_filtering()`\u001b[0m\u001b[0;34m\u001b[0m\u001b[0;34m\u001b[0m\u001b[0m\n\u001b[0;32m--> 122\u001b[0;31m             \u001b[0;32mraise\u001b[0m \u001b[0me\u001b[0m\u001b[0;34m.\u001b[0m\u001b[0mwith_traceback\u001b[0m\u001b[0;34m(\u001b[0m\u001b[0mfiltered_tb\u001b[0m\u001b[0;34m)\u001b[0m \u001b[0;32mfrom\u001b[0m \u001b[0;32mNone\u001b[0m\u001b[0;34m\u001b[0m\u001b[0;34m\u001b[0m\u001b[0m\n\u001b[0m\u001b[1;32m    123\u001b[0m         \u001b[0;32mfinally\u001b[0m\u001b[0;34m:\u001b[0m\u001b[0;34m\u001b[0m\u001b[0;34m\u001b[0m\u001b[0m\n\u001b[1;32m    124\u001b[0m             \u001b[0;32mdel\u001b[0m \u001b[0mfiltered_tb\u001b[0m\u001b[0;34m\u001b[0m\u001b[0;34m\u001b[0m\u001b[0m\n",
            "\u001b[0;32m<ipython-input-12-881a62f85951>\u001b[0m in \u001b[0;36mcall\u001b[0;34m(self, inputs)\u001b[0m\n\u001b[1;32m     31\u001b[0m \u001b[0;34m\u001b[0m\u001b[0m\n\u001b[1;32m     32\u001b[0m         \u001b[0;31m# Apply positional encoding\u001b[0m\u001b[0;34m\u001b[0m\u001b[0;34m\u001b[0m\u001b[0m\n\u001b[0;32m---> 33\u001b[0;31m         \u001b[0mx\u001b[0m \u001b[0;34m=\u001b[0m \u001b[0mself\u001b[0m\u001b[0;34m.\u001b[0m\u001b[0mpositional_encoding\u001b[0m\u001b[0;34m(\u001b[0m\u001b[0mx\u001b[0m\u001b[0;34m)\u001b[0m\u001b[0;34m\u001b[0m\u001b[0;34m\u001b[0m\u001b[0m\n\u001b[0m\u001b[1;32m     34\u001b[0m \u001b[0;34m\u001b[0m\u001b[0m\n\u001b[1;32m     35\u001b[0m         \u001b[0;31m# Forward through transformer encoder layers\u001b[0m\u001b[0;34m\u001b[0m\u001b[0;34m\u001b[0m\u001b[0m\n",
            "\u001b[0;32m<ipython-input-12-881a62f85951>\u001b[0m in \u001b[0;36mcall\u001b[0;34m(self, x)\u001b[0m\n\u001b[1;32m     71\u001b[0m         \"\"\"\n\u001b[1;32m     72\u001b[0m         \u001b[0mseq_len\u001b[0m \u001b[0;34m=\u001b[0m \u001b[0mtf\u001b[0m\u001b[0;34m.\u001b[0m\u001b[0mshape\u001b[0m\u001b[0;34m(\u001b[0m\u001b[0mx\u001b[0m\u001b[0;34m)\u001b[0m\u001b[0;34m[\u001b[0m\u001b[0;36m1\u001b[0m\u001b[0;34m]\u001b[0m\u001b[0;34m\u001b[0m\u001b[0;34m\u001b[0m\u001b[0m\n\u001b[0;32m---> 73\u001b[0;31m         \u001b[0mx\u001b[0m \u001b[0;34m+=\u001b[0m \u001b[0mself\u001b[0m\u001b[0;34m.\u001b[0m\u001b[0mpositional_encoding\u001b[0m\u001b[0;34m[\u001b[0m\u001b[0;34m:\u001b[0m\u001b[0;34m,\u001b[0m \u001b[0;34m:\u001b[0m\u001b[0mseq_len\u001b[0m\u001b[0;34m,\u001b[0m \u001b[0;34m:\u001b[0m\u001b[0;34m]\u001b[0m\u001b[0;34m\u001b[0m\u001b[0;34m\u001b[0m\u001b[0m\n\u001b[0m\u001b[1;32m     74\u001b[0m         \u001b[0;32mreturn\u001b[0m \u001b[0mx\u001b[0m\u001b[0;34m\u001b[0m\u001b[0;34m\u001b[0m\u001b[0m\n\u001b[1;32m     75\u001b[0m \u001b[0;34m\u001b[0m\u001b[0m\n",
            "\u001b[0;31mInvalidArgumentError\u001b[0m: Exception encountered when calling PositionalEncoding.call().\n\n\u001b[1m{{function_node __wrapped__AddV2_device_/job:localhost/replica:0/task:0/device:GPU:0}} required broadcastable shapes [Op:AddV2] name: \u001b[0m\n\nArguments received by PositionalEncoding.call():\n  • x=tf.Tensor(shape=(1, 205870, 128), dtype=float32)"
          ]
        }
      ]
    },
    {
      "cell_type": "code",
      "source": [
        "X_test_tensor.shape,Y_test_tensor.shape\n"
      ],
      "metadata": {
        "colab": {
          "base_uri": "https://localhost:8080/"
        },
        "id": "WVO7s1sFuYqb",
        "outputId": "420bff0c-81a4-4df5-f868-fd9be0914c01"
      },
      "execution_count": 60,
      "outputs": [
        {
          "output_type": "execute_result",
          "data": {
            "text/plain": [
              "(TensorShape([1, 205870, 3]), TensorShape([1, 205870, 3]))"
            ]
          },
          "metadata": {},
          "execution_count": 60
        }
      ]
    },
    {
      "cell_type": "code",
      "source": [
        "# Truncate the input tensor if it's larger than 1000\n",
        "max_seq_length = 3000\n",
        "\n",
        "if X_test_tensor.shape[1] > max_seq_length:\n",
        "    X_test_tensor = X_test_tensor[:, :max_seq_length, :]\n",
        "    Y_test_tensor = Y_test_tensor[:, :max_seq_length, :]"
      ],
      "metadata": {
        "id": "ByBx4MsVo4to"
      },
      "execution_count": 63,
      "outputs": []
    },
    {
      "cell_type": "code",
      "source": [
        "X_test_tensor.shape,Y_test_tensor.shape\n"
      ],
      "metadata": {
        "colab": {
          "base_uri": "https://localhost:8080/"
        },
        "id": "RGt55BKYo4wX",
        "outputId": "4cf6fedf-4658-4fbd-c4f9-f2ec19a9529a"
      },
      "execution_count": 64,
      "outputs": [
        {
          "output_type": "execute_result",
          "data": {
            "text/plain": [
              "(TensorShape([1, 3000, 3]), TensorShape([1, 3000, 3]))"
            ]
          },
          "metadata": {},
          "execution_count": 64
        }
      ]
    },
    {
      "cell_type": "code",
      "source": [
        "# Make predictions\n",
        "predictions = model(X_test_tensor, training=False)\n",
        "\n",
        "# Compute Mean Squared Error\n",
        "mse = tf.reduce_mean(tf.square(predictions - Y_test_tensor))\n",
        "\n",
        "# Print the result\n",
        "print(\"MSE on last time step:\", mse.numpy())\n"
      ],
      "metadata": {
        "colab": {
          "base_uri": "https://localhost:8080/"
        },
        "id": "9sTl6iTgo4zI",
        "outputId": "57000d18-dc5f-4be1-e0fa-4a8ef716454d"
      },
      "execution_count": 65,
      "outputs": [
        {
          "output_type": "stream",
          "name": "stdout",
          "text": [
            "MSE on last time step: 1.1716119e-05\n"
          ]
        }
      ]
    },
    {
      "cell_type": "code",
      "source": [
        "X_test_tensor"
      ],
      "metadata": {
        "colab": {
          "base_uri": "https://localhost:8080/"
        },
        "id": "A1Z3TUGao41y",
        "outputId": "1f02cfb0-93ac-4b79-c6c2-443cd071aac5"
      },
      "execution_count": 66,
      "outputs": [
        {
          "output_type": "execute_result",
          "data": {
            "text/plain": [
              "<tf.Tensor: shape=(1, 3000, 3), dtype=float32, numpy=\n",
              "array([[[2.56999e+02, 0.00000e+00, 2.00000e-02],\n",
              "        [2.56999e+02, 0.00000e+00, 5.00000e-02],\n",
              "        [2.56999e+02, 0.00000e+00, 8.00000e-02],\n",
              "        ...,\n",
              "        [2.56999e+02, 5.50000e-02, 3.98020e-01],\n",
              "        [2.56999e+02, 5.50000e-02, 3.98755e-01],\n",
              "        [2.56999e+02, 5.50000e-02, 3.99410e-01]]], dtype=float32)>"
            ]
          },
          "metadata": {},
          "execution_count": 66
        }
      ]
    },
    {
      "cell_type": "code",
      "source": [
        "predictions=model.predict(X_test_tensor)\n",
        "predictions,predictions.shape"
      ],
      "metadata": {
        "colab": {
          "base_uri": "https://localhost:8080/"
        },
        "id": "6pyCF0gwo45L",
        "outputId": "90a3510b-def9-4c91-ce85-5251e7f21014"
      },
      "execution_count": 68,
      "outputs": [
        {
          "output_type": "stream",
          "name": "stdout",
          "text": [
            "\u001b[1m1/1\u001b[0m \u001b[32m━━━━━━━━━━━━━━━━━━━━\u001b[0m\u001b[37m\u001b[0m \u001b[1m3s\u001b[0m 3s/step\n"
          ]
        },
        {
          "output_type": "execute_result",
          "data": {
            "text/plain": [
              "(array([[[0.7985064 , 0.49942422, 0.5559029 ],\n",
              "         [0.79850644, 0.4994244 , 0.5559027 ],\n",
              "         [0.79850644, 0.4994241 , 0.555903  ],\n",
              "         ...,\n",
              "         [0.79850644, 0.4994241 , 0.55590284],\n",
              "         [0.7985064 , 0.49942398, 0.5559026 ],\n",
              "         [0.7985065 , 0.49942416, 0.5559028 ]]], dtype=float32),\n",
              " (1, 3000, 3))"
            ]
          },
          "metadata": {},
          "execution_count": 68
        }
      ]
    },
    {
      "cell_type": "code",
      "source": [
        "u_pred, v_pred, p_pred = predictions[0,:, 0], predictions[0,:, 1], predictions[0,:, 2]"
      ],
      "metadata": {
        "id": "_5It-fnUveqd"
      },
      "execution_count": 71,
      "outputs": []
    },
    {
      "cell_type": "code",
      "source": [
        "u_pred.shape"
      ],
      "metadata": {
        "colab": {
          "base_uri": "https://localhost:8080/"
        },
        "id": "OhcKZm7Pves0",
        "outputId": "3ed22438-44ec-40e1-bd9b-058557128a63"
      },
      "execution_count": 72,
      "outputs": [
        {
          "output_type": "execute_result",
          "data": {
            "text/plain": [
              "(3000,)"
            ]
          },
          "metadata": {},
          "execution_count": 72
        }
      ]
    },
    {
      "cell_type": "code",
      "source": [
        "import pandas as pd\n",
        "import matplotlib.pyplot as plt\n",
        "import numpy as np"
      ],
      "metadata": {
        "id": "MoiyigcOvevH"
      },
      "execution_count": 77,
      "outputs": []
    },
    {
      "cell_type": "code",
      "source": [
        "def plot_color_map(x, y, value, title, color_map='viridis'):\n",
        "        plt.figure(figsize=(8, 6))\n",
        "        scatter = plt.scatter(x, y, c=value, cmap=color_map, s=10)\n",
        "        plt.colorbar(scatter, label=title)\n",
        "        plt.xlabel(\"X Coordinate\")\n",
        "        plt.ylabel(\"Y Coordinate\")\n",
        "        plt.title(f\"value at t = 252.999\")\n",
        "        plt.grid(True)\n",
        "        plt.show()"
      ],
      "metadata": {
        "id": "QQWETKAJvexp"
      },
      "execution_count": 78,
      "outputs": []
    },
    {
      "cell_type": "code",
      "source": [
        "t"
      ],
      "metadata": {
        "colab": {
          "base_uri": "https://localhost:8080/"
        },
        "id": "WoCTW9aHve0F",
        "outputId": "ed3729dc-5dd5-4216-cf50-dfb0ab95fc90"
      },
      "execution_count": 79,
      "outputs": [
        {
          "output_type": "execute_result",
          "data": {
            "text/plain": [
              "np.float64(256.999)"
            ]
          },
          "metadata": {},
          "execution_count": 79
        }
      ]
    },
    {
      "cell_type": "code",
      "source": [
        "filtered_data=df[df['totime']==256.999]"
      ],
      "metadata": {
        "id": "Z1-2L2m0ve3k"
      },
      "execution_count": 80,
      "outputs": []
    },
    {
      "cell_type": "code",
      "source": [
        "x = filtered_data['x'][:3000]\n",
        "y = filtered_data['y'][:3000]\n",
        "p_actual=filtered_data['p'][:3000]\n",
        "u_actual=filtered_data['u'][:3000]\n",
        "v_actual=filtered_data['v'][:3000]"
      ],
      "metadata": {
        "id": "uIEmNC4ywKS8"
      },
      "execution_count": 90,
      "outputs": []
    },
    {
      "cell_type": "code",
      "source": [
        "x.shape,u_pred.shape,y.shape,p_actual.shape"
      ],
      "metadata": {
        "colab": {
          "base_uri": "https://localhost:8080/"
        },
        "id": "pRpDmJZXwKVh",
        "outputId": "b1ece79a-6c78-41fc-be67-c40bc39dfa6a"
      },
      "execution_count": 82,
      "outputs": [
        {
          "output_type": "execute_result",
          "data": {
            "text/plain": [
              "((3000,), (3000,), (3000,), (3000,))"
            ]
          },
          "metadata": {},
          "execution_count": 82
        }
      ]
    },
    {
      "cell_type": "code",
      "source": [
        "p_pred"
      ],
      "metadata": {
        "colab": {
          "base_uri": "https://localhost:8080/"
        },
        "id": "IMB13-ubwKYJ",
        "outputId": "bce4c990-3fea-49af-f9fb-d68c7588408b"
      },
      "execution_count": 83,
      "outputs": [
        {
          "output_type": "execute_result",
          "data": {
            "text/plain": [
              "array([0.5559029 , 0.5559027 , 0.555903  , ..., 0.55590284, 0.5559026 ,\n",
              "       0.5559028 ], dtype=float32)"
            ]
          },
          "metadata": {},
          "execution_count": 83
        }
      ]
    },
    {
      "cell_type": "code",
      "source": [
        "u_pred"
      ],
      "metadata": {
        "colab": {
          "base_uri": "https://localhost:8080/"
        },
        "id": "vBTx_R7twKa0",
        "outputId": "95802a2d-1cfd-4124-f1cb-f0ada464a2db"
      },
      "execution_count": 84,
      "outputs": [
        {
          "output_type": "execute_result",
          "data": {
            "text/plain": [
              "array([0.7985064 , 0.79850644, 0.79850644, ..., 0.79850644, 0.7985064 ,\n",
              "       0.7985065 ], dtype=float32)"
            ]
          },
          "metadata": {},
          "execution_count": 84
        }
      ]
    },
    {
      "cell_type": "code",
      "source": [
        "p_actual"
      ],
      "metadata": {
        "colab": {
          "base_uri": "https://localhost:8080/",
          "height": 458
        },
        "id": "uV8RIyrLxiXM",
        "outputId": "69dba2f3-7287-49d1-b3b7-bbaace8dac8c"
      },
      "execution_count": 87,
      "outputs": [
        {
          "output_type": "execute_result",
          "data": {
            "text/plain": [
              "823480    0.543600\n",
              "823481    0.543516\n",
              "823482    0.543349\n",
              "823483    0.543182\n",
              "823484    0.542848\n",
              "            ...   \n",
              "826475    0.532982\n",
              "826476    0.532899\n",
              "826477    0.532899\n",
              "826478    0.532899\n",
              "826479    0.532899\n",
              "Name: p, Length: 3000, dtype: float64"
            ],
            "text/html": [
              "<div>\n",
              "<style scoped>\n",
              "    .dataframe tbody tr th:only-of-type {\n",
              "        vertical-align: middle;\n",
              "    }\n",
              "\n",
              "    .dataframe tbody tr th {\n",
              "        vertical-align: top;\n",
              "    }\n",
              "\n",
              "    .dataframe thead th {\n",
              "        text-align: right;\n",
              "    }\n",
              "</style>\n",
              "<table border=\"1\" class=\"dataframe\">\n",
              "  <thead>\n",
              "    <tr style=\"text-align: right;\">\n",
              "      <th></th>\n",
              "      <th>p</th>\n",
              "    </tr>\n",
              "  </thead>\n",
              "  <tbody>\n",
              "    <tr>\n",
              "      <th>823480</th>\n",
              "      <td>0.543600</td>\n",
              "    </tr>\n",
              "    <tr>\n",
              "      <th>823481</th>\n",
              "      <td>0.543516</td>\n",
              "    </tr>\n",
              "    <tr>\n",
              "      <th>823482</th>\n",
              "      <td>0.543349</td>\n",
              "    </tr>\n",
              "    <tr>\n",
              "      <th>823483</th>\n",
              "      <td>0.543182</td>\n",
              "    </tr>\n",
              "    <tr>\n",
              "      <th>823484</th>\n",
              "      <td>0.542848</td>\n",
              "    </tr>\n",
              "    <tr>\n",
              "      <th>...</th>\n",
              "      <td>...</td>\n",
              "    </tr>\n",
              "    <tr>\n",
              "      <th>826475</th>\n",
              "      <td>0.532982</td>\n",
              "    </tr>\n",
              "    <tr>\n",
              "      <th>826476</th>\n",
              "      <td>0.532899</td>\n",
              "    </tr>\n",
              "    <tr>\n",
              "      <th>826477</th>\n",
              "      <td>0.532899</td>\n",
              "    </tr>\n",
              "    <tr>\n",
              "      <th>826478</th>\n",
              "      <td>0.532899</td>\n",
              "    </tr>\n",
              "    <tr>\n",
              "      <th>826479</th>\n",
              "      <td>0.532899</td>\n",
              "    </tr>\n",
              "  </tbody>\n",
              "</table>\n",
              "<p>3000 rows × 1 columns</p>\n",
              "</div><br><label><b>dtype:</b> float64</label>"
            ]
          },
          "metadata": {},
          "execution_count": 87
        }
      ]
    },
    {
      "cell_type": "code",
      "source": [
        "u_actual"
      ],
      "metadata": {
        "colab": {
          "base_uri": "https://localhost:8080/",
          "height": 458
        },
        "id": "0YgWSW77xifY",
        "outputId": "8d4a0f23-d9b2-4e4a-855c-f6c0f0cd68df"
      },
      "execution_count": 88,
      "outputs": [
        {
          "output_type": "execute_result",
          "data": {
            "text/plain": [
              "823480    0.800616\n",
              "823481    0.800680\n",
              "823482    0.800808\n",
              "823483    0.801065\n",
              "823484    0.801322\n",
              "            ...   \n",
              "826475    0.810559\n",
              "826476    0.810624\n",
              "826477    0.810624\n",
              "826478    0.810624\n",
              "826479    0.810624\n",
              "Name: u, Length: 3000, dtype: float64"
            ],
            "text/html": [
              "<div>\n",
              "<style scoped>\n",
              "    .dataframe tbody tr th:only-of-type {\n",
              "        vertical-align: middle;\n",
              "    }\n",
              "\n",
              "    .dataframe tbody tr th {\n",
              "        vertical-align: top;\n",
              "    }\n",
              "\n",
              "    .dataframe thead th {\n",
              "        text-align: right;\n",
              "    }\n",
              "</style>\n",
              "<table border=\"1\" class=\"dataframe\">\n",
              "  <thead>\n",
              "    <tr style=\"text-align: right;\">\n",
              "      <th></th>\n",
              "      <th>u</th>\n",
              "    </tr>\n",
              "  </thead>\n",
              "  <tbody>\n",
              "    <tr>\n",
              "      <th>823480</th>\n",
              "      <td>0.800616</td>\n",
              "    </tr>\n",
              "    <tr>\n",
              "      <th>823481</th>\n",
              "      <td>0.800680</td>\n",
              "    </tr>\n",
              "    <tr>\n",
              "      <th>823482</th>\n",
              "      <td>0.800808</td>\n",
              "    </tr>\n",
              "    <tr>\n",
              "      <th>823483</th>\n",
              "      <td>0.801065</td>\n",
              "    </tr>\n",
              "    <tr>\n",
              "      <th>823484</th>\n",
              "      <td>0.801322</td>\n",
              "    </tr>\n",
              "    <tr>\n",
              "      <th>...</th>\n",
              "      <td>...</td>\n",
              "    </tr>\n",
              "    <tr>\n",
              "      <th>826475</th>\n",
              "      <td>0.810559</td>\n",
              "    </tr>\n",
              "    <tr>\n",
              "      <th>826476</th>\n",
              "      <td>0.810624</td>\n",
              "    </tr>\n",
              "    <tr>\n",
              "      <th>826477</th>\n",
              "      <td>0.810624</td>\n",
              "    </tr>\n",
              "    <tr>\n",
              "      <th>826478</th>\n",
              "      <td>0.810624</td>\n",
              "    </tr>\n",
              "    <tr>\n",
              "      <th>826479</th>\n",
              "      <td>0.810624</td>\n",
              "    </tr>\n",
              "  </tbody>\n",
              "</table>\n",
              "<p>3000 rows × 1 columns</p>\n",
              "</div><br><label><b>dtype:</b> float64</label>"
            ]
          },
          "metadata": {},
          "execution_count": 88
        }
      ]
    },
    {
      "cell_type": "code",
      "source": [
        "fig, ax = plt.subplots(2, 1)\n",
        "# Assuming `x`, `y`, and `p_pred` are the x-coordinates, y-coordinates, and predicted pressure values\n",
        "cntr0 = ax[0].tricontourf(x, y, p_pred, levels=80, cmap=\"rainbow\")\n",
        "\n",
        "cb0 = plt.colorbar(cntr0, ax=ax[0])\n",
        "cntr1 = ax[1].tricontourf(x, y, u_pred, levels=80, cmap=\"rainbow\")\n",
        "cb1 = plt.colorbar(cntr1, ax=ax[1])\n",
        "ax[0].set_title(\"p-pred \" + \"(t=\" + str(t) + \")\", fontsize=9.5)\n",
        "ax[0].axis(\"scaled\")\n",
        "ax[0].set_xlabel(\"X\", fontsize=7.5)\n",
        "ax[0].set_ylabel(\"Y\", fontsize=7.5)\n",
        "ax[1].set_title(\"u-pred \" + \"(t=\" + str(t) + \")\", fontsize=9.5)\n",
        "ax[1].axis(\"scaled\")\n",
        "ax[1].set_xlabel(\"X\", fontsize=7.5)\n",
        "ax[1].set_ylabel(\"Y\", fontsize=7.5)\n",
        "fig.tight_layout()\n",
        "plt.show()"
      ],
      "metadata": {
        "colab": {
          "base_uri": "https://localhost:8080/",
          "height": 487
        },
        "id": "7w-vX_UmwKdW",
        "outputId": "9e57ce73-c25b-4123-b0e0-67e97fdfd999"
      },
      "execution_count": 85,
      "outputs": [
        {
          "output_type": "display_data",
          "data": {
            "text/plain": [
              "<Figure size 640x480 with 4 Axes>"
            ],
            "image/png": "[encoded data removed]"
          },
          "metadata": {}
        }
      ]
    },
    {
      "cell_type": "code",
      "source": [
        "fig, ax = plt.subplots(2, 1)\n",
        "# Assuming `x`, `y`, and `p_pred` are the x-coordinates, y-coordinates, and predicted pressure values\n",
        "cntr0 = ax[0].tricontourf(x, y, p_pred, levels=80, cmap=\"rainbow\")\n",
        "\n",
        "cb0 = plt.colorbar(cntr0, ax=ax[0])\n",
        "cntr1 = ax[1].tricontourf(x, y, v_pred, levels=80, cmap=\"rainbow\")\n",
        "cb1 = plt.colorbar(cntr1, ax=ax[1])\n",
        "ax[0].set_title(\"p-pred \" + \"(t=\" + str(t) + \")\", fontsize=9.5)\n",
        "ax[0].axis(\"scaled\")\n",
        "ax[0].set_xlabel(\"X\", fontsize=7.5)\n",
        "ax[0].set_ylabel(\"Y\", fontsize=7.5)\n",
        "ax[1].set_title(\"u-pred \" + \"(t=\" + str(t) + \")\", fontsize=9.5)\n",
        "ax[1].axis(\"scaled\")\n",
        "ax[1].set_xlabel(\"X\", fontsize=7.5)\n",
        "ax[1].set_ylabel(\"Y\", fontsize=7.5)\n",
        "fig.tight_layout()\n",
        "plt.show()"
      ],
      "metadata": {
        "colab": {
          "base_uri": "https://localhost:8080/",
          "height": 487
        },
        "id": "DtxQiMi6w-8E",
        "outputId": "d6ef6ed9-2039-46ee-860f-8224bb7104fd"
      },
      "execution_count": 89,
      "outputs": [
        {
          "output_type": "display_data",
          "data": {
            "text/plain": [
              "<Figure size 640x480 with 4 Axes>"
            ],
            "image/png": "[encoded data removed]"
          },
          "metadata": {}
        }
      ]
    },
    {
      "cell_type": "code",
      "source": [],
      "metadata": {
        "id": "ekaF-PHbw_BA"
      },
      "execution_count": null,
      "outputs": []
    },
    {
      "cell_type": "code",
      "source": [],
      "metadata": {
        "id": "LRZfYLIjw_D7"
      },
      "execution_count": null,
      "outputs": []
    },
    {
      "cell_type": "code",
      "source": [],
      "metadata": {
        "id": "PT6KNmhfw_GO"
      },
      "execution_count": null,
      "outputs": []
    },
    {
      "cell_type": "code",
      "source": [],
      "metadata": {
        "id": "hxZslu5Iw_Jp"
      },
      "execution_count": null,
      "outputs": []
    }
  ]
}