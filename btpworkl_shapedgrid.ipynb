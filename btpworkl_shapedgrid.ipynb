{
  "nbformat": 4,
  "nbformat_minor": 0,
  "metadata": {
    "colab": {
      "provenance": [],
      "gpuType": "T4",
      "authorship_tag": "ABX9TyN1muB+vj+fi7ezJrZzWLeD",
      "include_colab_link": true
    },
    "kernelspec": {
      "name": "python3",
      "display_name": "Python 3"
    },
    "language_info": {
      "name": "python"
    },
    "accelerator": "GPU"
  },
  "cells": [
    {
      "cell_type": "markdown",
      "metadata": {
        "id": "view-in-github",
        "colab_type": "text"
      },
      "source": [
        "<a href=\"https://colab.research.google.com/github/arumishra/Bachelor-Thesis-Project/blob/main/btpworkl_shapedgrid.ipynb\" target=\"_parent\"><img src=\"https://colab.research.google.com/assets/colab-badge.svg\" alt=\"Open In Colab\"/></a>"
      ]
    },
    {
      "cell_type": "code",
      "execution_count": 1,
      "metadata": {
        "id": "P4RKQlDXyRub"
      },
      "outputs": [],
      "source": [
        "import tensorflow as tf\n",
        "import numpy as np"
      ]
    },
    {
      "cell_type": "code",
      "source": [
        "import pandas as pd"
      ],
      "metadata": {
        "id": "SoEd4quEyWIX"
      },
      "execution_count": 2,
      "outputs": []
    },
    {
      "cell_type": "code",
      "source": [
        "df=pd.read_csv('/content/b5.csv')"
      ],
      "metadata": {
        "id": "75JmOWpcyWLk"
      },
      "execution_count": 3,
      "outputs": []
    },
    {
      "cell_type": "code",
      "source": [
        "df"
      ],
      "metadata": {
        "colab": {
          "base_uri": "https://localhost:8080/",
          "height": 423
        },
        "id": "GoQPNARoyWRT",
        "outputId": "6969a443-61bd-4d4d-f741-8144bb8551db"
      },
      "execution_count": 4,
      "outputs": [
        {
          "output_type": "execute_result",
          "data": {
            "text/plain": [
              "            x     y       u       v       p   totime\n",
              "0         0.4  10.0  1.0001 -0.0006  0.0135  252.999\n",
              "1         1.0  10.0  1.0002 -0.0014  0.0134  252.999\n",
              "2         1.6  10.0  1.0005 -0.0023  0.0132  252.999\n",
              "3         2.2  10.0  1.0008 -0.0031  0.0129  252.999\n",
              "4         2.8  10.0  1.0011 -0.0039  0.0125  252.999\n",
              "...       ...   ...     ...     ...     ...      ...\n",
              "1029345  39.2  30.0  1.0138  0.0005  0.0064  256.999\n",
              "1029346  39.4  30.0  1.0138  0.0005  0.0064  256.999\n",
              "1029347  39.6  30.0  1.0138  0.0005  0.0064  256.999\n",
              "1029348  39.8  30.0  1.0139  0.0004  0.0065  256.999\n",
              "1029349  40.0  30.0  0.5070  0.0004  0.0032  256.999\n",
              "\n",
              "[1029350 rows x 6 columns]"
            ],
            "text/html": [
              "\n",
              "  <div id=\"df-a2a98f9d-0aa6-48d5-a581-88a731f18e25\" class=\"colab-df-container\">\n",
              "    <div>\n",
              "<style scoped>\n",
              "    .dataframe tbody tr th:only-of-type {\n",
              "        vertical-align: middle;\n",
              "    }\n",
              "\n",
              "    .dataframe tbody tr th {\n",
              "        vertical-align: top;\n",
              "    }\n",
              "\n",
              "    .dataframe thead th {\n",
              "        text-align: right;\n",
              "    }\n",
              "</style>\n",
              "<table border=\"1\" class=\"dataframe\">\n",
              "  <thead>\n",
              "    <tr style=\"text-align: right;\">\n",
              "      <th></th>\n",
              "      <th>x</th>\n",
              "      <th>y</th>\n",
              "      <th>u</th>\n",
              "      <th>v</th>\n",
              "      <th>p</th>\n",
              "      <th>totime</th>\n",
              "    </tr>\n",
              "  </thead>\n",
              "  <tbody>\n",
              "    <tr>\n",
              "      <th>0</th>\n",
              "      <td>0.4</td>\n",
              "      <td>10.0</td>\n",
              "      <td>1.0001</td>\n",
              "      <td>-0.0006</td>\n",
              "      <td>0.0135</td>\n",
              "      <td>252.999</td>\n",
              "    </tr>\n",
              "    <tr>\n",
              "      <th>1</th>\n",
              "      <td>1.0</td>\n",
              "      <td>10.0</td>\n",
              "      <td>1.0002</td>\n",
              "      <td>-0.0014</td>\n",
              "      <td>0.0134</td>\n",
              "      <td>252.999</td>\n",
              "    </tr>\n",
              "    <tr>\n",
              "      <th>2</th>\n",
              "      <td>1.6</td>\n",
              "      <td>10.0</td>\n",
              "      <td>1.0005</td>\n",
              "      <td>-0.0023</td>\n",
              "      <td>0.0132</td>\n",
              "      <td>252.999</td>\n",
              "    </tr>\n",
              "    <tr>\n",
              "      <th>3</th>\n",
              "      <td>2.2</td>\n",
              "      <td>10.0</td>\n",
              "      <td>1.0008</td>\n",
              "      <td>-0.0031</td>\n",
              "      <td>0.0129</td>\n",
              "      <td>252.999</td>\n",
              "    </tr>\n",
              "    <tr>\n",
              "      <th>4</th>\n",
              "      <td>2.8</td>\n",
              "      <td>10.0</td>\n",
              "      <td>1.0011</td>\n",
              "      <td>-0.0039</td>\n",
              "      <td>0.0125</td>\n",
              "      <td>252.999</td>\n",
              "    </tr>\n",
              "    <tr>\n",
              "      <th>...</th>\n",
              "      <td>...</td>\n",
              "      <td>...</td>\n",
              "      <td>...</td>\n",
              "      <td>...</td>\n",
              "      <td>...</td>\n",
              "      <td>...</td>\n",
              "    </tr>\n",
              "    <tr>\n",
              "      <th>1029345</th>\n",
              "      <td>39.2</td>\n",
              "      <td>30.0</td>\n",
              "      <td>1.0138</td>\n",
              "      <td>0.0005</td>\n",
              "      <td>0.0064</td>\n",
              "      <td>256.999</td>\n",
              "    </tr>\n",
              "    <tr>\n",
              "      <th>1029346</th>\n",
              "      <td>39.4</td>\n",
              "      <td>30.0</td>\n",
              "      <td>1.0138</td>\n",
              "      <td>0.0005</td>\n",
              "      <td>0.0064</td>\n",
              "      <td>256.999</td>\n",
              "    </tr>\n",
              "    <tr>\n",
              "      <th>1029347</th>\n",
              "      <td>39.6</td>\n",
              "      <td>30.0</td>\n",
              "      <td>1.0138</td>\n",
              "      <td>0.0005</td>\n",
              "      <td>0.0064</td>\n",
              "      <td>256.999</td>\n",
              "    </tr>\n",
              "    <tr>\n",
              "      <th>1029348</th>\n",
              "      <td>39.8</td>\n",
              "      <td>30.0</td>\n",
              "      <td>1.0139</td>\n",
              "      <td>0.0004</td>\n",
              "      <td>0.0065</td>\n",
              "      <td>256.999</td>\n",
              "    </tr>\n",
              "    <tr>\n",
              "      <th>1029349</th>\n",
              "      <td>40.0</td>\n",
              "      <td>30.0</td>\n",
              "      <td>0.5070</td>\n",
              "      <td>0.0004</td>\n",
              "      <td>0.0032</td>\n",
              "      <td>256.999</td>\n",
              "    </tr>\n",
              "  </tbody>\n",
              "</table>\n",
              "<p>1029350 rows × 6 columns</p>\n",
              "</div>\n",
              "    <div class=\"colab-df-buttons\">\n",
              "\n",
              "  <div class=\"colab-df-container\">\n",
              "    <button class=\"colab-df-convert\" onclick=\"convertToInteractive('df-a2a98f9d-0aa6-48d5-a581-88a731f18e25')\"\n",
              "            title=\"Convert this dataframe to an interactive table.\"\n",
              "            style=\"display:none;\">\n",
              "\n",
              "  <svg xmlns=\"http://www.w3.org/2000/svg\" height=\"24px\" viewBox=\"0 -960 960 960\">\n",
              "    <path d=\"M120-120v-720h720v720H120Zm60-500h600v-160H180v160Zm220 220h160v-160H400v160Zm0 220h160v-160H400v160ZM180-400h160v-160H180v160Zm440 0h160v-160H620v160ZM180-180h160v-160H180v160Zm440 0h160v-160H620v160Z\"/>\n",
              "  </svg>\n",
              "    </button>\n",
              "\n",
              "  <style>\n",
              "    .colab-df-container {\n",
              "      display:flex;\n",
              "      gap: 12px;\n",
              "    }\n",
              "\n",
              "    .colab-df-convert {\n",
              "      background-color: #E8F0FE;\n",
              "      border: none;\n",
              "      border-radius: 50%;\n",
              "      cursor: pointer;\n",
              "      display: none;\n",
              "      fill: #1967D2;\n",
              "      height: 32px;\n",
              "      padding: 0 0 0 0;\n",
              "      width: 32px;\n",
              "    }\n",
              "\n",
              "    .colab-df-convert:hover {\n",
              "      background-color: #E2EBFA;\n",
              "      box-shadow: 0px 1px 2px rgba(60, 64, 67, 0.3), 0px 1px 3px 1px rgba(60, 64, 67, 0.15);\n",
              "      fill: #174EA6;\n",
              "    }\n",
              "\n",
              "    .colab-df-buttons div {\n",
              "      margin-bottom: 4px;\n",
              "    }\n",
              "\n",
              "    [theme=dark] .colab-df-convert {\n",
              "      background-color: #3B4455;\n",
              "      fill: #D2E3FC;\n",
              "    }\n",
              "\n",
              "    [theme=dark] .colab-df-convert:hover {\n",
              "      background-color: #434B5C;\n",
              "      box-shadow: 0px 1px 3px 1px rgba(0, 0, 0, 0.15);\n",
              "      filter: drop-shadow(0px 1px 2px rgba(0, 0, 0, 0.3));\n",
              "      fill: #FFFFFF;\n",
              "    }\n",
              "  </style>\n",
              "\n",
              "    <script>\n",
              "      const buttonEl =\n",
              "        document.querySelector('#df-a2a98f9d-0aa6-48d5-a581-88a731f18e25 button.colab-df-convert');\n",
              "      buttonEl.style.display =\n",
              "        google.colab.kernel.accessAllowed ? 'block' : 'none';\n",
              "\n",
              "      async function convertToInteractive(key) {\n",
              "        const element = document.querySelector('#df-a2a98f9d-0aa6-48d5-a581-88a731f18e25');\n",
              "        const dataTable =\n",
              "          await google.colab.kernel.invokeFunction('convertToInteractive',\n",
              "                                                    [key], {});\n",
              "        if (!dataTable) return;\n",
              "\n",
              "        const docLinkHtml = 'Like what you see? Visit the ' +\n",
              "          '<a target=\"_blank\" href=https://colab.research.google.com/notebooks/data_table.ipynb>data table notebook</a>'\n",
              "          + ' to learn more about interactive tables.';\n",
              "        element.innerHTML = '';\n",
              "        dataTable['output_type'] = 'display_data';\n",
              "        await google.colab.output.renderOutput(dataTable, element);\n",
              "        const docLink = document.createElement('div');\n",
              "        docLink.innerHTML = docLinkHtml;\n",
              "        element.appendChild(docLink);\n",
              "      }\n",
              "    </script>\n",
              "  </div>\n",
              "\n",
              "\n",
              "    <div id=\"df-b6e4b354-94de-4d2c-85c9-4a0dc2074c1e\">\n",
              "      <button class=\"colab-df-quickchart\" onclick=\"quickchart('df-b6e4b354-94de-4d2c-85c9-4a0dc2074c1e')\"\n",
              "                title=\"Suggest charts\"\n",
              "                style=\"display:none;\">\n",
              "\n",
              "<svg xmlns=\"http://www.w3.org/2000/svg\" height=\"24px\"viewBox=\"0 0 24 24\"\n",
              "     width=\"24px\">\n",
              "    <g>\n",
              "        <path d=\"M19 3H5c-1.1 0-2 .9-2 2v14c0 1.1.9 2 2 2h14c1.1 0 2-.9 2-2V5c0-1.1-.9-2-2-2zM9 17H7v-7h2v7zm4 0h-2V7h2v10zm4 0h-2v-4h2v4z\"/>\n",
              "    </g>\n",
              "</svg>\n",
              "      </button>\n",
              "\n",
              "<style>\n",
              "  .colab-df-quickchart {\n",
              "      --bg-color: #E8F0FE;\n",
              "      --fill-color: #1967D2;\n",
              "      --hover-bg-color: #E2EBFA;\n",
              "      --hover-fill-color: #174EA6;\n",
              "      --disabled-fill-color: #AAA;\n",
              "      --disabled-bg-color: #DDD;\n",
              "  }\n",
              "\n",
              "  [theme=dark] .colab-df-quickchart {\n",
              "      --bg-color: #3B4455;\n",
              "      --fill-color: #D2E3FC;\n",
              "      --hover-bg-color: #434B5C;\n",
              "      --hover-fill-color: #FFFFFF;\n",
              "      --disabled-bg-color: #3B4455;\n",
              "      --disabled-fill-color: #666;\n",
              "  }\n",
              "\n",
              "  .colab-df-quickchart {\n",
              "    background-color: var(--bg-color);\n",
              "    border: none;\n",
              "    border-radius: 50%;\n",
              "    cursor: pointer;\n",
              "    display: none;\n",
              "    fill: var(--fill-color);\n",
              "    height: 32px;\n",
              "    padding: 0;\n",
              "    width: 32px;\n",
              "  }\n",
              "\n",
              "  .colab-df-quickchart:hover {\n",
              "    background-color: var(--hover-bg-color);\n",
              "    box-shadow: 0 1px 2px rgba(60, 64, 67, 0.3), 0 1px 3px 1px rgba(60, 64, 67, 0.15);\n",
              "    fill: var(--button-hover-fill-color);\n",
              "  }\n",
              "\n",
              "  .colab-df-quickchart-complete:disabled,\n",
              "  .colab-df-quickchart-complete:disabled:hover {\n",
              "    background-color: var(--disabled-bg-color);\n",
              "    fill: var(--disabled-fill-color);\n",
              "    box-shadow: none;\n",
              "  }\n",
              "\n",
              "  .colab-df-spinner {\n",
              "    border: 2px solid var(--fill-color);\n",
              "    border-color: transparent;\n",
              "    border-bottom-color: var(--fill-color);\n",
              "    animation:\n",
              "      spin 1s steps(1) infinite;\n",
              "  }\n",
              "\n",
              "  @keyframes spin {\n",
              "    0% {\n",
              "      border-color: transparent;\n",
              "      border-bottom-color: var(--fill-color);\n",
              "      border-left-color: var(--fill-color);\n",
              "    }\n",
              "    20% {\n",
              "      border-color: transparent;\n",
              "      border-left-color: var(--fill-color);\n",
              "      border-top-color: var(--fill-color);\n",
              "    }\n",
              "    30% {\n",
              "      border-color: transparent;\n",
              "      border-left-color: var(--fill-color);\n",
              "      border-top-color: var(--fill-color);\n",
              "      border-right-color: var(--fill-color);\n",
              "    }\n",
              "    40% {\n",
              "      border-color: transparent;\n",
              "      border-right-color: var(--fill-color);\n",
              "      border-top-color: var(--fill-color);\n",
              "    }\n",
              "    60% {\n",
              "      border-color: transparent;\n",
              "      border-right-color: var(--fill-color);\n",
              "    }\n",
              "    80% {\n",
              "      border-color: transparent;\n",
              "      border-right-color: var(--fill-color);\n",
              "      border-bottom-color: var(--fill-color);\n",
              "    }\n",
              "    90% {\n",
              "      border-color: transparent;\n",
              "      border-bottom-color: var(--fill-color);\n",
              "    }\n",
              "  }\n",
              "</style>\n",
              "\n",
              "      <script>\n",
              "        async function quickchart(key) {\n",
              "          const quickchartButtonEl =\n",
              "            document.querySelector('#' + key + ' button');\n",
              "          quickchartButtonEl.disabled = true;  // To prevent multiple clicks.\n",
              "          quickchartButtonEl.classList.add('colab-df-spinner');\n",
              "          try {\n",
              "            const charts = await google.colab.kernel.invokeFunction(\n",
              "                'suggestCharts', [key], {});\n",
              "          } catch (error) {\n",
              "            console.error('Error during call to suggestCharts:', error);\n",
              "          }\n",
              "          quickchartButtonEl.classList.remove('colab-df-spinner');\n",
              "          quickchartButtonEl.classList.add('colab-df-quickchart-complete');\n",
              "        }\n",
              "        (() => {\n",
              "          let quickchartButtonEl =\n",
              "            document.querySelector('#df-b6e4b354-94de-4d2c-85c9-4a0dc2074c1e button');\n",
              "          quickchartButtonEl.style.display =\n",
              "            google.colab.kernel.accessAllowed ? 'block' : 'none';\n",
              "        })();\n",
              "      </script>\n",
              "    </div>\n",
              "\n",
              "  <div id=\"id_2d7eff74-49ec-43d9-a981-b5af003b1b81\">\n",
              "    <style>\n",
              "      .colab-df-generate {\n",
              "        background-color: #E8F0FE;\n",
              "        border: none;\n",
              "        border-radius: 50%;\n",
              "        cursor: pointer;\n",
              "        display: none;\n",
              "        fill: #1967D2;\n",
              "        height: 32px;\n",
              "        padding: 0 0 0 0;\n",
              "        width: 32px;\n",
              "      }\n",
              "\n",
              "      .colab-df-generate:hover {\n",
              "        background-color: #E2EBFA;\n",
              "        box-shadow: 0px 1px 2px rgba(60, 64, 67, 0.3), 0px 1px 3px 1px rgba(60, 64, 67, 0.15);\n",
              "        fill: #174EA6;\n",
              "      }\n",
              "\n",
              "      [theme=dark] .colab-df-generate {\n",
              "        background-color: #3B4455;\n",
              "        fill: #D2E3FC;\n",
              "      }\n",
              "\n",
              "      [theme=dark] .colab-df-generate:hover {\n",
              "        background-color: #434B5C;\n",
              "        box-shadow: 0px 1px 3px 1px rgba(0, 0, 0, 0.15);\n",
              "        filter: drop-shadow(0px 1px 2px rgba(0, 0, 0, 0.3));\n",
              "        fill: #FFFFFF;\n",
              "      }\n",
              "    </style>\n",
              "    <button class=\"colab-df-generate\" onclick=\"generateWithVariable('df')\"\n",
              "            title=\"Generate code using this dataframe.\"\n",
              "            style=\"display:none;\">\n",
              "\n",
              "  <svg xmlns=\"http://www.w3.org/2000/svg\" height=\"24px\"viewBox=\"0 0 24 24\"\n",
              "       width=\"24px\">\n",
              "    <path d=\"M7,19H8.4L18.45,9,17,7.55,7,17.6ZM5,21V16.75L18.45,3.32a2,2,0,0,1,2.83,0l1.4,1.43a1.91,1.91,0,0,1,.58,1.4,1.91,1.91,0,0,1-.58,1.4L9.25,21ZM18.45,9,17,7.55Zm-12,3A5.31,5.31,0,0,0,4.9,8.1,5.31,5.31,0,0,0,1,6.5,5.31,5.31,0,0,0,4.9,4.9,5.31,5.31,0,0,0,6.5,1,5.31,5.31,0,0,0,8.1,4.9,5.31,5.31,0,0,0,12,6.5,5.46,5.46,0,0,0,6.5,12Z\"/>\n",
              "  </svg>\n",
              "    </button>\n",
              "    <script>\n",
              "      (() => {\n",
              "      const buttonEl =\n",
              "        document.querySelector('#id_2d7eff74-49ec-43d9-a981-b5af003b1b81 button.colab-df-generate');\n",
              "      buttonEl.style.display =\n",
              "        google.colab.kernel.accessAllowed ? 'block' : 'none';\n",
              "\n",
              "      buttonEl.onclick = () => {\n",
              "        google.colab.notebook.generateWithVariable('df');\n",
              "      }\n",
              "      })();\n",
              "    </script>\n",
              "  </div>\n",
              "\n",
              "    </div>\n",
              "  </div>\n"
            ],
            "application/vnd.google.colaboratory.intrinsic+json": {
              "type": "dataframe",
              "variable_name": "df"
            }
          },
          "metadata": {},
          "execution_count": 4
        }
      ]
    },
    {
      "cell_type": "code",
      "source": [
        "import pandas as pd\n",
        "df=pd.read_csv('/content/b5.csv')\n",
        "X_cut=0.5\n",
        "Y_cut=0.5\n",
        "df_L_shape=df[(df[\"x\"]>X_cut) | (df[\"y\"]>Y_cut)]\n"
      ],
      "metadata": {
        "id": "0O-12K4FyWUN"
      },
      "execution_count": 5,
      "outputs": []
    },
    {
      "cell_type": "code",
      "source": [
        "import pandas as pd\n",
        "\n",
        "# Load the CSV file\n",
        "#df = pd.read_csv('your_grid.csv')  # Replace with your actual file path\n",
        "\n",
        "# Get unique x and y values\n",
        "unique_x = sorted(df['x'].unique())\n",
        "unique_y = sorted(df['y'].unique())\n",
        "\n",
        "# Dimensions\n",
        "num_x = len(unique_x)\n",
        "num_y = len(unique_y)\n",
        "\n",
        "print(f\"Number of unique x-values: {num_x}\")\n",
        "print(f\"Number of unique y-values: {num_y}\")\n",
        "print(f\"Grid shape: ({num_y}, {num_x}) → {num_y} rows (y), {num_x} columns (x)\")\n"
      ],
      "metadata": {
        "colab": {
          "base_uri": "https://localhost:8080/"
        },
        "id": "EFFnflj6yWXW",
        "outputId": "d811aa56-6d57-4077-8a4c-6c308bb72416"
      },
      "execution_count": 6,
      "outputs": [
        {
          "output_type": "stream",
          "name": "stdout",
          "text": [
            "Number of unique x-values: 714\n",
            "Number of unique y-values: 519\n",
            "Grid shape: (519, 714) → 519 rows (y), 714 columns (x)\n"
          ]
        }
      ]
    },
    {
      "cell_type": "code",
      "source": [
        "import pandas as pd\n",
        "\n",
        "# Load your CSV file\n",
        "#df = pd.read_csv('your_grid.csv')  # Replace with actual file path\n",
        "\n",
        "# Get min and max of x and y\n",
        "x_min = df['x'].min()\n",
        "x_max = df['x'].max()\n",
        "y_min = df['y'].min()\n",
        "y_max = df['y'].max()\n",
        "\n",
        "print(f\"x_min: {x_min}, x_max: {x_max}\")\n",
        "print(f\"y_min: {y_min}, y_max: {y_max}\")\n"
      ],
      "metadata": {
        "colab": {
          "base_uri": "https://localhost:8080/"
        },
        "id": "_JpSma3FyWad",
        "outputId": "2c1c6831-369e-46f5-b384-bf78fb0318e0"
      },
      "execution_count": 7,
      "outputs": [
        {
          "output_type": "stream",
          "name": "stdout",
          "text": [
            "x_min: 0.0, x_max: 40.0\n",
            "y_min: 10.0, y_max: 30.0\n"
          ]
        }
      ]
    },
    {
      "cell_type": "code",
      "source": [
        "import pandas as pd\n",
        "\n",
        "# Load the CSV\n",
        "#df = pd.read_csv('your_grid.csv')\n",
        "\n",
        "# Set thickness in real units\n",
        "vertical_thickness = 3.0  # in x-direction\n",
        "horizontal_thickness = 3.0  # in y-direction\n",
        "\n",
        "# Get min values\n",
        "x_min = df['x'].min()\n",
        "y_min = df['y'].min()\n",
        "\n",
        "# Mask for thick vertical arm: x ∈ [x_min, x_min + vertical_thickness]\n",
        "vertical_mask = (df['x'] >= x_min) & (df['x'] <= x_min + vertical_thickness)\n",
        "\n",
        "# Mask for thick horizontal arm: y ∈ [y_min, y_min + horizontal_thickness]\n",
        "horizontal_mask = (df['y'] >= y_min) & (df['y'] <= y_min + horizontal_thickness)\n",
        "\n",
        "# Combine both to get L-shape\n",
        "l_mask = vertical_mask | horizontal_mask\n",
        "df_l_shape = df[l_mask].copy()\n"
      ],
      "metadata": {
        "id": "Ezg3lb7QyWdM"
      },
      "execution_count": 8,
      "outputs": []
    },
    {
      "cell_type": "code",
      "source": [
        "print(f\"Original grid size: {df.shape[0]}\")\n",
        "print(f\"L-shaped grid size: {df_l_shape.shape[0]}\")\n"
      ],
      "metadata": {
        "colab": {
          "base_uri": "https://localhost:8080/"
        },
        "id": "OIUNW_vKyWgj",
        "outputId": "9d0238c7-8c54-449a-81f8-280b3698fb31"
      },
      "execution_count": 9,
      "outputs": [
        {
          "output_type": "stream",
          "name": "stdout",
          "text": [
            "Original grid size: 1029350\n",
            "L-shaped grid size: 52755\n"
          ]
        }
      ]
    },
    {
      "cell_type": "code",
      "source": [
        "import pandas as pd\n",
        "import matplotlib.pyplot as plt\n",
        "\n",
        "# Load the CSV\n",
        "#df = pd.read_csv('your_grid.csv')\n",
        "\n",
        "# Define thickness (in coordinate units)\n",
        "vertical_thickness = 3.0  # thickness of the vertical arm in x-direction\n",
        "horizontal_thickness = 3.0  # thickness of the horizontal arm in y-direction\n",
        "\n",
        "# Get bounding box\n",
        "x_min = df['x'].min()\n",
        "y_min = df['y'].min()\n",
        "\n",
        "# Create masks\n",
        "vertical_mask = (df['x'] >= x_min) & (df['x'] <= x_min + vertical_thickness)\n",
        "horizontal_mask = (df['y'] >= y_min) & (df['y'] <= y_min + horizontal_thickness)\n",
        "\n",
        "l_mask = vertical_mask | horizontal_mask\n",
        "df_l_shape = df[l_mask].copy()\n",
        "\n",
        "# Plot full grid (gray)\n",
        "plt.figure(figsize=(8, 6))\n",
        "plt.scatter(df['x'], df['y'], color='lightgray', s=10, label='Original Grid')\n",
        "\n",
        "# Overlay L-shaped region (blue)\n",
        "plt.scatter(df_l_shape['x'], df_l_shape['y'], color='blue', s=0.5, label='L-shaped Region')\n",
        "\n",
        "# Grid styling\n",
        "plt.gca().set_aspect('equal', adjustable='box')\n",
        "plt.title('Thicker L-Shaped Grid vs Full Grid')\n",
        "plt.xlabel('x')\n",
        "plt.ylabel('y')\n",
        "plt.legend()\n",
        "plt.grid(True)\n",
        "plt.show()\n"
      ],
      "metadata": {
        "colab": {
          "base_uri": "https://localhost:8080/",
          "height": 467
        },
        "id": "Ct4zKCtcyWmE",
        "outputId": "25e54ed9-6831-47b3-d695-c7894feade0c"
      },
      "execution_count": 10,
      "outputs": [
        {
          "output_type": "stream",
          "name": "stderr",
          "text": [
            "/usr/local/lib/python3.11/dist-packages/IPython/core/pylabtools.py:151: UserWarning: Creating legend with loc=\"best\" can be slow with large amounts of data.\n",
            "  fig.canvas.print_figure(bytes_io, **kw)\n"
          ]
        },
        {
          "output_type": "display_data",
          "data": {
            "text/plain": [
              "<Figure size 800x600 with 1 Axes>"
            ],
            "image/png": "[encoded data removed]"
          },
          "metadata": {}
        }
      ]
    },
    {
      "cell_type": "code",
      "source": [
        "count=(df_l_shape['totime']==253.999).sum()\n",
        "count"
      ],
      "metadata": {
        "colab": {
          "base_uri": "https://localhost:8080/"
        },
        "id": "Z5DUVABeyWpD",
        "outputId": "50ab10df-3f06-4974-8f42-6d6b7c011bb6"
      },
      "execution_count": 11,
      "outputs": [
        {
          "output_type": "execute_result",
          "data": {
            "text/plain": [
              "np.int64(10551)"
            ]
          },
          "metadata": {},
          "execution_count": 11
        }
      ]
    },
    {
      "cell_type": "code",
      "source": [
        "data=df_l_shape"
      ],
      "metadata": {
        "id": "LUVq-KFryWsT"
      },
      "execution_count": 12,
      "outputs": []
    },
    {
      "cell_type": "code",
      "source": [
        "import tensorflow as tf\n",
        "from tensorflow.keras import layers\n",
        "\n",
        "class SpatioTemporalTransformer(tf.keras.Model):\n",
        "    def __init__(self, input_dim=3, output_dim=3, d_model=128, num_heads=8, num_layers=6, ff_dim=512, dropout_rate=0.1):\n",
        "        super(SpatioTemporalTransformer, self).__init__()\n",
        "\n",
        "        # Input projection: project input (t, x, y) to d_model dimension\n",
        "        self.input_projection = layers.Dense(d_model)\n",
        "\n",
        "        # Positional encoding\n",
        "        self.positional_encoding = PositionalEncoding(d_model)\n",
        "\n",
        "        # Transformer layers\n",
        "        self.encoder_layers = [TransformerEncoderLayer(d_model, num_heads, ff_dim, dropout_rate) for _ in range(num_layers)]\n",
        "\n",
        "        # Output projection: project transformer output to (u, v, p)\n",
        "        self.output_projection = layers.Dense(output_dim)\n",
        "\n",
        "    def call(self, inputs):\n",
        "        \"\"\"\n",
        "        Forward pass for the transformer model.\n",
        "        Args:\n",
        "        - inputs: Tensor of shape (batch_size, seq_len, input_dim) -> (t, x, y)\n",
        "\n",
        "        Returns:\n",
        "        - output: Tensor of shape (batch_size, seq_len, output_dim) -> (u, v, p)\n",
        "        \"\"\"\n",
        "        # Apply input projection\n",
        "        x = self.input_projection(inputs)\n",
        "\n",
        "        # Apply positional encoding\n",
        "        x = self.positional_encoding(x)\n",
        "\n",
        "        # Forward through transformer encoder layers\n",
        "        for layer in self.encoder_layers:\n",
        "            x = layer(x)\n",
        "\n",
        "        # Output projection to (u, v, p)\n",
        "        output = self.output_projection(x)\n",
        "\n",
        "        return output\n",
        "\n",
        "class PositionalEncoding(layers.Layer):\n",
        "    def __init__(self, d_model, max_len=7000):\n",
        "        super(PositionalEncoding, self).__init__()\n",
        "        self.d_model = d_model\n",
        "\n",
        "        # Create the positional encoding matrix using sine and cosine\n",
        "        position = tf.range(max_len, dtype=tf.float32)[:, tf.newaxis]\n",
        "        div_term = tf.exp(tf.range(0, d_model, 2, dtype=tf.float32) * (-tf.math.log(10000.0) / d_model))\n",
        "\n",
        "        pe_sin = tf.sin(position * div_term)\n",
        "        pe_cos = tf.cos(position * div_term)\n",
        "\n",
        "        # Concatenate sine and cosine terms along the last dimension\n",
        "        pe = tf.concat([pe_sin, pe_cos], axis=-1)\n",
        "\n",
        "        # Add an extra batch dimension at the start, so shape becomes (1, max_len, d_model)\n",
        "        pe = tf.expand_dims(pe, 0)\n",
        "        self.positional_encoding = tf.Variable(pe, trainable=False)\n",
        "\n",
        "    def call(self, x):\n",
        "        \"\"\"\n",
        "        Forward pass for positional encoding.\n",
        "        Args:\n",
        "        - x: Tensor of shape (batch_size, seq_len, d_model)\n",
        "\n",
        "        Returns:\n",
        "        - x: Tensor with positional encoding added\n",
        "        \"\"\"\n",
        "        seq_len = tf.shape(x)[1]\n",
        "        x += self.positional_encoding[:, :seq_len, :]\n",
        "        return x\n",
        "\n",
        "class TransformerEncoderLayer(layers.Layer):\n",
        "    def __init__(self, d_model, num_heads, ff_dim, dropout_rate=0.1):\n",
        "        super(TransformerEncoderLayer, self).__init__()\n",
        "\n",
        "        # Multi-head self-attention\n",
        "        self.attention = layers.MultiHeadAttention(num_heads=num_heads, key_dim=d_model)\n",
        "\n",
        "        # Feedforward layers\n",
        "        self.ffn = tf.keras.Sequential([\n",
        "            layers.Dense(ff_dim, activation='relu'),\n",
        "            layers.Dense(d_model)\n",
        "        ])\n",
        "\n",
        "        # Layer normalization and dropout\n",
        "        self.layernorm1 = layers.LayerNormalization(epsilon=1e-6)\n",
        "        self.layernorm2 = layers.LayerNormalization(epsilon=1e-6)\n",
        "        self.dropout1 = layers.Dropout(dropout_rate)\n",
        "        self.dropout2 = layers.Dropout(dropout_rate)\n",
        "\n",
        "    def call(self, x):\n",
        "        \"\"\"\n",
        "        Forward pass for the transformer encoder layer.\n",
        "        Args:\n",
        "        - x: Tensor of shape (batch_size, seq_len, d_model)\n",
        "\n",
        "        Returns:\n",
        "        - x: Tensor after self-attention and feedforward layers\n",
        "        \"\"\"\n",
        "        # Multi-head attention\n",
        "        attn_output = self.attention(x, x)\n",
        "        attn_output = self.dropout1(attn_output)\n",
        "        out1 = self.layernorm1(x + attn_output)\n",
        "\n",
        "        # Feedforward network\n",
        "        ffn_output = self.ffn(out1)\n",
        "        ffn_output = self.dropout2(ffn_output)\n",
        "        out2 = self.layernorm2(out1 + ffn_output)\n",
        "\n",
        "        return out2\n",
        "\n",
        "# Example usage\n",
        "if __name__ == \"__main__\":\n",
        "    # Dummy input of shape (batch_size, seq_len, input_dim) -> (batch_size, seq_len, (t, x, y))\n",
        "    batch_size = 32\n",
        "    seq_len = 10\n",
        "    input_dim = 3  # (t, x, y)\n",
        "    output_dim = 3  # (u, v, p)\n",
        "\n",
        "    model = SpatioTemporalTransformer(input_dim=input_dim, output_dim=output_dim)\n",
        "    src = tf.random.normal((batch_size, seq_len, input_dim))\n",
        "\n",
        "    # Output should be of shape (batch_size, seq_len, output_dim) -> (u, v, p)\n",
        "    output = model(src)\n",
        "    print(output.shape)  # Expected: (batch_size, seq_len, output_dim)\n"
      ],
      "metadata": {
        "colab": {
          "base_uri": "https://localhost:8080/"
        },
        "id": "3sEN2iCqyWvS",
        "outputId": "8abe7cfa-5f49-4d78-cfe1-b3c0977d7f8c"
      },
      "execution_count": 13,
      "outputs": [
        {
          "output_type": "stream",
          "name": "stdout",
          "text": [
            "(32, 10, 3)\n"
          ]
        }
      ]
    },
    {
      "cell_type": "code",
      "source": [
        "import pandas as pd\n",
        "import numpy as np\n",
        "import tensorflow as tf\n",
        "\n",
        "# Step 1: Load the CSV file into a DataFrame\n",
        "# Assume 'data.csv' contains columns ['t', 'x', 'y', 'u', 'v', 'p']\n",
        "data = df_l_shape\n",
        "\n",
        "# Step 2: Prepare X_train and Y_train\n",
        "# X_train will have (t, x, y), and Y_train will have (u, v, p)\n",
        "X_train = data[['totime', 'x', 'y']].values\n",
        "Y_train = data[['u', 'v', 'p']].values\n",
        "\n",
        "# Step 3: Normalize or scale the data (if necessary)\n",
        "# Optionally, you might normalize the features to be in a certain range\n",
        "from sklearn.preprocessing import MinMaxScaler\n",
        "\n",
        "scaler_X = MinMaxScaler()  # Scale (t, x, y) between 0 and 1\n",
        "scaler_Y = MinMaxScaler()  # Scale (u, v, p) between 0 and 1\n",
        "\n",
        "X_train_scaled = scaler_X.fit_transform(X_train)\n",
        "Y_train_scaled = scaler_Y.fit_transform(Y_train)\n",
        "\n",
        "# Step 4: Reshape the data to match the expected input of the model\n",
        "# Assuming that each sequence is independent, we reshape as (batch_size, seq_len, input_dim)\n",
        "# If you want to work with time sequences, you can reshape accordingly\n",
        "batch_size = 32  # Number of samples per batch\n",
        "seq_len = 1      # Sequence length, in this case 1 because we're not forming time sequences\n",
        "input_dim = 3    # (t, x, y)\n",
        "output_dim = 3   # (u, v, p)\n",
        "\n",
        "X_train_reshaped = np.reshape(X_train_scaled, (X_train_scaled.shape[0] // seq_len, seq_len, input_dim))\n",
        "Y_train_reshaped = np.reshape(Y_train_scaled, (Y_train_scaled.shape[0] // seq_len, seq_len, output_dim))\n",
        "\n",
        "# Step 5: Convert to TensorFlow tensors\n",
        "X_train_tensor = tf.convert_to_tensor(X_train_reshaped, dtype=tf.float32)\n",
        "Y_train_tensor = tf.convert_to_tensor(Y_train_reshaped, dtype=tf.float32)\n",
        "\n",
        "print(X_train_tensor.shape)  # Expected shape: (batch_size, seq_len, input_dim)\n",
        "print(Y_train_tensor.shape)  # Expected shape: (batch_size, seq_len, output_dim)\n"
      ],
      "metadata": {
        "colab": {
          "base_uri": "https://localhost:8080/"
        },
        "id": "UZ0KaGg5yWyq",
        "outputId": "c2057776-0ee1-402a-902e-21e5ea2aa150"
      },
      "execution_count": 14,
      "outputs": [
        {
          "output_type": "stream",
          "name": "stdout",
          "text": [
            "(52755, 1, 3)\n",
            "(52755, 1, 3)\n"
          ]
        }
      ]
    },
    {
      "cell_type": "code",
      "source": [
        "data=df_l_shape"
      ],
      "metadata": {
        "id": "7MrnJ57E0RFj"
      },
      "execution_count": 15,
      "outputs": []
    },
    {
      "cell_type": "code",
      "source": [
        "# Initialize scalers for input (x, y) and target (u, v, p)\n",
        "scaler_X = MinMaxScaler()  # For normalizing (x, y)\n",
        "scaler_Y = MinMaxScaler()  # For normalizing (u, v, p)\n",
        "\n",
        "# Normalize the spatial coordinates (x, y)\n",
        "data[['x', 'y']] = scaler_X.fit_transform(data[['x', 'y']])\n",
        "\n",
        "# Normalize the target values (u, v, p)\n",
        "data[['u', 'v', 'p']] = scaler_Y.fit_transform(data[['u', 'v', 'p']])\n",
        "\n",
        "# Ensure data is sorted by time\n",
        "data = data.sort_values(by=['totime', 'x', 'y']).reset_index(drop=True)\n"
      ],
      "metadata": {
        "id": "BRpQ36N90RIC"
      },
      "execution_count": 16,
      "outputs": []
    },
    {
      "cell_type": "code",
      "source": [
        "import pandas as pd\n",
        "import numpy as np\n",
        "\n",
        "# Load the dataset\n",
        "# Assume your dataset has columns: ['t', 'x', 'y', 'u', 'v', 'p']\n",
        "data = df_l_shape\n",
        "\n",
        "# Step 1: Sort the data by time\n",
        "data = data.sort_values(by=['totime', 'x', 'y']).reset_index(drop=True)\n",
        "\n",
        "# Step 2: Group by time step\n",
        "# Extract unique time steps\n",
        "time_steps = data['totime'].unique()\n",
        "\n",
        "# Prepare lists to hold sequences of (x, y) and (u, v, p)\n",
        "X_spatial_seq = []\n",
        "Y_spatial_seq = []\n",
        "\n",
        "# Step 3: For each time step, gather the spatial points (x, y) and corresponding target (u, v, p)\n",
        "for t in time_steps:\n",
        "    # Filter data for the current time step\n",
        "    time_data = data[data['totime'] == t]\n",
        "\n",
        "    # Extract spatial points (x, y)\n",
        "    X_spatial = time_data[['x', 'y']].values\n",
        "\n",
        "    # Extract target values (u, v, p)\n",
        "    Y_spatial = time_data[['u', 'v', 'p']].values\n",
        "\n",
        "    # Append to the sequences\n",
        "    X_spatial_seq.append(X_spatial)\n",
        "    Y_spatial_seq.append(Y_spatial)\n",
        "\n",
        "# Step 4: Convert the lists to numpy arrays\n",
        "X_spatial_seq = np.array(X_spatial_seq)\n",
        "Y_spatial_seq = np.array(Y_spatial_seq)\n",
        "\n",
        "# Check shapes\n",
        "print(X_spatial_seq.shape)  # Expected: (n_time_steps, n_spatial_points, 2) -> (t, (x, y))\n",
        "print(Y_spatial_seq.shape)  # Expected: (n_time_steps, n_spatial_points, 3) -> (t, (u, v, p))\n"
      ],
      "metadata": {
        "colab": {
          "base_uri": "https://localhost:8080/"
        },
        "id": "MElCvIgL0RKq",
        "outputId": "dabd2c99-f669-4d2f-fb98-b103e0f56d8f"
      },
      "execution_count": 17,
      "outputs": [
        {
          "output_type": "stream",
          "name": "stdout",
          "text": [
            "(5, 10551, 2)\n",
            "(5, 10551, 3)\n"
          ]
        }
      ]
    },
    {
      "cell_type": "code",
      "source": [
        "# Create the input by adding the time step to each spatial point\n",
        "X_spatial_seq_with_time = []\n",
        "\n",
        "for i, t in enumerate(time_steps):\n",
        "    # Repeat the time step `t` for each spatial point in this time step\n",
        "    t_column = np.full((X_spatial_seq[i].shape[0], 1), t)\n",
        "\n",
        "    # Concatenate time step `t` with the spatial points (x, y)\n",
        "    X_with_time = np.concatenate([t_column, X_spatial_seq[i]], axis=1)\n",
        "\n",
        "    # Append to the new input sequence\n",
        "    X_spatial_seq_with_time.append(X_with_time)\n",
        "\n",
        "# Convert the list to a numpy array\n",
        "X_spatial_seq_with_time = np.array(X_spatial_seq_with_time)\n",
        "\n",
        "# Check the shape of the new input\n",
        "print(X_spatial_seq_with_time.shape)  # Expected shape: (n_time_steps, n_spatial_points, 3)\n"
      ],
      "metadata": {
        "colab": {
          "base_uri": "https://localhost:8080/"
        },
        "id": "MTiSxayc0RM5",
        "outputId": "549fe564-8989-44cb-82c7-fcca845c9e9b"
      },
      "execution_count": 18,
      "outputs": [
        {
          "output_type": "stream",
          "name": "stdout",
          "text": [
            "(5, 10551, 3)\n"
          ]
        }
      ]
    },
    {
      "cell_type": "code",
      "source": [
        "t"
      ],
      "metadata": {
        "colab": {
          "base_uri": "https://localhost:8080/"
        },
        "id": "vwN0fFNo0RPv",
        "outputId": "ce5e95fd-6f01-4d8f-f5cf-9b3615fd4fdf"
      },
      "execution_count": 19,
      "outputs": [
        {
          "output_type": "execute_result",
          "data": {
            "text/plain": [
              "np.float64(256.999)"
            ]
          },
          "metadata": {},
          "execution_count": 19
        }
      ]
    },
    {
      "cell_type": "code",
      "source": [
        "X_spatial_seq_with_time"
      ],
      "metadata": {
        "colab": {
          "base_uri": "https://localhost:8080/"
        },
        "id": "493bjZD50RRw",
        "outputId": "17b25041-67f3-4448-d313-6358aab72a20"
      },
      "execution_count": 20,
      "outputs": [
        {
          "output_type": "execute_result",
          "data": {
            "text/plain": [
              "array([[[2.52999e+02, 0.00000e+00, 2.00000e-02],\n",
              "        [2.52999e+02, 0.00000e+00, 5.00000e-02],\n",
              "        [2.52999e+02, 0.00000e+00, 8.00000e-02],\n",
              "        ...,\n",
              "        [2.52999e+02, 1.00000e+00, 1.30000e-01],\n",
              "        [2.52999e+02, 1.00000e+00, 1.40000e-01],\n",
              "        [2.52999e+02, 1.00000e+00, 1.50000e-01]],\n",
              "\n",
              "       [[2.53999e+02, 0.00000e+00, 2.00000e-02],\n",
              "        [2.53999e+02, 0.00000e+00, 5.00000e-02],\n",
              "        [2.53999e+02, 0.00000e+00, 8.00000e-02],\n",
              "        ...,\n",
              "        [2.53999e+02, 1.00000e+00, 1.30000e-01],\n",
              "        [2.53999e+02, 1.00000e+00, 1.40000e-01],\n",
              "        [2.53999e+02, 1.00000e+00, 1.50000e-01]],\n",
              "\n",
              "       [[2.54999e+02, 0.00000e+00, 2.00000e-02],\n",
              "        [2.54999e+02, 0.00000e+00, 5.00000e-02],\n",
              "        [2.54999e+02, 0.00000e+00, 8.00000e-02],\n",
              "        ...,\n",
              "        [2.54999e+02, 1.00000e+00, 1.30000e-01],\n",
              "        [2.54999e+02, 1.00000e+00, 1.40000e-01],\n",
              "        [2.54999e+02, 1.00000e+00, 1.50000e-01]],\n",
              "\n",
              "       [[2.55999e+02, 0.00000e+00, 2.00000e-02],\n",
              "        [2.55999e+02, 0.00000e+00, 5.00000e-02],\n",
              "        [2.55999e+02, 0.00000e+00, 8.00000e-02],\n",
              "        ...,\n",
              "        [2.55999e+02, 1.00000e+00, 1.30000e-01],\n",
              "        [2.55999e+02, 1.00000e+00, 1.40000e-01],\n",
              "        [2.55999e+02, 1.00000e+00, 1.50000e-01]],\n",
              "\n",
              "       [[2.56999e+02, 0.00000e+00, 2.00000e-02],\n",
              "        [2.56999e+02, 0.00000e+00, 5.00000e-02],\n",
              "        [2.56999e+02, 0.00000e+00, 8.00000e-02],\n",
              "        ...,\n",
              "        [2.56999e+02, 1.00000e+00, 1.30000e-01],\n",
              "        [2.56999e+02, 1.00000e+00, 1.40000e-01],\n",
              "        [2.56999e+02, 1.00000e+00, 1.50000e-01]]])"
            ]
          },
          "metadata": {},
          "execution_count": 20
        }
      ]
    },
    {
      "cell_type": "code",
      "source": [
        "X_train = X_spatial_seq_with_time[:4]\n",
        "Y_train = Y_spatial_seq[:4]\n",
        "X_test = X_spatial_seq_with_time[4:5]\n",
        "Y_test = Y_spatial_seq[4:5]"
      ],
      "metadata": {
        "id": "Zhgqfo-a0RVG"
      },
      "execution_count": 21,
      "outputs": []
    },
    {
      "cell_type": "code",
      "source": [
        "import tensorflow as tf\n",
        "\n",
        "# Convert the numpy arrays to TensorFlow tensors\n",
        "X_train_tensor = tf.convert_to_tensor(X_train, dtype=tf.float32)\n",
        "Y_train_tensor = tf.convert_to_tensor(Y_train, dtype=tf.float32)\n",
        "X_test_tensor = tf.convert_to_tensor(X_test, dtype=tf.float32)\n",
        "Y_test_tensor = tf.convert_to_tensor(Y_test, dtype=tf.float32)\n",
        "\n",
        "\n",
        "print(X_train_tensor.shape)  # Expected: (n_time_steps, n_spatial_points, 2)\n",
        "print(Y_train_tensor.shape)  # Expected: (n_time_steps, n_spatial_points, 3)\n"
      ],
      "metadata": {
        "colab": {
          "base_uri": "https://localhost:8080/"
        },
        "id": "sOYTq3h90RYd",
        "outputId": "024111aa-bdaf-4f26-d5f1-0cc8f4a06185"
      },
      "execution_count": 22,
      "outputs": [
        {
          "output_type": "stream",
          "name": "stdout",
          "text": [
            "(4, 10551, 3)\n",
            "(4, 10551, 3)\n"
          ]
        }
      ]
    },
    {
      "cell_type": "code",
      "source": [
        "# Truncate the input tensor if it's larger than 1000\n",
        "max_seq_length = 3000\n",
        "\n",
        "if X_train_tensor.shape[1] > max_seq_length:\n",
        "    X_train_tensor = X_train_tensor[:, :max_seq_length, :]\n",
        "    Y_train_tensor = Y_train_tensor[:, :max_seq_length, :]\n"
      ],
      "metadata": {
        "id": "S5SjyMvg0oMG"
      },
      "execution_count": 23,
      "outputs": []
    },
    {
      "cell_type": "code",
      "source": [
        "#include a custom loss also and increase number of points\n",
        "X_train_tensor.shape,Y_train_tensor.shape\n"
      ],
      "metadata": {
        "colab": {
          "base_uri": "https://localhost:8080/"
        },
        "id": "vpbkz7kT0oOx",
        "outputId": "b7d944ce-aa5e-4618-92f7-c2675a356a5a"
      },
      "execution_count": 24,
      "outputs": [
        {
          "output_type": "execute_result",
          "data": {
            "text/plain": [
              "(TensorShape([4, 3000, 3]), TensorShape([4, 3000, 3]))"
            ]
          },
          "metadata": {},
          "execution_count": 24
        }
      ]
    },
    {
      "cell_type": "code",
      "source": [
        "# Compile the model\n",
        "model.compile(optimizer='adam', loss='mse')\n",
        "\n",
        "# Train the model\n",
        "history = model.fit(X_train_tensor, Y_train_tensor, epochs=100, batch_size=32)\n"
      ],
      "metadata": {
        "colab": {
          "base_uri": "https://localhost:8080/"
        },
        "id": "cPwAbc-e0oRo",
        "outputId": "a24d7645-1698-4902-a702-33a6d306d25c"
      },
      "execution_count": 25,
      "outputs": [
        {
          "output_type": "stream",
          "name": "stdout",
          "text": [
            "Epoch 1/100\n",
            "\u001b[1m1/1\u001b[0m \u001b[32m━━━━━━━━━━━━━━━━━━━━\u001b[0m\u001b[37m\u001b[0m \u001b[1m28s\u001b[0m 28s/step - loss: 4.5108\n",
            "Epoch 2/100\n",
            "\u001b[1m1/1\u001b[0m \u001b[32m━━━━━━━━━━━━━━━━━━━━\u001b[0m\u001b[37m\u001b[0m \u001b[1m8s\u001b[0m 8s/step - loss: 21.3750\n",
            "Epoch 3/100\n",
            "\u001b[1m1/1\u001b[0m \u001b[32m━━━━━━━━━━━━━━━━━━━━\u001b[0m\u001b[37m\u001b[0m \u001b[1m1s\u001b[0m 1s/step - loss: 0.2147\n",
            "Epoch 4/100\n",
            "\u001b[1m1/1\u001b[0m \u001b[32m━━━━━━━━━━━━━━━━━━━━\u001b[0m\u001b[37m\u001b[0m \u001b[1m1s\u001b[0m 1s/step - loss: 2.7589\n",
            "Epoch 5/100\n",
            "\u001b[1m1/1\u001b[0m \u001b[32m━━━━━━━━━━━━━━━━━━━━\u001b[0m\u001b[37m\u001b[0m \u001b[1m1s\u001b[0m 1s/step - loss: 0.0640\n",
            "Epoch 6/100\n",
            "\u001b[1m1/1\u001b[0m \u001b[32m━━━━━━━━━━━━━━━━━━━━\u001b[0m\u001b[37m\u001b[0m \u001b[1m1s\u001b[0m 1s/step - loss: 0.6201\n",
            "Epoch 7/100\n",
            "\u001b[1m1/1\u001b[0m \u001b[32m━━━━━━━━━━━━━━━━━━━━\u001b[0m\u001b[37m\u001b[0m \u001b[1m1s\u001b[0m 1s/step - loss: 0.5072\n",
            "Epoch 8/100\n",
            "\u001b[1m1/1\u001b[0m \u001b[32m━━━━━━━━━━━━━━━━━━━━\u001b[0m\u001b[37m\u001b[0m \u001b[1m1s\u001b[0m 999ms/step - loss: 0.1955\n",
            "Epoch 9/100\n",
            "\u001b[1m1/1\u001b[0m \u001b[32m━━━━━━━━━━━━━━━━━━━━\u001b[0m\u001b[37m\u001b[0m \u001b[1m1s\u001b[0m 1s/step - loss: 0.0849   \n",
            "Epoch 10/100\n",
            "\u001b[1m1/1\u001b[0m \u001b[32m━━━━━━━━━━━━━━━━━━━━\u001b[0m\u001b[37m\u001b[0m \u001b[1m1s\u001b[0m 1s/step - loss: 0.1219\n",
            "Epoch 11/100\n",
            "\u001b[1m1/1\u001b[0m \u001b[32m━━━━━━━━━━━━━━━━━━━━\u001b[0m\u001b[37m\u001b[0m \u001b[1m1s\u001b[0m 1s/step - loss: 0.1813\n",
            "Epoch 12/100\n",
            "\u001b[1m1/1\u001b[0m \u001b[32m━━━━━━━━━━━━━━━━━━━━\u001b[0m\u001b[37m\u001b[0m \u001b[1m1s\u001b[0m 995ms/step - loss: 0.1981\n",
            "Epoch 13/100\n",
            "\u001b[1m1/1\u001b[0m \u001b[32m━━━━━━━━━━━━━━━━━━━━\u001b[0m\u001b[37m\u001b[0m \u001b[1m1s\u001b[0m 1s/step - loss: 0.1647\n",
            "Epoch 14/100\n",
            "\u001b[1m1/1\u001b[0m \u001b[32m━━━━━━━━━━━━━━━━━━━━\u001b[0m\u001b[37m\u001b[0m \u001b[1m1s\u001b[0m 1s/step - loss: 0.1083\n",
            "Epoch 15/100\n",
            "\u001b[1m1/1\u001b[0m \u001b[32m━━━━━━━━━━━━━━━━━━━━\u001b[0m\u001b[37m\u001b[0m \u001b[1m1s\u001b[0m 1s/step - loss: 0.0601   \n",
            "Epoch 16/100\n",
            "\u001b[1m1/1\u001b[0m \u001b[32m━━━━━━━━━━━━━━━━━━━━\u001b[0m\u001b[37m\u001b[0m \u001b[1m1s\u001b[0m 994ms/step - loss: 0.0387\n",
            "Epoch 17/100\n",
            "\u001b[1m1/1\u001b[0m \u001b[32m━━━━━━━━━━━━━━━━━━━━\u001b[0m\u001b[37m\u001b[0m \u001b[1m1s\u001b[0m 1s/step - loss: 0.0477   \n",
            "Epoch 18/100\n",
            "\u001b[1m1/1\u001b[0m \u001b[32m━━━━━━━━━━━━━━━━━━━━\u001b[0m\u001b[37m\u001b[0m \u001b[1m1s\u001b[0m 990ms/step - loss: 0.0737\n",
            "Epoch 19/100\n",
            "\u001b[1m1/1\u001b[0m \u001b[32m━━━━━━━━━━━━━━━━━━━━\u001b[0m\u001b[37m\u001b[0m \u001b[1m1s\u001b[0m 1s/step - loss: 0.0940\n",
            "Epoch 20/100\n",
            "\u001b[1m1/1\u001b[0m \u001b[32m━━━━━━━━━━━━━━━━━━━━\u001b[0m\u001b[37m\u001b[0m \u001b[1m1s\u001b[0m 1s/step - loss: 0.0893\n",
            "Epoch 21/100\n",
            "\u001b[1m1/1\u001b[0m \u001b[32m━━━━━━━━━━━━━━━━━━━━\u001b[0m\u001b[37m\u001b[0m \u001b[1m1s\u001b[0m 1s/step - loss: 0.0605\n",
            "Epoch 22/100\n",
            "\u001b[1m1/1\u001b[0m \u001b[32m━━━━━━━━━━━━━━━━━━━━\u001b[0m\u001b[37m\u001b[0m \u001b[1m1s\u001b[0m 1s/step - loss: 0.0263   \n",
            "Epoch 23/100\n",
            "\u001b[1m1/1\u001b[0m \u001b[32m━━━━━━━━━━━━━━━━━━━━\u001b[0m\u001b[37m\u001b[0m \u001b[1m1s\u001b[0m 1s/step - loss: 0.0088   \n",
            "Epoch 24/100\n",
            "\u001b[1m1/1\u001b[0m \u001b[32m━━━━━━━━━━━━━━━━━━━━\u001b[0m\u001b[37m\u001b[0m \u001b[1m1s\u001b[0m 1s/step - loss: 0.0166\n",
            "Epoch 25/100\n",
            "\u001b[1m1/1\u001b[0m \u001b[32m━━━━━━━━━━━━━━━━━━━━\u001b[0m\u001b[37m\u001b[0m \u001b[1m1s\u001b[0m 1s/step - loss: 0.0380\n",
            "Epoch 26/100\n",
            "\u001b[1m1/1\u001b[0m \u001b[32m━━━━━━━━━━━━━━━━━━━━\u001b[0m\u001b[37m\u001b[0m \u001b[1m1s\u001b[0m 1s/step - loss: 0.0524\n",
            "Epoch 27/100\n",
            "\u001b[1m1/1\u001b[0m \u001b[32m━━━━━━━━━━━━━━━━━━━━\u001b[0m\u001b[37m\u001b[0m \u001b[1m1s\u001b[0m 1s/step - loss: 0.0484   \n",
            "Epoch 28/100\n",
            "\u001b[1m1/1\u001b[0m \u001b[32m━━━━━━━━━━━━━━━━━━━━\u001b[0m\u001b[37m\u001b[0m \u001b[1m1s\u001b[0m 1s/step - loss: 0.0316\n",
            "Epoch 29/100\n",
            "\u001b[1m1/1\u001b[0m \u001b[32m━━━━━━━━━━━━━━━━━━━━\u001b[0m\u001b[37m\u001b[0m \u001b[1m1s\u001b[0m 1s/step - loss: 0.0158   \n",
            "Epoch 30/100\n",
            "\u001b[1m1/1\u001b[0m \u001b[32m━━━━━━━━━━━━━━━━━━━━\u001b[0m\u001b[37m\u001b[0m \u001b[1m1s\u001b[0m 1s/step - loss: 0.0103   \n",
            "Epoch 31/100\n",
            "\u001b[1m1/1\u001b[0m \u001b[32m━━━━━━━━━━━━━━━━━━━━\u001b[0m\u001b[37m\u001b[0m \u001b[1m1s\u001b[0m 1s/step - loss: 0.0140\n",
            "Epoch 32/100\n",
            "\u001b[1m1/1\u001b[0m \u001b[32m━━━━━━━━━━━━━━━━━━━━\u001b[0m\u001b[37m\u001b[0m \u001b[1m1s\u001b[0m 1s/step - loss: 0.0203   \n",
            "Epoch 33/100\n",
            "\u001b[1m1/1\u001b[0m \u001b[32m━━━━━━━━━━━━━━━━━━━━\u001b[0m\u001b[37m\u001b[0m \u001b[1m1s\u001b[0m 1s/step - loss: 0.0237   \n",
            "Epoch 34/100\n",
            "\u001b[1m1/1\u001b[0m \u001b[32m━━━━━━━━━━━━━━━━━━━━\u001b[0m\u001b[37m\u001b[0m \u001b[1m1s\u001b[0m 1s/step - loss: 0.0232\n",
            "Epoch 35/100\n",
            "\u001b[1m1/1\u001b[0m \u001b[32m━━━━━━━━━━━━━━━━━━━━\u001b[0m\u001b[37m\u001b[0m \u001b[1m1s\u001b[0m 1s/step - loss: 0.0203\n",
            "Epoch 36/100\n",
            "\u001b[1m1/1\u001b[0m \u001b[32m━━━━━━━━━━━━━━━━━━━━\u001b[0m\u001b[37m\u001b[0m \u001b[1m1s\u001b[0m 1s/step - loss: 0.0163\n",
            "Epoch 37/100\n",
            "\u001b[1m1/1\u001b[0m \u001b[32m━━━━━━━━━━━━━━━━━━━━\u001b[0m\u001b[37m\u001b[0m \u001b[1m1s\u001b[0m 1s/step - loss: 0.0123   \n",
            "Epoch 38/100\n",
            "\u001b[1m1/1\u001b[0m \u001b[32m━━━━━━━━━━━━━━━━━━━━\u001b[0m\u001b[37m\u001b[0m \u001b[1m1s\u001b[0m 1s/step - loss: 0.0098   \n",
            "Epoch 39/100\n",
            "\u001b[1m1/1\u001b[0m \u001b[32m━━━━━━━━━━━━━━━━━━━━\u001b[0m\u001b[37m\u001b[0m \u001b[1m1s\u001b[0m 1s/step - loss: 0.0099   \n",
            "Epoch 40/100\n",
            "\u001b[1m1/1\u001b[0m \u001b[32m━━━━━━━━━━━━━━━━━━━━\u001b[0m\u001b[37m\u001b[0m \u001b[1m1s\u001b[0m 1s/step - loss: 0.0124\n",
            "Epoch 41/100\n",
            "\u001b[1m1/1\u001b[0m \u001b[32m━━━━━━━━━━━━━━━━━━━━\u001b[0m\u001b[37m\u001b[0m \u001b[1m1s\u001b[0m 1s/step - loss: 0.0151\n",
            "Epoch 42/100\n",
            "\u001b[1m1/1\u001b[0m \u001b[32m━━━━━━━━━━━━━━━━━━━━\u001b[0m\u001b[37m\u001b[0m \u001b[1m1s\u001b[0m 1s/step - loss: 0.0156\n",
            "Epoch 43/100\n",
            "\u001b[1m1/1\u001b[0m \u001b[32m━━━━━━━━━━━━━━━━━━━━\u001b[0m\u001b[37m\u001b[0m \u001b[1m1s\u001b[0m 1s/step - loss: 0.0131\n",
            "Epoch 44/100\n",
            "\u001b[1m1/1\u001b[0m \u001b[32m━━━━━━━━━━━━━━━━━━━━\u001b[0m\u001b[37m\u001b[0m \u001b[1m1s\u001b[0m 1s/step - loss: 0.0096\n",
            "Epoch 45/100\n",
            "\u001b[1m1/1\u001b[0m \u001b[32m━━━━━━━━━━━━━━━━━━━━\u001b[0m\u001b[37m\u001b[0m \u001b[1m1s\u001b[0m 1s/step - loss: 0.0074\n",
            "Epoch 46/100\n",
            "\u001b[1m1/1\u001b[0m \u001b[32m━━━━━━━━━━━━━━━━━━━━\u001b[0m\u001b[37m\u001b[0m \u001b[1m1s\u001b[0m 1s/step - loss: 0.0078\n",
            "Epoch 47/100\n",
            "\u001b[1m1/1\u001b[0m \u001b[32m━━━━━━━━━━━━━━━━━━━━\u001b[0m\u001b[37m\u001b[0m \u001b[1m1s\u001b[0m 1s/step - loss: 0.0099\n",
            "Epoch 48/100\n",
            "\u001b[1m1/1\u001b[0m \u001b[32m━━━━━━━━━━━━━━━━━━━━\u001b[0m\u001b[37m\u001b[0m \u001b[1m1s\u001b[0m 1s/step - loss: 0.0115\n",
            "Epoch 49/100\n",
            "\u001b[1m1/1\u001b[0m \u001b[32m━━━━━━━━━━━━━━━━━━━━\u001b[0m\u001b[37m\u001b[0m \u001b[1m1s\u001b[0m 1s/step - loss: 0.0113\n",
            "Epoch 50/100\n",
            "\u001b[1m1/1\u001b[0m \u001b[32m━━━━━━━━━━━━━━━━━━━━\u001b[0m\u001b[37m\u001b[0m \u001b[1m1s\u001b[0m 1s/step - loss: 0.0096\n",
            "Epoch 51/100\n",
            "\u001b[1m1/1\u001b[0m \u001b[32m━━━━━━━━━━━━━━━━━━━━\u001b[0m\u001b[37m\u001b[0m \u001b[1m1s\u001b[0m 1s/step - loss: 0.0080\n",
            "Epoch 52/100\n",
            "\u001b[1m1/1\u001b[0m \u001b[32m━━━━━━━━━━━━━━━━━━━━\u001b[0m\u001b[37m\u001b[0m \u001b[1m1s\u001b[0m 1s/step - loss: 0.0074\n",
            "Epoch 53/100\n",
            "\u001b[1m1/1\u001b[0m \u001b[32m━━━━━━━━━━━━━━━━━━━━\u001b[0m\u001b[37m\u001b[0m \u001b[1m1s\u001b[0m 1s/step - loss: 0.0079\n",
            "Epoch 54/100\n",
            "\u001b[1m1/1\u001b[0m \u001b[32m━━━━━━━━━━━━━━━━━━━━\u001b[0m\u001b[37m\u001b[0m \u001b[1m1s\u001b[0m 1s/step - loss: 0.0087\n",
            "Epoch 55/100\n",
            "\u001b[1m1/1\u001b[0m \u001b[32m━━━━━━━━━━━━━━━━━━━━\u001b[0m\u001b[37m\u001b[0m \u001b[1m1s\u001b[0m 1s/step - loss: 0.0089\n",
            "Epoch 56/100\n",
            "\u001b[1m1/1\u001b[0m \u001b[32m━━━━━━━━━━━━━━━━━━━━\u001b[0m\u001b[37m\u001b[0m \u001b[1m1s\u001b[0m 1s/step - loss: 0.0087\n",
            "Epoch 57/100\n",
            "\u001b[1m1/1\u001b[0m \u001b[32m━━━━━━━━━━━━━━━━━━━━\u001b[0m\u001b[37m\u001b[0m \u001b[1m1s\u001b[0m 1s/step - loss: 0.0083\n",
            "Epoch 58/100\n",
            "\u001b[1m1/1\u001b[0m \u001b[32m━━━━━━━━━━━━━━━━━━━━\u001b[0m\u001b[37m\u001b[0m \u001b[1m1s\u001b[0m 1s/step - loss: 0.0078\n",
            "Epoch 59/100\n",
            "\u001b[1m1/1\u001b[0m \u001b[32m━━━━━━━━━━━━━━━━━━━━\u001b[0m\u001b[37m\u001b[0m \u001b[1m1s\u001b[0m 1s/step - loss: 0.0075\n",
            "Epoch 60/100\n",
            "\u001b[1m1/1\u001b[0m \u001b[32m━━━━━━━━━━━━━━━━━━━━\u001b[0m\u001b[37m\u001b[0m \u001b[1m1s\u001b[0m 1s/step - loss: 0.0074\n",
            "Epoch 61/100\n",
            "\u001b[1m1/1\u001b[0m \u001b[32m━━━━━━━━━━━━━━━━━━━━\u001b[0m\u001b[37m\u001b[0m \u001b[1m1s\u001b[0m 1s/step - loss: 0.0076\n",
            "Epoch 62/100\n",
            "\u001b[1m1/1\u001b[0m \u001b[32m━━━━━━━━━━━━━━━━━━━━\u001b[0m\u001b[37m\u001b[0m \u001b[1m1s\u001b[0m 1s/step - loss: 0.0080\n",
            "Epoch 63/100\n",
            "\u001b[1m1/1\u001b[0m \u001b[32m━━━━━━━━━━━━━━━━━━━━\u001b[0m\u001b[37m\u001b[0m \u001b[1m1s\u001b[0m 1s/step - loss: 0.0081\n",
            "Epoch 64/100\n",
            "\u001b[1m1/1\u001b[0m \u001b[32m━━━━━━━━━━━━━━━━━━━━\u001b[0m\u001b[37m\u001b[0m \u001b[1m1s\u001b[0m 1s/step - loss: 0.0077\n",
            "Epoch 65/100\n",
            "\u001b[1m1/1\u001b[0m \u001b[32m━━━━━━━━━━━━━━━━━━━━\u001b[0m\u001b[37m\u001b[0m \u001b[1m1s\u001b[0m 1s/step - loss: 0.0073\n",
            "Epoch 66/100\n",
            "\u001b[1m1/1\u001b[0m \u001b[32m━━━━━━━━━━━━━━━━━━━━\u001b[0m\u001b[37m\u001b[0m \u001b[1m1s\u001b[0m 1s/step - loss: 0.0071\n",
            "Epoch 67/100\n",
            "\u001b[1m1/1\u001b[0m \u001b[32m━━━━━━━━━━━━━━━━━━━━\u001b[0m\u001b[37m\u001b[0m \u001b[1m1s\u001b[0m 1s/step - loss: 0.0073\n",
            "Epoch 68/100\n",
            "\u001b[1m1/1\u001b[0m \u001b[32m━━━━━━━━━━━━━━━━━━━━\u001b[0m\u001b[37m\u001b[0m \u001b[1m1s\u001b[0m 1s/step - loss: 0.0076\n",
            "Epoch 69/100\n",
            "\u001b[1m1/1\u001b[0m \u001b[32m━━━━━━━━━━━━━━━━━━━━\u001b[0m\u001b[37m\u001b[0m \u001b[1m1s\u001b[0m 1s/step - loss: 0.0076\n",
            "Epoch 70/100\n",
            "\u001b[1m1/1\u001b[0m \u001b[32m━━━━━━━━━━━━━━━━━━━━\u001b[0m\u001b[37m\u001b[0m \u001b[1m1s\u001b[0m 1s/step - loss: 0.0075\n",
            "Epoch 71/100\n",
            "\u001b[1m1/1\u001b[0m \u001b[32m━━━━━━━━━━━━━━━━━━━━\u001b[0m\u001b[37m\u001b[0m \u001b[1m1s\u001b[0m 1s/step - loss: 0.0072\n",
            "Epoch 72/100\n",
            "\u001b[1m1/1\u001b[0m \u001b[32m━━━━━━━━━━━━━━━━━━━━\u001b[0m\u001b[37m\u001b[0m \u001b[1m1s\u001b[0m 1s/step - loss: 0.0071\n",
            "Epoch 73/100\n",
            "\u001b[1m1/1\u001b[0m \u001b[32m━━━━━━━━━━━━━━━━━━━━\u001b[0m\u001b[37m\u001b[0m \u001b[1m1s\u001b[0m 1s/step - loss: 0.0072\n",
            "Epoch 74/100\n",
            "\u001b[1m1/1\u001b[0m \u001b[32m━━━━━━━━━━━━━━━━━━━━\u001b[0m\u001b[37m\u001b[0m \u001b[1m1s\u001b[0m 1s/step - loss: 0.0073\n",
            "Epoch 75/100\n",
            "\u001b[1m1/1\u001b[0m \u001b[32m━━━━━━━━━━━━━━━━━━━━\u001b[0m\u001b[37m\u001b[0m \u001b[1m1s\u001b[0m 1s/step - loss: 0.0073\n",
            "Epoch 76/100\n",
            "\u001b[1m1/1\u001b[0m \u001b[32m━━━━━━━━━━━━━━━━━━━━\u001b[0m\u001b[37m\u001b[0m \u001b[1m1s\u001b[0m 1s/step - loss: 0.0073\n",
            "Epoch 77/100\n",
            "\u001b[1m1/1\u001b[0m \u001b[32m━━━━━━━━━━━━━━━━━━━━\u001b[0m\u001b[37m\u001b[0m \u001b[1m1s\u001b[0m 1s/step - loss: 0.0072\n",
            "Epoch 78/100\n",
            "\u001b[1m1/1\u001b[0m \u001b[32m━━━━━━━━━━━━━━━━━━━━\u001b[0m\u001b[37m\u001b[0m \u001b[1m1s\u001b[0m 1s/step - loss: 0.0072\n",
            "Epoch 79/100\n",
            "\u001b[1m1/1\u001b[0m \u001b[32m━━━━━━━━━━━━━━━━━━━━\u001b[0m\u001b[37m\u001b[0m \u001b[1m1s\u001b[0m 1s/step - loss: 0.0071\n",
            "Epoch 80/100\n",
            "\u001b[1m1/1\u001b[0m \u001b[32m━━━━━━━━━━━━━━━━━━━━\u001b[0m\u001b[37m\u001b[0m \u001b[1m1s\u001b[0m 1s/step - loss: 0.0071\n",
            "Epoch 81/100\n",
            "\u001b[1m1/1\u001b[0m \u001b[32m━━━━━━━━━━━━━━━━━━━━\u001b[0m\u001b[37m\u001b[0m \u001b[1m1s\u001b[0m 1s/step - loss: 0.0072\n",
            "Epoch 82/100\n",
            "\u001b[1m1/1\u001b[0m \u001b[32m━━━━━━━━━━━━━━━━━━━━\u001b[0m\u001b[37m\u001b[0m \u001b[1m1s\u001b[0m 1s/step - loss: 0.0072\n",
            "Epoch 83/100\n",
            "\u001b[1m1/1\u001b[0m \u001b[32m━━━━━━━━━━━━━━━━━━━━\u001b[0m\u001b[37m\u001b[0m \u001b[1m1s\u001b[0m 1s/step - loss: 0.0072\n",
            "Epoch 84/100\n",
            "\u001b[1m1/1\u001b[0m \u001b[32m━━━━━━━━━━━━━━━━━━━━\u001b[0m\u001b[37m\u001b[0m \u001b[1m1s\u001b[0m 1s/step - loss: 0.0071\n",
            "Epoch 85/100\n",
            "\u001b[1m1/1\u001b[0m \u001b[32m━━━━━━━━━━━━━━━━━━━━\u001b[0m\u001b[37m\u001b[0m \u001b[1m1s\u001b[0m 1s/step - loss: 0.0071\n",
            "Epoch 86/100\n",
            "\u001b[1m1/1\u001b[0m \u001b[32m━━━━━━━━━━━━━━━━━━━━\u001b[0m\u001b[37m\u001b[0m \u001b[1m1s\u001b[0m 1s/step - loss: 0.0071\n",
            "Epoch 87/100\n",
            "\u001b[1m1/1\u001b[0m \u001b[32m━━━━━━━━━━━━━━━━━━━━\u001b[0m\u001b[37m\u001b[0m \u001b[1m1s\u001b[0m 1s/step - loss: 0.0071\n",
            "Epoch 88/100\n",
            "\u001b[1m1/1\u001b[0m \u001b[32m━━━━━━━━━━━━━━━━━━━━\u001b[0m\u001b[37m\u001b[0m \u001b[1m1s\u001b[0m 1s/step - loss: 0.0071\n",
            "Epoch 89/100\n",
            "\u001b[1m1/1\u001b[0m \u001b[32m━━━━━━━━━━━━━━━━━━━━\u001b[0m\u001b[37m\u001b[0m \u001b[1m1s\u001b[0m 1s/step - loss: 0.0071\n",
            "Epoch 90/100\n",
            "\u001b[1m1/1\u001b[0m \u001b[32m━━━━━━━━━━━━━━━━━━━━\u001b[0m\u001b[37m\u001b[0m \u001b[1m1s\u001b[0m 1s/step - loss: 0.0071\n",
            "Epoch 91/100\n",
            "\u001b[1m1/1\u001b[0m \u001b[32m━━━━━━━━━━━━━━━━━━━━\u001b[0m\u001b[37m\u001b[0m \u001b[1m1s\u001b[0m 1s/step - loss: 0.0071\n",
            "Epoch 92/100\n",
            "\u001b[1m1/1\u001b[0m \u001b[32m━━━━━━━━━━━━━━━━━━━━\u001b[0m\u001b[37m\u001b[0m \u001b[1m1s\u001b[0m 1s/step - loss: 0.0071\n",
            "Epoch 93/100\n",
            "\u001b[1m1/1\u001b[0m \u001b[32m━━━━━━━━━━━━━━━━━━━━\u001b[0m\u001b[37m\u001b[0m \u001b[1m1s\u001b[0m 1s/step - loss: 0.0071\n",
            "Epoch 94/100\n",
            "\u001b[1m1/1\u001b[0m \u001b[32m━━━━━━━━━━━━━━━━━━━━\u001b[0m\u001b[37m\u001b[0m \u001b[1m1s\u001b[0m 1s/step - loss: 0.0071\n",
            "Epoch 95/100\n",
            "\u001b[1m1/1\u001b[0m \u001b[32m━━━━━━━━━━━━━━━━━━━━\u001b[0m\u001b[37m\u001b[0m \u001b[1m1s\u001b[0m 1s/step - loss: 0.0071\n",
            "Epoch 96/100\n",
            "\u001b[1m1/1\u001b[0m \u001b[32m━━━━━━━━━━━━━━━━━━━━\u001b[0m\u001b[37m\u001b[0m \u001b[1m1s\u001b[0m 1s/step - loss: 0.0071\n",
            "Epoch 97/100\n",
            "\u001b[1m1/1\u001b[0m \u001b[32m━━━━━━━━━━━━━━━━━━━━\u001b[0m\u001b[37m\u001b[0m \u001b[1m1s\u001b[0m 1s/step - loss: 0.0071\n",
            "Epoch 98/100\n",
            "\u001b[1m1/1\u001b[0m \u001b[32m━━━━━━━━━━━━━━━━━━━━\u001b[0m\u001b[37m\u001b[0m \u001b[1m1s\u001b[0m 1s/step - loss: 0.0071\n",
            "Epoch 99/100\n",
            "\u001b[1m1/1\u001b[0m \u001b[32m━━━━━━━━━━━━━━━━━━━━\u001b[0m\u001b[37m\u001b[0m \u001b[1m1s\u001b[0m 1s/step - loss: 0.0071\n",
            "Epoch 100/100\n",
            "\u001b[1m1/1\u001b[0m \u001b[32m━━━━━━━━━━━━━━━━━━━━\u001b[0m\u001b[37m\u001b[0m \u001b[1m1s\u001b[0m 1s/step - loss: 0.0071\n"
          ]
        }
      ]
    },
    {
      "cell_type": "code",
      "source": [
        "X_test_tensor.shape,Y_test_tensor.shape\n"
      ],
      "metadata": {
        "colab": {
          "base_uri": "https://localhost:8080/"
        },
        "id": "_6YfWKZT0oUK",
        "outputId": "43612cab-aee1-4967-bdc3-d29659b74a5b"
      },
      "execution_count": 26,
      "outputs": [
        {
          "output_type": "execute_result",
          "data": {
            "text/plain": [
              "(TensorShape([1, 10551, 3]), TensorShape([1, 10551, 3]))"
            ]
          },
          "metadata": {},
          "execution_count": 26
        }
      ]
    },
    {
      "cell_type": "code",
      "source": [
        "# Truncate the input tensor if it's larger than 1000\n",
        "max_seq_length = 3000\n",
        "\n",
        "if X_test_tensor.shape[1] > max_seq_length:\n",
        "    X_test_tensor = X_test_tensor[:, :max_seq_length, :]\n",
        "    Y_test_tensor = Y_test_tensor[:, :max_seq_length, :]"
      ],
      "metadata": {
        "id": "q4QRhVDR0oXp"
      },
      "execution_count": 27,
      "outputs": []
    },
    {
      "cell_type": "code",
      "source": [
        "X_test_tensor.shape,Y_test_tensor.shape\n"
      ],
      "metadata": {
        "colab": {
          "base_uri": "https://localhost:8080/"
        },
        "id": "BFPjnBnJyW8D",
        "outputId": "5f1d7c2a-f1c8-41ee-d8b3-5a48f4b6ddd2"
      },
      "execution_count": 28,
      "outputs": [
        {
          "output_type": "execute_result",
          "data": {
            "text/plain": [
              "(TensorShape([1, 3000, 3]), TensorShape([1, 3000, 3]))"
            ]
          },
          "metadata": {},
          "execution_count": 28
        }
      ]
    },
    {
      "cell_type": "code",
      "source": [
        "# Make predictions\n",
        "predictions = model(X_test_tensor, training=False)\n",
        "\n",
        "# Compute Mean Squared Error\n",
        "mse = tf.reduce_mean(tf.square(predictions - Y_test_tensor))\n",
        "\n",
        "# Print the result\n",
        "print(\"MSE on last time step:\", mse.numpy())\n"
      ],
      "metadata": {
        "colab": {
          "base_uri": "https://localhost:8080/"
        },
        "id": "misOVXHN03-y",
        "outputId": "1fa74809-130b-4673-8ab2-936391cc58e2"
      },
      "execution_count": 29,
      "outputs": [
        {
          "output_type": "stream",
          "name": "stdout",
          "text": [
            "MSE on last time step: 0.007363064\n"
          ]
        }
      ]
    },
    {
      "cell_type": "code",
      "source": [
        "X_test_tensor"
      ],
      "metadata": {
        "colab": {
          "base_uri": "https://localhost:8080/"
        },
        "id": "iCiqOIPN04BS",
        "outputId": "5042bbc9-dab6-4a15-972b-0d8895aba1d9"
      },
      "execution_count": 30,
      "outputs": [
        {
          "output_type": "execute_result",
          "data": {
            "text/plain": [
              "<tf.Tensor: shape=(1, 3000, 3), dtype=float32, numpy=\n",
              "array([[[2.56999e+02, 0.00000e+00, 2.00000e-02],\n",
              "        [2.56999e+02, 0.00000e+00, 5.00000e-02],\n",
              "        [2.56999e+02, 0.00000e+00, 8.00000e-02],\n",
              "        ...,\n",
              "        [2.56999e+02, 5.50000e-02, 3.98020e-01],\n",
              "        [2.56999e+02, 5.50000e-02, 3.98755e-01],\n",
              "        [2.56999e+02, 5.50000e-02, 3.99410e-01]]], dtype=float32)>"
            ]
          },
          "metadata": {},
          "execution_count": 30
        }
      ]
    },
    {
      "cell_type": "code",
      "source": [
        "predictions=model.predict(X_test_tensor)\n",
        "predictions,predictions.shape"
      ],
      "metadata": {
        "colab": {
          "base_uri": "https://localhost:8080/"
        },
        "id": "WFifNFek04D8",
        "outputId": "90486cf0-de88-4645-f763-292ac1a2282f"
      },
      "execution_count": 31,
      "outputs": [
        {
          "output_type": "stream",
          "name": "stdout",
          "text": [
            "\u001b[1m1/1\u001b[0m \u001b[32m━━━━━━━━━━━━━━━━━━━━\u001b[0m\u001b[37m\u001b[0m \u001b[1m2s\u001b[0m 2s/step\n"
          ]
        },
        {
          "output_type": "execute_result",
          "data": {
            "text/plain": [
              "(array([[[0.95384383, 0.64283293, 0.8236018 ],\n",
              "         [0.953844  , 0.64283276, 0.8236013 ],\n",
              "         [0.9538441 , 0.6428332 , 0.82360077],\n",
              "         ...,\n",
              "         [0.95384157, 0.6428339 , 0.82360166],\n",
              "         [0.95384234, 0.6428343 , 0.823601  ],\n",
              "         [0.9538429 , 0.64283377, 0.8236014 ]]], dtype=float32),\n",
              " (1, 3000, 3))"
            ]
          },
          "metadata": {},
          "execution_count": 31
        }
      ]
    },
    {
      "cell_type": "code",
      "source": [
        "u_pred, v_pred, p_pred = predictions[0,:, 0], predictions[0,:, 1], predictions[0,:, 2]"
      ],
      "metadata": {
        "id": "RLs6VRpr09jO"
      },
      "execution_count": 33,
      "outputs": []
    },
    {
      "cell_type": "code",
      "source": [
        "u_pred.shape"
      ],
      "metadata": {
        "colab": {
          "base_uri": "https://localhost:8080/"
        },
        "id": "Zuu0TzkX09lo",
        "outputId": "ed4aef13-2ba8-4027-c260-505e963bcca1"
      },
      "execution_count": 34,
      "outputs": [
        {
          "output_type": "execute_result",
          "data": {
            "text/plain": [
              "(3000,)"
            ]
          },
          "metadata": {},
          "execution_count": 34
        }
      ]
    },
    {
      "cell_type": "code",
      "source": [
        "import pandas as pd\n",
        "import matplotlib.pyplot as plt\n",
        "import numpy as np"
      ],
      "metadata": {
        "id": "uPk2P97l09oK"
      },
      "execution_count": 35,
      "outputs": []
    },
    {
      "cell_type": "code",
      "source": [
        "def plot_color_map(x, y, value, title, color_map='viridis'):\n",
        "        plt.figure(figsize=(8, 6))\n",
        "        scatter = plt.scatter(x, y, c=value, cmap=color_map, s=10)\n",
        "        plt.colorbar(scatter, label=title)\n",
        "        plt.xlabel(\"X Coordinate\")\n",
        "        plt.ylabel(\"Y Coordinate\")\n",
        "        plt.title(f\"value at t = 252.999\")\n",
        "        plt.grid(True)\n",
        "        plt.show()"
      ],
      "metadata": {
        "id": "3NFbVzsP09ro"
      },
      "execution_count": 36,
      "outputs": []
    },
    {
      "cell_type": "code",
      "source": [
        "t"
      ],
      "metadata": {
        "colab": {
          "base_uri": "https://localhost:8080/"
        },
        "id": "RyHEhCkO04GY",
        "outputId": "9f3eb284-c176-4a68-dd92-fa7a26610bdc"
      },
      "execution_count": 37,
      "outputs": [
        {
          "output_type": "execute_result",
          "data": {
            "text/plain": [
              "np.float64(256.999)"
            ]
          },
          "metadata": {},
          "execution_count": 37
        }
      ]
    },
    {
      "cell_type": "code",
      "source": [
        "filtered_data=df_l_shape[df_l_shape['totime']==256.999]"
      ],
      "metadata": {
        "id": "j8WPYbrg04J4"
      },
      "execution_count": 47,
      "outputs": []
    },
    {
      "cell_type": "code",
      "source": [
        "x = filtered_data['x'][:3000]\n",
        "y = filtered_data['y'][:3000]\n",
        "p_actual=filtered_data['p'][:3000]\n",
        "u_actual=filtered_data['u'][:3000]\n",
        "v_actual=filtered_data['v'][:3000]"
      ],
      "metadata": {
        "id": "-9Wj1xrt3xhm"
      },
      "execution_count": 48,
      "outputs": []
    },
    {
      "cell_type": "code",
      "source": [
        "x.shape,u_pred.shape,y.shape,p_actual.shape"
      ],
      "metadata": {
        "colab": {
          "base_uri": "https://localhost:8080/"
        },
        "id": "XA0NnOJk3xkI",
        "outputId": "5dedfac0-96c0-43ed-fc12-d452dcd04515"
      },
      "execution_count": 49,
      "outputs": [
        {
          "output_type": "execute_result",
          "data": {
            "text/plain": [
              "((3000,), (3000,), (3000,), (3000,))"
            ]
          },
          "metadata": {},
          "execution_count": 49
        }
      ]
    },
    {
      "cell_type": "code",
      "source": [
        "p_pred"
      ],
      "metadata": {
        "colab": {
          "base_uri": "https://localhost:8080/"
        },
        "id": "x5P-Cw7F3xm8",
        "outputId": "973b8f39-f365-42ab-e661-9b0180efa780"
      },
      "execution_count": 50,
      "outputs": [
        {
          "output_type": "execute_result",
          "data": {
            "text/plain": [
              "array([0.8236018 , 0.8236013 , 0.82360077, ..., 0.82360166, 0.823601  ,\n",
              "       0.8236014 ], dtype=float32)"
            ]
          },
          "metadata": {},
          "execution_count": 50
        }
      ]
    },
    {
      "cell_type": "code",
      "source": [
        "u_pred"
      ],
      "metadata": {
        "colab": {
          "base_uri": "https://localhost:8080/"
        },
        "id": "HiBB8B7T3xpT",
        "outputId": "cbed5582-7054-42a1-8198-084048908310"
      },
      "execution_count": 51,
      "outputs": [
        {
          "output_type": "execute_result",
          "data": {
            "text/plain": [
              "array([0.95384383, 0.953844  , 0.9538441 , ..., 0.95384157, 0.95384234,\n",
              "       0.9538429 ], dtype=float32)"
            ]
          },
          "metadata": {},
          "execution_count": 51
        }
      ]
    },
    {
      "cell_type": "code",
      "source": [
        "v_pred"
      ],
      "metadata": {
        "colab": {
          "base_uri": "https://localhost:8080/"
        },
        "id": "m_RMZ9q95rUo",
        "outputId": "17743aac-a527-4372-9b6f-c30978a93bec"
      },
      "execution_count": 61,
      "outputs": [
        {
          "output_type": "execute_result",
          "data": {
            "text/plain": [
              "array([0.64283293, 0.64283276, 0.6428332 , ..., 0.6428339 , 0.6428343 ,\n",
              "       0.64283377], dtype=float32)"
            ]
          },
          "metadata": {},
          "execution_count": 61
        }
      ]
    },
    {
      "cell_type": "code",
      "source": [
        "v_actual"
      ],
      "metadata": {
        "colab": {
          "base_uri": "https://localhost:8080/",
          "height": 458
        },
        "id": "QSnzTi_b5siU",
        "outputId": "8d15e64e-ddac-4e5b-837c-2d9bf3f30606"
      },
      "execution_count": 59,
      "outputs": [
        {
          "output_type": "execute_result",
          "data": {
            "text/plain": [
              "823480    0.626984\n",
              "823481    0.595238\n",
              "823482    0.559524\n",
              "823483    0.527778\n",
              "823484    0.496032\n",
              "            ...   \n",
              "826475    0.242063\n",
              "826476    0.242063\n",
              "826477    0.246032\n",
              "826478    0.246032\n",
              "826479    0.246032\n",
              "Name: v, Length: 3000, dtype: float64"
            ],
            "text/html": [
              "<div>\n",
              "<style scoped>\n",
              "    .dataframe tbody tr th:only-of-type {\n",
              "        vertical-align: middle;\n",
              "    }\n",
              "\n",
              "    .dataframe tbody tr th {\n",
              "        vertical-align: top;\n",
              "    }\n",
              "\n",
              "    .dataframe thead th {\n",
              "        text-align: right;\n",
              "    }\n",
              "</style>\n",
              "<table border=\"1\" class=\"dataframe\">\n",
              "  <thead>\n",
              "    <tr style=\"text-align: right;\">\n",
              "      <th></th>\n",
              "      <th>v</th>\n",
              "    </tr>\n",
              "  </thead>\n",
              "  <tbody>\n",
              "    <tr>\n",
              "      <th>823480</th>\n",
              "      <td>0.626984</td>\n",
              "    </tr>\n",
              "    <tr>\n",
              "      <th>823481</th>\n",
              "      <td>0.595238</td>\n",
              "    </tr>\n",
              "    <tr>\n",
              "      <th>823482</th>\n",
              "      <td>0.559524</td>\n",
              "    </tr>\n",
              "    <tr>\n",
              "      <th>823483</th>\n",
              "      <td>0.527778</td>\n",
              "    </tr>\n",
              "    <tr>\n",
              "      <th>823484</th>\n",
              "      <td>0.496032</td>\n",
              "    </tr>\n",
              "    <tr>\n",
              "      <th>...</th>\n",
              "      <td>...</td>\n",
              "    </tr>\n",
              "    <tr>\n",
              "      <th>826475</th>\n",
              "      <td>0.242063</td>\n",
              "    </tr>\n",
              "    <tr>\n",
              "      <th>826476</th>\n",
              "      <td>0.242063</td>\n",
              "    </tr>\n",
              "    <tr>\n",
              "      <th>826477</th>\n",
              "      <td>0.246032</td>\n",
              "    </tr>\n",
              "    <tr>\n",
              "      <th>826478</th>\n",
              "      <td>0.246032</td>\n",
              "    </tr>\n",
              "    <tr>\n",
              "      <th>826479</th>\n",
              "      <td>0.246032</td>\n",
              "    </tr>\n",
              "  </tbody>\n",
              "</table>\n",
              "<p>3000 rows × 1 columns</p>\n",
              "</div><br><label><b>dtype:</b> float64</label>"
            ]
          },
          "metadata": {},
          "execution_count": 59
        }
      ]
    },
    {
      "cell_type": "code",
      "source": [
        "p_actual\n"
      ],
      "metadata": {
        "colab": {
          "base_uri": "https://localhost:8080/",
          "height": 458
        },
        "id": "AtTN6H_m3xr6",
        "outputId": "cade7898-e813-44fb-d2d1-32f01c52debd"
      },
      "execution_count": 63,
      "outputs": [
        {
          "output_type": "execute_result",
          "data": {
            "text/plain": [
              "823480    0.570539\n",
              "823481    0.568465\n",
              "823482    0.564315\n",
              "823483    0.560166\n",
              "823484    0.551867\n",
              "            ...   \n",
              "826475    0.307054\n",
              "826476    0.304979\n",
              "826477    0.304979\n",
              "826478    0.304979\n",
              "826479    0.304979\n",
              "Name: p, Length: 3000, dtype: float64"
            ],
            "text/html": [
              "<div>\n",
              "<style scoped>\n",
              "    .dataframe tbody tr th:only-of-type {\n",
              "        vertical-align: middle;\n",
              "    }\n",
              "\n",
              "    .dataframe tbody tr th {\n",
              "        vertical-align: top;\n",
              "    }\n",
              "\n",
              "    .dataframe thead th {\n",
              "        text-align: right;\n",
              "    }\n",
              "</style>\n",
              "<table border=\"1\" class=\"dataframe\">\n",
              "  <thead>\n",
              "    <tr style=\"text-align: right;\">\n",
              "      <th></th>\n",
              "      <th>p</th>\n",
              "    </tr>\n",
              "  </thead>\n",
              "  <tbody>\n",
              "    <tr>\n",
              "      <th>823480</th>\n",
              "      <td>0.570539</td>\n",
              "    </tr>\n",
              "    <tr>\n",
              "      <th>823481</th>\n",
              "      <td>0.568465</td>\n",
              "    </tr>\n",
              "    <tr>\n",
              "      <th>823482</th>\n",
              "      <td>0.564315</td>\n",
              "    </tr>\n",
              "    <tr>\n",
              "      <th>823483</th>\n",
              "      <td>0.560166</td>\n",
              "    </tr>\n",
              "    <tr>\n",
              "      <th>823484</th>\n",
              "      <td>0.551867</td>\n",
              "    </tr>\n",
              "    <tr>\n",
              "      <th>...</th>\n",
              "      <td>...</td>\n",
              "    </tr>\n",
              "    <tr>\n",
              "      <th>826475</th>\n",
              "      <td>0.307054</td>\n",
              "    </tr>\n",
              "    <tr>\n",
              "      <th>826476</th>\n",
              "      <td>0.304979</td>\n",
              "    </tr>\n",
              "    <tr>\n",
              "      <th>826477</th>\n",
              "      <td>0.304979</td>\n",
              "    </tr>\n",
              "    <tr>\n",
              "      <th>826478</th>\n",
              "      <td>0.304979</td>\n",
              "    </tr>\n",
              "    <tr>\n",
              "      <th>826479</th>\n",
              "      <td>0.304979</td>\n",
              "    </tr>\n",
              "  </tbody>\n",
              "</table>\n",
              "<p>3000 rows × 1 columns</p>\n",
              "</div><br><label><b>dtype:</b> float64</label>"
            ]
          },
          "metadata": {},
          "execution_count": 63
        }
      ]
    },
    {
      "cell_type": "code",
      "source": [
        "u_actual"
      ],
      "metadata": {
        "colab": {
          "base_uri": "https://localhost:8080/",
          "height": 458
        },
        "id": "hXIvhngF3xuJ",
        "outputId": "3bd7e118-f3de-46f8-ed1f-42f3ee745a4b"
      },
      "execution_count": 53,
      "outputs": [
        {
          "output_type": "execute_result",
          "data": {
            "text/plain": [
              "823480    0.949192\n",
              "823481    0.949384\n",
              "823482    0.949769\n",
              "823483    0.950539\n",
              "823484    0.951309\n",
              "            ...   \n",
              "826475    0.979022\n",
              "826476    0.979215\n",
              "826477    0.979215\n",
              "826478    0.979215\n",
              "826479    0.979215\n",
              "Name: u, Length: 3000, dtype: float64"
            ],
            "text/html": [
              "<div>\n",
              "<style scoped>\n",
              "    .dataframe tbody tr th:only-of-type {\n",
              "        vertical-align: middle;\n",
              "    }\n",
              "\n",
              "    .dataframe tbody tr th {\n",
              "        vertical-align: top;\n",
              "    }\n",
              "\n",
              "    .dataframe thead th {\n",
              "        text-align: right;\n",
              "    }\n",
              "</style>\n",
              "<table border=\"1\" class=\"dataframe\">\n",
              "  <thead>\n",
              "    <tr style=\"text-align: right;\">\n",
              "      <th></th>\n",
              "      <th>u</th>\n",
              "    </tr>\n",
              "  </thead>\n",
              "  <tbody>\n",
              "    <tr>\n",
              "      <th>823480</th>\n",
              "      <td>0.949192</td>\n",
              "    </tr>\n",
              "    <tr>\n",
              "      <th>823481</th>\n",
              "      <td>0.949384</td>\n",
              "    </tr>\n",
              "    <tr>\n",
              "      <th>823482</th>\n",
              "      <td>0.949769</td>\n",
              "    </tr>\n",
              "    <tr>\n",
              "      <th>823483</th>\n",
              "      <td>0.950539</td>\n",
              "    </tr>\n",
              "    <tr>\n",
              "      <th>823484</th>\n",
              "      <td>0.951309</td>\n",
              "    </tr>\n",
              "    <tr>\n",
              "      <th>...</th>\n",
              "      <td>...</td>\n",
              "    </tr>\n",
              "    <tr>\n",
              "      <th>826475</th>\n",
              "      <td>0.979022</td>\n",
              "    </tr>\n",
              "    <tr>\n",
              "      <th>826476</th>\n",
              "      <td>0.979215</td>\n",
              "    </tr>\n",
              "    <tr>\n",
              "      <th>826477</th>\n",
              "      <td>0.979215</td>\n",
              "    </tr>\n",
              "    <tr>\n",
              "      <th>826478</th>\n",
              "      <td>0.979215</td>\n",
              "    </tr>\n",
              "    <tr>\n",
              "      <th>826479</th>\n",
              "      <td>0.979215</td>\n",
              "    </tr>\n",
              "  </tbody>\n",
              "</table>\n",
              "<p>3000 rows × 1 columns</p>\n",
              "</div><br><label><b>dtype:</b> float64</label>"
            ]
          },
          "metadata": {},
          "execution_count": 53
        }
      ]
    },
    {
      "cell_type": "code",
      "source": [
        "fig, ax = plt.subplots(2, 1)\n",
        "# Assuming `x`, `y`, and `p_pred` are the x-coordinates, y-coordinates, and predicted pressure values\n",
        "cntr0 = ax[0].tricontourf(x, y, p_pred, levels=80, cmap=\"rainbow\")\n",
        "\n",
        "cb0 = plt.colorbar(cntr0, ax=ax[0])\n",
        "cntr1 = ax[1].tricontourf(x, y, u_pred, levels=80, cmap=\"rainbow\")\n",
        "cb1 = plt.colorbar(cntr1, ax=ax[1])\n",
        "ax[0].set_title(\"p-pred \" + \"(t=\" + str(t) + \")\", fontsize=9.5)\n",
        "ax[0].axis(\"scaled\")\n",
        "ax[0].set_xlabel(\"X\", fontsize=7.5)\n",
        "ax[0].set_ylabel(\"Y\", fontsize=7.5)\n",
        "ax[1].set_title(\"u-pred \" + \"(t=\" + str(t) + \")\", fontsize=9.5)\n",
        "ax[1].axis(\"scaled\")\n",
        "ax[1].set_xlabel(\"X\", fontsize=7.5)\n",
        "ax[1].set_ylabel(\"Y\", fontsize=7.5)\n",
        "fig.tight_layout()\n",
        "plt.show()"
      ],
      "metadata": {
        "colab": {
          "base_uri": "https://localhost:8080/",
          "height": 487
        },
        "id": "dxNW9Bjz3xxw",
        "outputId": "691f0414-0725-496e-d06c-d9dcdf908ef8"
      },
      "execution_count": 54,
      "outputs": [
        {
          "output_type": "display_data",
          "data": {
            "text/plain": [
              "<Figure size 640x480 with 4 Axes>"
            ],
            "image/png": "[encoded data removed]"
          },
          "metadata": {}
        }
      ]
    },
    {
      "cell_type": "code",
      "source": [
        "fig, ax = plt.subplots(2, 1)\n",
        "# Assuming `x`, `y`, and `p_pred` are the x-coordinates, y-coordinates, and predicted pressure values\n",
        "cntr0 = ax[0].tricontourf(x, y, p_pred, levels=80, cmap=\"rainbow\")\n",
        "\n",
        "cb0 = plt.colorbar(cntr0, ax=ax[0])\n",
        "cntr1 = ax[1].tricontourf(x, y, v_pred, levels=80, cmap=\"rainbow\")\n",
        "cb1 = plt.colorbar(cntr1, ax=ax[1])\n",
        "ax[0].set_title(\"p-pred \" + \"(t=\" + str(t) + \")\", fontsize=9.5)\n",
        "ax[0].axis(\"scaled\")\n",
        "ax[0].set_xlabel(\"X\", fontsize=7.5)\n",
        "ax[0].set_ylabel(\"Y\", fontsize=7.5)\n",
        "ax[1].set_title(\"u-pred \" + \"(t=\" + str(t) + \")\", fontsize=9.5)\n",
        "ax[1].axis(\"scaled\")\n",
        "ax[1].set_xlabel(\"X\", fontsize=7.5)\n",
        "ax[1].set_ylabel(\"Y\", fontsize=7.5)\n",
        "fig.tight_layout()\n",
        "plt.show()"
      ],
      "metadata": {
        "colab": {
          "base_uri": "https://localhost:8080/",
          "height": 487
        },
        "id": "ZwGmeeh-4Euh",
        "outputId": "21d8a6b2-5c7e-49ec-d9cc-8609b4a274a4"
      },
      "execution_count": 55,
      "outputs": [
        {
          "output_type": "display_data",
          "data": {
            "text/plain": [
              "<Figure size 640x480 with 4 Axes>"
            ],
            "image/png": "[encoded data removed]"
          },
          "metadata": {}
        }
      ]
    }
  ]
}